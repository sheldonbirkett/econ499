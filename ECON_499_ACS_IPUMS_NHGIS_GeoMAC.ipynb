{
 "cells": [
  {
   "cell_type": "markdown",
   "metadata": {
    "id": "x8iV7dg5IHWq"
   },
   "source": [
    "### ACS IPUMS NHGIS - Basic Data Preparation"
   ]
  },
  {
   "cell_type": "code",
   "execution_count": 1,
   "metadata": {
    "colab": {
     "base_uri": "https://localhost:8080/"
    },
    "id": "jY-XNLBLINyH",
    "outputId": "02acd234-c0f1-45aa-d555-13cddaf31d9e"
   },
   "outputs": [
    {
     "name": "stderr",
     "output_type": "stream",
     "text": [
      "'apt' is not recognized as an internal or external command,\n",
      "operable program or batch file.\n",
      "'apt' is not recognized as an internal or external command,\n",
      "operable program or batch file.\n"
     ]
    },
    {
     "name": "stdout",
     "output_type": "stream",
     "text": [
      "Collecting git+git://github.com/geopandas/geopandas.git\n",
      "  Cloning git://github.com/geopandas/geopandas.git to c:\\users\\sheld\\appdata\\local\\temp\\pip-req-build-cxykp3tc\n",
      "Requirement already satisfied (use --upgrade to upgrade): geopandas==0.8.0+98.gefea225 from git+git://github.com/geopandas/geopandas.git in c:\\users\\sheld\\anaconda3\\lib\\site-packages\n",
      "Requirement already satisfied: pandas>=0.24.0 in c:\\users\\sheld\\anaconda3\\lib\\site-packages (from geopandas==0.8.0+98.gefea225) (1.0.1)\n",
      "Requirement already satisfied: shapely>=1.6 in c:\\users\\sheld\\anaconda3\\lib\\site-packages (from geopandas==0.8.0+98.gefea225) (1.7.1)\n",
      "Requirement already satisfied: fiona>=1.8 in c:\\users\\sheld\\anaconda3\\lib\\site-packages (from geopandas==0.8.0+98.gefea225) (1.8.18)\n",
      "Requirement already satisfied: pyproj>=2.2.0 in c:\\users\\sheld\\anaconda3\\lib\\site-packages (from geopandas==0.8.0+98.gefea225) (3.0.0.post1)\n",
      "Requirement already satisfied: pytz>=2017.2 in c:\\users\\sheld\\anaconda3\\lib\\site-packages (from pandas>=0.24.0->geopandas==0.8.0+98.gefea225) (2019.3)\n",
      "Requirement already satisfied: python-dateutil>=2.6.1 in c:\\users\\sheld\\anaconda3\\lib\\site-packages (from pandas>=0.24.0->geopandas==0.8.0+98.gefea225) (2.8.1)\n",
      "Requirement already satisfied: numpy>=1.13.3 in c:\\users\\sheld\\anaconda3\\lib\\site-packages (from pandas>=0.24.0->geopandas==0.8.0+98.gefea225) (1.18.1)\n",
      "Requirement already satisfied: click-plugins>=1.0 in c:\\users\\sheld\\anaconda3\\lib\\site-packages (from fiona>=1.8->geopandas==0.8.0+98.gefea225) (1.1.1)\n",
      "Requirement already satisfied: cligj>=0.5 in c:\\users\\sheld\\anaconda3\\lib\\site-packages (from fiona>=1.8->geopandas==0.8.0+98.gefea225) (0.7.1)\n",
      "Requirement already satisfied: six>=1.7 in c:\\users\\sheld\\anaconda3\\lib\\site-packages (from fiona>=1.8->geopandas==0.8.0+98.gefea225) (1.14.0)\n",
      "Requirement already satisfied: certifi in c:\\users\\sheld\\anaconda3\\lib\\site-packages (from fiona>=1.8->geopandas==0.8.0+98.gefea225) (2019.11.28)\n",
      "Requirement already satisfied: munch in c:\\users\\sheld\\anaconda3\\lib\\site-packages (from fiona>=1.8->geopandas==0.8.0+98.gefea225) (2.5.0)\n",
      "Requirement already satisfied: gdal~=3.1.2 in c:\\users\\sheld\\anaconda3\\lib\\site-packages (from fiona>=1.8->geopandas==0.8.0+98.gefea225) (3.1.4)\n",
      "Requirement already satisfied: click<8,>=4.0 in c:\\users\\sheld\\anaconda3\\lib\\site-packages (from fiona>=1.8->geopandas==0.8.0+98.gefea225) (7.1.2)\n",
      "Requirement already satisfied: attrs>=17 in c:\\users\\sheld\\anaconda3\\lib\\site-packages (from fiona>=1.8->geopandas==0.8.0+98.gefea225) (19.3.0)\n",
      "Building wheels for collected packages: geopandas\n",
      "  Building wheel for geopandas (setup.py): started\n",
      "  Building wheel for geopandas (setup.py): finished with status 'done'\n",
      "  Created wheel for geopandas: filename=geopandas-0.8.0+98.gefea225-py2.py3-none-any.whl size=981829 sha256=912248583ceb2a6dc4d5cf81a3d772e18b21e483b9d68e3b00c0099b7ed09a4f\n",
      "  Stored in directory: C:\\Users\\sheld\\AppData\\Local\\Temp\\pip-ephem-wheel-cache-0s05hmba\\wheels\\cf\\3e\\0b\\6475054094c2b1ea054158ac1fdcf749fb92f5b512377e4cf8\n",
      "Successfully built geopandas\n"
     ]
    },
    {
     "name": "stderr",
     "output_type": "stream",
     "text": [
      "  Running command git clone -q git://github.com/geopandas/geopandas.git 'C:\\Users\\sheld\\AppData\\Local\\Temp\\pip-req-build-cxykp3tc'\n"
     ]
    },
    {
     "name": "stdout",
     "output_type": "stream",
     "text": [
      "Requirement already satisfied: descartes in c:\\users\\sheld\\anaconda3\\lib\\site-packages (1.1.0)\n",
      "Requirement already satisfied: matplotlib in c:\\users\\sheld\\anaconda3\\lib\\site-packages (from descartes) (3.1.3)\n",
      "Requirement already satisfied: pyparsing!=2.0.4,!=2.1.2,!=2.1.6,>=2.0.1 in c:\\users\\sheld\\anaconda3\\lib\\site-packages (from matplotlib->descartes) (2.4.6)\n",
      "Requirement already satisfied: cycler>=0.10 in c:\\users\\sheld\\anaconda3\\lib\\site-packages (from matplotlib->descartes) (0.10.0)\n",
      "Requirement already satisfied: numpy>=1.11 in c:\\users\\sheld\\anaconda3\\lib\\site-packages (from matplotlib->descartes) (1.18.1)\n",
      "Requirement already satisfied: python-dateutil>=2.1 in c:\\users\\sheld\\anaconda3\\lib\\site-packages (from matplotlib->descartes) (2.8.1)\n",
      "Requirement already satisfied: kiwisolver>=1.0.1 in c:\\users\\sheld\\anaconda3\\lib\\site-packages (from matplotlib->descartes) (1.1.0)\n",
      "Requirement already satisfied: six in c:\\users\\sheld\\anaconda3\\lib\\site-packages (from cycler>=0.10->matplotlib->descartes) (1.14.0)\n",
      "Requirement already satisfied: setuptools in c:\\users\\sheld\\anaconda3\\lib\\site-packages (from kiwisolver>=1.0.1->matplotlib->descartes) (45.2.0.post20200210)\n",
      "Requirement already satisfied: folium in c:\\users\\sheld\\anaconda3\\lib\\site-packages (0.0.0)\n",
      "Requirement already satisfied: branca>=0.3.0 in c:\\users\\sheld\\anaconda3\\lib\\site-packages (from folium) (0.4.0)\n",
      "Requirement already satisfied: requests in c:\\users\\sheld\\anaconda3\\lib\\site-packages (from folium) (2.22.0)\n",
      "Requirement already satisfied: jinja2>=2.9 in c:\\users\\sheld\\anaconda3\\lib\\site-packages (from folium) (2.11.1)\n",
      "Requirement already satisfied: numpy in c:\\users\\sheld\\anaconda3\\lib\\site-packages (from folium) (1.18.1)\n",
      "Requirement already satisfied: six in c:\\users\\sheld\\anaconda3\\lib\\site-packages (from branca>=0.3.0->folium) (1.14.0)\n",
      "Requirement already satisfied: chardet<3.1.0,>=3.0.2 in c:\\users\\sheld\\anaconda3\\lib\\site-packages (from requests->folium) (3.0.4)\n",
      "Requirement already satisfied: idna<2.9,>=2.5 in c:\\users\\sheld\\anaconda3\\lib\\site-packages (from requests->folium) (2.8)\n",
      "Requirement already satisfied: urllib3!=1.25.0,!=1.25.1,<1.26,>=1.21.1 in c:\\users\\sheld\\anaconda3\\lib\\site-packages (from requests->folium) (1.25.8)\n",
      "Requirement already satisfied: certifi>=2017.4.17 in c:\\users\\sheld\\anaconda3\\lib\\site-packages (from requests->folium) (2019.11.28)\n",
      "Requirement already satisfied: MarkupSafe>=0.23 in c:\\users\\sheld\\anaconda3\\lib\\site-packages (from jinja2>=2.9->folium) (1.1.1)\n",
      "Requirement already satisfied: plotly_express in c:\\users\\sheld\\anaconda3\\lib\\site-packages (0.4.1)\n",
      "Requirement already satisfied: numpy>=1.11 in c:\\users\\sheld\\anaconda3\\lib\\site-packages (from plotly_express) (1.18.1)\n",
      "Requirement already satisfied: patsy>=0.5 in c:\\users\\sheld\\anaconda3\\lib\\site-packages (from plotly_express) (0.5.1)\n",
      "Requirement already satisfied: statsmodels>=0.9.0 in c:\\users\\sheld\\anaconda3\\lib\\site-packages (from plotly_express) (0.11.0)\n",
      "Requirement already satisfied: plotly>=4.1.0 in c:\\users\\sheld\\anaconda3\\lib\\site-packages (from plotly_express) (4.6.0)\n",
      "Requirement already satisfied: pandas>=0.20.0 in c:\\users\\sheld\\anaconda3\\lib\\site-packages (from plotly_express) (1.0.1)\n",
      "Requirement already satisfied: scipy>=0.18 in c:\\users\\sheld\\anaconda3\\lib\\site-packages (from plotly_express) (1.4.1)\n",
      "Requirement already satisfied: six in c:\\users\\sheld\\anaconda3\\lib\\site-packages (from patsy>=0.5->plotly_express) (1.14.0)\n",
      "Requirement already satisfied: retrying>=1.3.3 in c:\\users\\sheld\\anaconda3\\lib\\site-packages (from plotly>=4.1.0->plotly_express) (1.3.3)\n",
      "Requirement already satisfied: pytz>=2017.2 in c:\\users\\sheld\\anaconda3\\lib\\site-packages (from pandas>=0.20.0->plotly_express) (2019.3)\n",
      "Requirement already satisfied: python-dateutil>=2.6.1 in c:\\users\\sheld\\anaconda3\\lib\\site-packages (from pandas>=0.20.0->plotly_express) (2.8.1)\n",
      "Wall time: 1min 3s\n"
     ]
    }
   ],
   "source": [
    "%%time \n",
    "\n",
    "# Important library for many geopython libraries\n",
    "!apt install gdal-bin python-gdal python3-gdal \n",
    "# Install rtree - Geopandas requirment\n",
    "!apt install python3-rtree \n",
    "# Install Geopandas\n",
    "!pip install git+git://github.com/geopandas/geopandas.git\n",
    "# Install descartes - Geopandas requirment\n",
    "!pip install descartes \n",
    "# Install Folium for Geographic data visualization\n",
    "!pip install folium\n",
    "# Install plotlyExpress\n",
    "!pip install plotly_express"
   ]
  },
  {
   "cell_type": "code",
   "execution_count": 1,
   "metadata": {
    "colab": {
     "base_uri": "https://localhost:8080/"
    },
    "id": "HiyX8qn-IYTv",
    "outputId": "5fb9b5d7-6419-4311-ab61-b6cb04c9fed3"
   },
   "outputs": [],
   "source": [
    "import pandas as pd\n",
    "import numpy as np\n",
    "import re\n",
    "import geopandas as gpd\n",
    "from shapely.geometry import Point\n",
    "from shapely.geometry import MultiPolygon\n",
    "from shapely.geometry import Polygon, LineString\n",
    "import matplotlib\n",
    "import matplotlib.pyplot as plt \n",
    "import folium\n",
    "import plotly_express as px\n",
    "\n",
    "pd.set_option('display.expand_frame_repr', False)\n",
    "pd.set_option('display.precision', 2)\n",
    "\n",
    "# from google.colab import drive\n",
    "# drive.mount('/content/drive')"
   ]
  },
  {
   "cell_type": "code",
   "execution_count": 2,
   "metadata": {
    "id": "qttzLNc5P9XL"
   },
   "outputs": [],
   "source": [
    "def import_csv(content):\n",
    "    \"\"\"Read in csv as a dataframe\"\"\"\n",
    "    acs_data = pd.read_csv(content, encoding= 'unicode_escape')\n",
    "    return acs_data"
   ]
  },
  {
   "cell_type": "code",
   "execution_count": 3,
   "metadata": {
    "id": "KODz7a8kJIgb"
   },
   "outputs": [],
   "source": [
    "def rename_variables(dataframe, dictionary):\n",
    "    \"\"\"Renames columns of a dataframe given dictionary\"\"\"\n",
    "    dataframe = dataframe.rename(columns = dictionary)\n",
    "    return dataframe"
   ]
  },
  {
   "cell_type": "code",
   "execution_count": 4,
   "metadata": {
    "id": "T6p1CuC2K9Zo"
   },
   "outputs": [],
   "source": [
    "def strip_dict_keys_values(d):\n",
    "    \"\"\"To remove white-space in keys and values in dictionary\"\"\"\n",
    "    def strip_list(l):\n",
    "        return [strip_dict_keys_values(x)\n",
    "                if isinstance(x, dict) else strip_list(x)\n",
    "                if isinstance(x, list) else clean(x) for x in l]\n",
    "\n",
    "    def clean(value):\n",
    "        if isinstance(value, str):\n",
    "            return value.strip()\n",
    "        return value\n",
    "\n",
    "    return {key.strip(): strip_dict_keys_values(value)\n",
    "            if isinstance(value, dict) else strip_list(value)\n",
    "            if isinstance(value, list) else clean(value)\n",
    "            if value is None else clean(value)\n",
    "            for key, value in d.items()}"
   ]
  },
  {
   "cell_type": "code",
   "execution_count": 5,
   "metadata": {
    "id": "Sn4pzcAReVQr"
   },
   "outputs": [],
   "source": [
    "def block_groups(list_bg_data):\n",
    "    \"\"\"Takes in list of block group shapefiles return files concat together for 11 states.\"\"\"\n",
    "    block_group_shp = [0]*11\n",
    "    for i in range(len(list_bg_data)):\n",
    "        block_group_shp[i] = gpd.read_file(list_bg_data[i])\n",
    "\n",
    "    block_group_con = pd.concat(block_group_shp, axis = 0)\n",
    "    block_group_con = block_group_con.reset_index()\n",
    "    \n",
    "    return block_group_con"
   ]
  },
  {
   "cell_type": "code",
   "execution_count": 6,
   "metadata": {},
   "outputs": [],
   "source": [
    "def block_groups_us(bg_data):\n",
    "    \"\"\"Reads in shp files for all US block groups\"\"\"\n",
    "    block_group_con = gpd.read_file(bg_data)\n",
    "    return block_group_con"
   ]
  },
  {
   "cell_type": "code",
   "execution_count": 7,
   "metadata": {
    "id": "7tXuJhc41-aR"
   },
   "outputs": [],
   "source": [
    "def cpi_adjustment(Year_1, Year_2, data_CPI):\n",
    "    \"\"\"Calculates Inflation Adjustment Factor for dollar denominated variables\"\"\"\n",
    "    \"\"\"Uses  R-CPI-U-RS, All items CPI estimates from https://www.bls.gov/cpi/research-series/r-cpi-u-rs-home.htm\"\"\"\n",
    "    CPI_i = data_CPI.set_index(\"ï»¿YEAR\")\n",
    "    CPI_p2 = CPI_i.at[Year_2,\"AVG\"]\n",
    "    CPI_p1 = CPI_i.at[Year_1,\"AVG\"]\n",
    "    Inflation_Adjustment_Factor = CPI_p2/CPI_p1\n",
    "    return Inflation_Adjustment_Factor\n"
   ]
  },
  {
   "cell_type": "code",
   "execution_count": 8,
   "metadata": {},
   "outputs": [],
   "source": [
    "ACS5_2009 = import_csv(r\"C:\\Users\\sheld\\Documents\\nhgis0005_csv\\nhgis0005_ds195_20095_2009_blck_grp.csv\")"
   ]
  },
  {
   "cell_type": "code",
   "execution_count": 9,
   "metadata": {
    "id": "5r4G5ZeJQn_a"
   },
   "outputs": [],
   "source": [
    "ACS5_2019 = import_csv(r'C:\\Users\\sheld\\Documents\\Thesis_Data_Full_United_States\\nhgis0003_csv\\nhgis0003_ds244_20195_2019_blck_grp.csv')"
   ]
  },
  {
   "cell_type": "code",
   "execution_count": 10,
   "metadata": {
    "id": "TRjCLt4nRkHU"
   },
   "outputs": [],
   "source": [
    "ACS5_2014 = import_csv(r'C:\\Users\\sheld\\Documents\\Thesis_Data_Full_United_States\\nhgis0004_csv\\nhgis0004_ds206_20145_2014_blck_grp.csv')"
   ]
  },
  {
   "cell_type": "code",
   "execution_count": 11,
   "metadata": {
    "id": "MaPK6LdoawUB"
   },
   "outputs": [],
   "source": [
    "# ACS5_2019_names = import_csv(r'C:\\Users\\sheld\\Documents\\Thesis_Data_Full_United_States\\nhgis_2019_varaible_names.csv')\n",
    "# ACS5_2014_names = import_csv(r'C:\\Users\\sheld\\Documents\\Thesis_Data_Full_United_States\\nhgis_2014_variable_names.csv')\n",
    "# ACS5_2009_names = import_csv(r\"C:\\Users\\sheld\\Documents\\nhgis0005_csv\\nhgis_2009_variable_names.csv\")\n",
    "\n",
    "ACS5_2019_names = import_csv(r\"C:\\Users\\sheld\\Documents\\Thesis_Data_Full_United_States\\nhgis_2019_varaible_names_Updated.csv\")\n",
    "ACS5_2014_names = import_csv(r\"C:\\Users\\sheld\\Documents\\Thesis_Data_Full_United_States\\nhgis_2014_variable_names_Updated.csv\")\n",
    "ACS5_2009_names = import_csv(r\"C:\\Users\\sheld\\Documents\\Thesis_Data_Full_United_States\\nhgis_2009_variable_names_Updated.csv\")"
   ]
  },
  {
   "cell_type": "code",
   "execution_count": 12,
   "metadata": {
    "id": "ZtgaJ8Bxy3hd"
   },
   "outputs": [],
   "source": [
    "CPI = import_csv(r'C:\\Users\\sheld\\Documents\\Thesis_Data_Full_United_States\\r-cpi-u-rs-allitems (1).csv')"
   ]
  },
  {
   "cell_type": "markdown",
   "metadata": {
    "id": "MGkcFoSKRuOy"
   },
   "source": [
    "Code below to rename variables from GIS names. "
   ]
  },
  {
   "cell_type": "code",
   "execution_count": 13,
   "metadata": {
    "id": "V6efNmVrkaWg"
   },
   "outputs": [],
   "source": [
    "# ACS5_2019_names = ACS5_2019_names.drop(columns = ['1','2','3','4','5','6','7','8','9'])\n",
    "# ACS5_2014_names = ACS5_2014_names.drop(columns = ['1','2','3','4','5','6','7','8','9'])"
   ]
  },
  {
   "cell_type": "code",
   "execution_count": 14,
   "metadata": {
    "id": "NgUZMuaSFhMt"
   },
   "outputs": [],
   "source": [
    "dictionary_2019 = dict(ACS5_2019_names.values.tolist())\n",
    "dictionary_2014 = dict(ACS5_2014_names.values.tolist())\n",
    "dictionary_2009 = dict(ACS5_2009_names.values.tolist())"
   ]
  },
  {
   "cell_type": "code",
   "execution_count": 15,
   "metadata": {
    "id": "p6IaUcXLLe9K"
   },
   "outputs": [],
   "source": [
    "dictionary_2019_new = strip_dict_keys_values(dictionary_2019) # remove whitespace from dictionary. \n",
    "dictionary_2014_new = strip_dict_keys_values(dictionary_2014) # remove whitespace from dictionary. \n",
    "dictionary_2009_new = strip_dict_keys_values(dictionary_2009)"
   ]
  },
  {
   "cell_type": "code",
   "execution_count": 16,
   "metadata": {
    "id": "IFZDoaRKJ4sC"
   },
   "outputs": [],
   "source": [
    "# ACS5_2019_new = rename_variables(ACS5_2019, dictionary_2019_new) #rename variables, variables with ending in M are margins of error. \n",
    "# ACS5_2014_new = rename_variables(ACS5_2014, dictionary_2014_new)\n",
    "# ACS5_2009_new = rename_variables(ACS5_2009, dictionary_2009_new)"
   ]
  },
  {
   "cell_type": "code",
   "execution_count": 17,
   "metadata": {
    "id": "WEiLMXAsNFNo"
   },
   "outputs": [],
   "source": [
    "# block_groups_2019 = ['/content/drive/MyDrive/Colab Notebooks/ACS_IPUMS_NHGIS_Data/ACS5_2019_nhgis0002_shape/nhgis0002_shapefile_tl2019_040_blck_grp_2019.zip','/content/drive/MyDrive/Colab Notebooks/ACS_IPUMS_NHGIS_Data/ACS5_2019_nhgis0002_shape/nhgis0002_shapefile_tl2019_060_blck_grp_2019.zip','/content/drive/MyDrive/Colab Notebooks/ACS_IPUMS_NHGIS_Data/ACS5_2019_nhgis0002_shape/nhgis0002_shapefile_tl2019_080_blck_grp_2019.zip','/content/drive/MyDrive/Colab Notebooks/ACS_IPUMS_NHGIS_Data/ACS5_2019_nhgis0002_shape/nhgis0002_shapefile_tl2019_160_blck_grp_2019.zip','/content/drive/MyDrive/Colab Notebooks/ACS_IPUMS_NHGIS_Data/ACS5_2019_nhgis0002_shape/nhgis0002_shapefile_tl2019_300_blck_grp_2019.zip','/content/drive/MyDrive/Colab Notebooks/ACS_IPUMS_NHGIS_Data/ACS5_2019_nhgis0002_shape/nhgis0002_shapefile_tl2019_320_blck_grp_2019.zip','/content/drive/MyDrive/Colab Notebooks/ACS_IPUMS_NHGIS_Data/ACS5_2019_nhgis0002_shape/nhgis0002_shapefile_tl2019_350_blck_grp_2019.zip','/content/drive/MyDrive/Colab Notebooks/ACS_IPUMS_NHGIS_Data/ACS5_2019_nhgis0002_shape/nhgis0002_shapefile_tl2019_410_blck_grp_2019.zip','/content/drive/MyDrive/Colab Notebooks/ACS_IPUMS_NHGIS_Data/ACS5_2019_nhgis0002_shape/nhgis0002_shapefile_tl2019_490_blck_grp_2019.zip','/content/drive/MyDrive/Colab Notebooks/ACS_IPUMS_NHGIS_Data/ACS5_2019_nhgis0002_shape/nhgis0002_shapefile_tl2019_530_blck_grp_2019.zip','/content/drive/MyDrive/Colab Notebooks/ACS_IPUMS_NHGIS_Data/ACS5_2019_nhgis0002_shape/nhgis0002_shapefile_tl2019_560_blck_grp_2019.zip']\n",
    "# block_groups_2014 = ['/content/drive/MyDrive/Colab Notebooks/ACS_IPUMS_NHGIS_Data/ACS5_2014_nhgis0001_shape/nhgis0001_shapefile_tl2014_040_blck_grp_2014.zip','/content/drive/MyDrive/Colab Notebooks/ACS_IPUMS_NHGIS_Data/ACS5_2014_nhgis0001_shape/nhgis0001_shapefile_tl2014_060_blck_grp_2014.zip','/content/drive/MyDrive/Colab Notebooks/ACS_IPUMS_NHGIS_Data/ACS5_2014_nhgis0001_shape/nhgis0001_shapefile_tl2014_080_blck_grp_2014.zip','/content/drive/MyDrive/Colab Notebooks/ACS_IPUMS_NHGIS_Data/ACS5_2014_nhgis0001_shape/nhgis0001_shapefile_tl2014_160_blck_grp_2014.zip','/content/drive/MyDrive/Colab Notebooks/ACS_IPUMS_NHGIS_Data/ACS5_2014_nhgis0001_shape/nhgis0001_shapefile_tl2014_300_blck_grp_2014.zip','/content/drive/MyDrive/Colab Notebooks/ACS_IPUMS_NHGIS_Data/ACS5_2014_nhgis0001_shape/nhgis0001_shapefile_tl2014_320_blck_grp_2014.zip','/content/drive/MyDrive/Colab Notebooks/ACS_IPUMS_NHGIS_Data/ACS5_2014_nhgis0001_shape/nhgis0001_shapefile_tl2014_350_blck_grp_2014.zip','/content/drive/MyDrive/Colab Notebooks/ACS_IPUMS_NHGIS_Data/ACS5_2014_nhgis0001_shape/nhgis0001_shapefile_tl2014_410_blck_grp_2014.zip','/content/drive/MyDrive/Colab Notebooks/ACS_IPUMS_NHGIS_Data/ACS5_2014_nhgis0001_shape/nhgis0001_shapefile_tl2014_490_blck_grp_2014.zip','/content/drive/MyDrive/Colab Notebooks/ACS_IPUMS_NHGIS_Data/ACS5_2014_nhgis0001_shape/nhgis0001_shapefile_tl2014_530_blck_grp_2014.zip','/content/drive/MyDrive/Colab Notebooks/ACS_IPUMS_NHGIS_Data/ACS5_2014_nhgis0001_shape/nhgis0001_shapefile_tl2014_560_blck_grp_2014.zip']"
   ]
  },
  {
   "cell_type": "code",
   "execution_count": 18,
   "metadata": {
    "id": "03QqfTO5UstH"
   },
   "outputs": [],
   "source": [
    "# ACS5_2019_block_groups = block_groups(block_groups_2019)\n",
    "# ACS5_2014_block_groups = block_groups(block_groups_2014)"
   ]
  },
  {
   "cell_type": "code",
   "execution_count": 19,
   "metadata": {},
   "outputs": [],
   "source": [
    "ACS5_2019_block_groups = block_groups_us(r'C:\\Users\\sheld\\Documents\\Thesis_Data_Full_United_States\\nhgis0003_shape\\nhgis0003_shapefile_tl2019_us_blck_grp_2019.zip')\n",
    "ACS5_2014_block_groups = block_groups_us(r'C:\\Users\\sheld\\Documents\\Thesis_Data_Full_United_States\\nhgis0004_shape\\nhgis0004_shapefile_tl2014_us_blck_grp_2014.zip')\n",
    "ACS5_2009_block_groups = block_groups_us(r'C:\\Users\\sheld\\Documents\\nhgis0006_shape\\nhgis0006_shapefile_tl2010_us_blck_grp_2010.zip')"
   ]
  },
  {
   "cell_type": "code",
   "execution_count": 20,
   "metadata": {
    "id": "eZMM2jkMe5Vf"
   },
   "outputs": [],
   "source": [
    "ACS5_2019_bg = pd.merge(ACS5_2019, ACS5_2019_block_groups, on = ['GISJOIN'], how = \"left\") #Joining block groups with ACS5 data. \n",
    "ACS5_2014_bg = pd.merge(ACS5_2014, ACS5_2014_block_groups, on = ['GISJOIN'], how = \"left\")\n",
    "ACS5_2009_bg = pd.merge(ACS5_2009, ACS5_2009_block_groups, on = ['GISJOIN'], how = \"left\") #-- Had to droop 25% of obs in doing calculations of min dist so trying with 2014 bg for 2009 instead of 2009 bg's --> Turned out to be workse 59,999 missings obs so I am sticking to 2009 bg for 2009 acs \n",
    "#ACS5_2009_bg = pd.merge(ACS5_2009, ACS5_2014_block_groups, on = ['GISJOIN'], how = \"left\") #here try with 2014 bg for 2009"
   ]
  },
  {
   "cell_type": "markdown",
   "metadata": {
    "id": "Yx5M7bQ16uLx"
   },
   "source": [
    "Inflation Adjust the Dollar Amount Multiyear Estimates (2010-2014) to Compare in 2019 Dollars where the inflation adjusted estimate for the period earlier can be expressed as:\n",
    "\n",
    "\\begin{equation}\n",
    "  \\hat{X}_{p1,Adj} = \\frac{CPI_{p2}}{CPI_{p1}} \\hat{X}_{p1}\n",
    "\\end{equation}\n",
    "\n",
    "$CPI_{p1}$ - is the All Items CPI-U-RS Annual Average for the last year in the earlier time period (P1). \n",
    "\n",
    "$CPI_{p2}$ -  is the All Items CPI-U-RS Annual Average for the last year in the most current time period (P2). \n",
    "\n",
    "$\\hat{X}_{p1}$ - is the published ACS estimate for the earlier time period (P1).\n",
    "\n",
    "Documentation on inflation adjusting dollar estimates can be found [here](\"https://www.census.gov/content/dam/Census/library/publications/2018/acs/acs_general_handbook_2018_ch10.pdf\"). \n",
    "\n",
    "[R-CPI-U-RS from the U.S. Bureau of Labor Statistics](\"https://www.bls.gov/cpi/research-series/r-cpi-u-rs-home.htm\").\n"
   ]
  },
  {
   "cell_type": "code",
   "execution_count": 21,
   "metadata": {
    "id": "L7JwkmPyBEF9"
   },
   "outputs": [],
   "source": [
    "Inflation_Adjustment_2014 = cpi_adjustment(2014, 2019, CPI)\n",
    "Inflation_Adjustment_2009 = cpi_adjustment(2009, 2019, CPI)"
   ]
  },
  {
   "cell_type": "code",
   "execution_count": 22,
   "metadata": {
    "id": "liGTYHBDBiNH"
   },
   "outputs": [],
   "source": [
    "dollar_variables = [\"ABIHE001\", \"ABISE001\", \"ABITE001\", \"ABIUE001\"] #inflation adjusted 2014 dollar variables (i.e. rent and lower, median, upper household value) into 2019 dollars \n",
    "for i in range(len(dollar_variables)):\n",
    "    ACS5_2014_bg[dollar_variables[i]] = Inflation_Adjustment_2014*ACS5_2014_bg[dollar_variables[i]]"
   ]
  },
  {
   "cell_type": "code",
   "execution_count": 23,
   "metadata": {},
   "outputs": [],
   "source": [
    "dollar_variables = [\"RRUE001\",\"RR6E001\", \"RR7E001\", \"RR8E001\"] #inflation adjusted 2009 dollar variables (i.e. rent and lower, median, upper household value) into 2019 dollars \n",
    "for i in range(len(dollar_variables)):\n",
    "    ACS5_2009_bg[dollar_variables[i]] = Inflation_Adjustment_2009*ACS5_2009_bg[dollar_variables[i]]"
   ]
  },
  {
   "cell_type": "code",
   "execution_count": 24,
   "metadata": {
    "id": "1fz2HQL3o6p6"
   },
   "outputs": [],
   "source": [
    "# ACS5_2014_bg.to_csv(r\"C:\\Users\\sheld\\Documents\\Thesis_Data_Full_United_States\\merged_data_with_block_groups\\ACS5_2014_bg.csv\")\n",
    "# ACS5_2019_bg.to_csv(r\"C:\\Users\\sheld\\Documents\\Thesis_Data_Full_United_States\\merged_data_with_block_groups\\ACS5_2019_bg.csv\")\n",
    "# ACS5_2009_bg.to_csv(r\"C:\\Users\\sheld\\Documents\\Thesis_Data_Full_United_States\\merged_data_with_block_groups\\ACS5_2009_bg.csv\")"
   ]
  },
  {
   "cell_type": "code",
   "execution_count": 25,
   "metadata": {},
   "outputs": [],
   "source": [
    "ACS5_2009_bg = ACS5_2009_bg.rename(columns={\"ALAND10\":\"ALAND\", \"AWATER10\":\"AWATER\",\"INTPTLAT10\":\"INTPTLAT\",\"INTPTLON10\":\"INTPTLON\",\"Shape_area\":\"Shape_Area\",\"Shape_len\":\"Shape_Leng\"})"
   ]
  },
  {
   "cell_type": "markdown",
   "metadata": {},
   "source": [
    "### Organizing 2005-2009 ACS "
   ]
  },
  {
   "cell_type": "code",
   "execution_count": 26,
   "metadata": {},
   "outputs": [],
   "source": [
    "cols = list(ACS5_2009_bg.columns.values)[146:180]\n",
    "for i in range(17):\n",
    "    ACS5_2009_bg[f\"educ{i}\"] = ACS5_2009_bg[cols[i]]+ACS5_2009_bg[cols[i+17]]\n",
    "#adding male and female categories to get total for education categories for 2005-2009 data\n",
    "#NOTE! remember to drop cols 146 to 180-1. ******"
   ]
  },
  {
   "cell_type": "markdown",
   "metadata": {},
   "source": [
    "### Combine Year Structure Built Variable for Later Period ACS 2010-2014 and 2015-2019"
   ]
  },
  {
   "cell_type": "code",
   "execution_count": 27,
   "metadata": {},
   "outputs": [],
   "source": [
    "ACS5_2019_bg[\"built_2000\"] = ACS5_2019_bg[\"AL0DE004\"]+ACS5_2019_bg[\"AL0DE003\"]+ACS5_2019_bg[\"AL0DE002\"]\n",
    "#combined Built 2000 to 2009, 2009 to 2013, and 2014 or later \n",
    "ACS5_2014_bg[\"built_2000\"] = ACS5_2014_bg[\"ABHPE003\"]+ACS5_2014_bg[\"ABHPE002\"]\n",
    "#combined Built 2000 and 2010 or later for 2014 \n",
    "ACS5_2009_bg[\"built_2000\"] = ACS5_2009_bg[\"RQ2M002\"] + ACS5_2009_bg[\"RQ2M003\"]\n",
    "#combined built 2000-2004 and 2005 or later for 2009\n",
    "\n",
    "#NOTE! remeber to drop old columns (e.g. RQ2M002, etc)"
   ]
  },
  {
   "cell_type": "code",
   "execution_count": 28,
   "metadata": {},
   "outputs": [],
   "source": [
    "#pd.set_option(\"display.max_rows\", None, \"display.max_columns\", None)\n",
    "pd.reset_option('^display.', silent=True)"
   ]
  },
  {
   "cell_type": "code",
   "execution_count": 29,
   "metadata": {},
   "outputs": [],
   "source": [
    "#Nursery to grade 4\n",
    "ACS5_2019_bg[\"educ2\"] = ACS5_2019_bg[\"ALWGE003\"]+ACS5_2019_bg[\"ALWGE004\"]+ACS5_2019_bg[\"ALWGE005\"]+ACS5_2019_bg[\"ALWGE006\"]+ACS5_2019_bg[\"ALWGE007\"]+ ACS5_2019_bg[\"ALWGE008\"]\n",
    "ACS5_2014_bg[\"educ2\"] = ACS5_2014_bg[\"ABC4E003\"] + ACS5_2014_bg[\"ABC4E004\"]+ ACS5_2014_bg[\"ABC4E005\"]+ ACS5_2014_bg[\"ABC4E006\"]+ACS5_2014_bg[\"ABC4E007\"]+ACS5_2014_bg[\"ABC4E008\"]\n",
    "\n",
    "#grades five and 6 \n",
    "ACS5_2019_bg[\"educ3\"] = ACS5_2019_bg[\"ALWGE009\"]+ACS5_2019_bg[\"ALWGE010\"]\n",
    "ACS5_2014_bg[\"educ3\"] = ACS5_2014_bg[\"ABC4E009\"]+ACS5_2014_bg[\"ABC4E010\"]\n",
    "\n",
    "#grades seven and 8 \n",
    "ACS5_2019_bg[\"educ4\"] = ACS5_2019_bg[\"ALWGE011\"]+ACS5_2019_bg[\"ALWGE012\"]\n",
    "ACS5_2014_bg[\"educ4\"] = ACS5_2014_bg[\"ABC4E011\"]+ACS5_2014_bg[\"ABC4E012\"]\n",
    "\n",
    "#regular hs and GED combined \n",
    "ACS5_2019_bg[\"educ9\"] = ACS5_2019_bg[\"ALWGE017\"]+ACS5_2019_bg[\"ALWGE018\"]\n",
    "ACS5_2014_bg[\"educ9\"] =ACS5_2014_bg[\"ABC4E017\"]+ACS5_2014_bg[\"ABC4E018\"]\n"
   ]
  },
  {
   "cell_type": "code",
   "execution_count": 30,
   "metadata": {},
   "outputs": [],
   "source": [
    "ACS5_2019_new = rename_variables(ACS5_2019_bg, dictionary_2019_new) #rename variables for merging df\n",
    "ACS5_2014_new = rename_variables(ACS5_2014_bg, dictionary_2014_new)\n",
    "ACS5_2009_new = rename_variables(ACS5_2009_bg, dictionary_2009_new)"
   ]
  },
  {
   "cell_type": "code",
   "execution_count": 31,
   "metadata": {},
   "outputs": [],
   "source": [
    "#ACS5_2009_new.columns.tolist() NOTE! For 2009 bg shp will have to rename lat and long - remove 10!!!Look for other cols to rename if necessary ="
   ]
  },
  {
   "cell_type": "code",
   "execution_count": 32,
   "metadata": {},
   "outputs": [],
   "source": [
    "frames = [ACS5_2019_new, ACS5_2014_new, ACS5_2009_new]\n",
    "ACS5_2005_2019 = pd.concat(frames,join='inner', ignore_index=True).reset_index()"
   ]
  },
  {
   "cell_type": "code",
   "execution_count": 33,
   "metadata": {},
   "outputs": [],
   "source": [
    "cols = ['index',\n",
    " 'GISJOIN',\n",
    " 'YEAR',\n",
    " 'REGIONA',\n",
    " 'DIVISIONA',\n",
    " 'STATE',\n",
    " 'STATEA',\n",
    " 'COUNTY',\n",
    " 'COUNTYA',\n",
    " 'COUSUBA',\n",
    " 'PLACEA',\n",
    " 'TRACTA',\n",
    " 'BLKGRPA',\n",
    " 'CONCITA',\n",
    " 'AIANHHA',\n",
    " 'RES_ONLYA',\n",
    " 'TRUSTA',\n",
    " 'ANRCA',\n",
    " 'CBSAA',\n",
    " 'CSAA',\n",
    " 'METDIVA',\n",
    " 'NECTAA',\n",
    " 'CNECTAA',\n",
    " 'NECTADIVA',\n",
    " 'UAA',\n",
    " 'CDCURRA',\n",
    " 'SLDUA',\n",
    " 'SLDLA',\n",
    " 'SUBMCDA',\n",
    " 'SDELMA',\n",
    " 'SDSECA',\n",
    " 'SDUNIA',\n",
    " 'PUMA5A',\n",
    " 'NAME_E',\n",
    " 'Total Race',\n",
    " 'White alone',\n",
    " 'Black or African American alone',\n",
    " 'American Indian and Alaska Native alone',\n",
    " 'Asian alone',\n",
    " 'Native Hawaiian and Other Pacific Islander alone',\n",
    " 'Some other race alone',\n",
    " 'Two or more races',\n",
    " 'Two or more races Two races including Some other race',\n",
    " 'Two or more races Two races excluding Some other race and three or more races',\n",
    " 'Total Travel Time to Work',\n",
    " 'Less than 5 minutes',\n",
    " '5 to 9 minutes',\n",
    " '10 to 14 minutes',\n",
    " '15 to 19 minutes',\n",
    " '20 to 24 minutes',\n",
    " '25 to 29 minutes',\n",
    " '30 to 34 minutes',\n",
    " '35 to 39 minutes',\n",
    " '40 to 44 minutes',\n",
    " '45 to 59 minutes',\n",
    " '60 to 89 minutes',\n",
    " '90 or more minutes',\n",
    " 'Total Educational Attainment for the Population 25 Years and Over',\n",
    " 'No schooling completed',\n",
    " 'Nursery to 4th grade',\n",
    " '5th and 6th grade',\n",
    " '7th and 8th grade',\n",
    " '9th grade',\n",
    " '10th grade',\n",
    " '11th grade',\n",
    " '12th grade no diploma',\n",
    " 'High school graduate, GED, or alternative',\n",
    " 'Some college less than 1 year',\n",
    " 'Some college 1 or more years no degree',\n",
    " \"Associate's degree\",\n",
    " \"Bachelor's degree\",\n",
    " \"Master's degree\",\n",
    " 'Professional school degree',\n",
    " 'Doctorate degree',\n",
    " 'Total Year Structure Built',\n",
    " 'Built 2000 or later',\n",
    " 'Built 1990 to 1999',\n",
    " 'Built 1980 to 1989',\n",
    " 'Built 1970 to 1979',\n",
    " 'Built 1960 to 1969',\n",
    " 'Built 1950 to 1959',\n",
    " 'Built 1940 to 1949',\n",
    " 'Built 1939 or earlier',\n",
    " 'Total Bedrooms',\n",
    " 'No bedroom',\n",
    " '1 bedroom',\n",
    " '2 bedrooms',\n",
    " '3 bedrooms',\n",
    " '4 bedrooms',\n",
    " '5 or more bedrooms',\n",
    " 'Median gross rent',\n",
    " 'Lower value quartile (dollars)',\n",
    " 'Median value (dollars)',\n",
    " 'Upper value quartile (dollars)',\n",
    " 'Total Mortgage Status',\n",
    " 'Housing units with a mortgage contract to purchase or similar debt',\n",
    " 'Housing units with a mortgage contract to purchase or similar debt With either a second mortgage or home equity loan but not both',\n",
    " 'Housing units with a mortgage contract to purchase or similar debt With either a second mortgage or home equity loan but not both Second mortgage only',\n",
    " 'Housing units with a mortgage contract to purchase or similar debt With either a second mortgage or home equity loan but not both Home equity loan only',\n",
    " 'Housing units with a mortgage contract to purchase or similar debt Both second mortgage and home equity loan',\n",
    " 'Housing units with a mortgage contract to purchase or similar debt No second mortgage and no home equity loan',\n",
    " 'Housing units without a mortgage',\n",
    " 'NAME_M',\n",
    " 'ALAND',\n",
    " 'AWATER',\n",
    " 'INTPTLAT',\n",
    " 'INTPTLON',\n",
    " 'Shape_Leng',\n",
    " 'Shape_Area',\n",
    " 'geometry']"
   ]
  },
  {
   "cell_type": "code",
   "execution_count": 34,
   "metadata": {},
   "outputs": [],
   "source": [
    "ACS5_2005_2019 = ACS5_2005_2019[cols]"
   ]
  },
  {
   "cell_type": "code",
   "execution_count": 35,
   "metadata": {},
   "outputs": [],
   "source": [
    "remove = ['AIANHHA',\n",
    " 'RES_ONLYA',\n",
    " 'TRUSTA',\n",
    " 'ANRCA',\n",
    " 'CBSAA',\n",
    " 'CSAA',\n",
    " 'METDIVA',\n",
    " 'NECTAA',\n",
    " 'CNECTAA',\n",
    " 'NECTADIVA',\n",
    " 'UAA',\n",
    " 'CDCURRA',\n",
    " 'SLDUA',\n",
    " 'SLDLA',\n",
    " 'SUBMCDA',\n",
    " 'SDELMA',\n",
    " 'SDSECA',\n",
    " 'SDUNIA',\n",
    " 'PUMA5A',\n",
    " 'NAME_M']"
   ]
  },
  {
   "cell_type": "code",
   "execution_count": 36,
   "metadata": {},
   "outputs": [],
   "source": [
    "ACS5_2005_2019 = ACS5_2005_2019.drop(columns=remove)"
   ]
  },
  {
   "cell_type": "markdown",
   "metadata": {},
   "source": [
    "## Get Data Into % Format"
   ]
  },
  {
   "cell_type": "code",
   "execution_count": 39,
   "metadata": {},
   "outputs": [],
   "source": [
    "cols = [\"Two or more races Two races including Some other race\",\"Two or more races Two races excluding Some other race and three or more races\"]\n",
    "ACS5_2005_2019 = ACS5_2005_2019.drop(columns=cols) # `Two or more races' already captures this variable so these extra two are not needed"
   ]
  },
  {
   "cell_type": "code",
   "execution_count": 45,
   "metadata": {
    "scrolled": true
   },
   "outputs": [],
   "source": [
    "#get race in % formate\n",
    "cols = list(ACS5_2005_2019.columns.values)[16:23]\n",
    "for i in range(len(cols)):\n",
    "    ACS5_2005_2019[cols[i]]=ACS5_2005_2019[cols[i]]/ACS5_2005_2019[\"Total Race\"]"
   ]
  },
  {
   "cell_type": "code",
   "execution_count": 52,
   "metadata": {},
   "outputs": [],
   "source": [
    "#get travel time to work in % formate\n",
    "cols = list(ACS5_2005_2019.columns.values)[24:36]\n",
    "for i in range(len(cols)):\n",
    "    ACS5_2005_2019[cols[i]]=ACS5_2005_2019[cols[i]]/ACS5_2005_2019[\"Total Travel Time to Work\"]"
   ]
  },
  {
   "cell_type": "code",
   "execution_count": 57,
   "metadata": {},
   "outputs": [],
   "source": [
    "#get education into % formate\n",
    "cols = list(ACS5_2005_2019.columns.values)[37:53]\n",
    "for i in range(len(cols)):\n",
    "    ACS5_2005_2019[cols[i]]=ACS5_2005_2019[cols[i]]/ACS5_2005_2019[\"Total Educational Attainment for the Population 25 Years and Over\"]"
   ]
  },
  {
   "cell_type": "code",
   "execution_count": 62,
   "metadata": {},
   "outputs": [],
   "source": [
    "#get year struture built in % formate\n",
    "cols = list(ACS5_2005_2019.columns.values)[54:62]\n",
    "for i in range(len(cols)):\n",
    "    ACS5_2005_2019[cols[i]]=ACS5_2005_2019[cols[i]]/ACS5_2005_2019[\"Total Year Structure Built\"]"
   ]
  },
  {
   "cell_type": "code",
   "execution_count": 67,
   "metadata": {},
   "outputs": [],
   "source": [
    "#get total bedrooms in % formate\n",
    "cols = list(ACS5_2005_2019.columns.values)[63:69]\n",
    "for i in range(len(cols)):\n",
    "    ACS5_2005_2019[cols[i]]=ACS5_2005_2019[cols[i]]/ACS5_2005_2019[\"Total Bedrooms\"]"
   ]
  },
  {
   "cell_type": "code",
   "execution_count": 70,
   "metadata": {},
   "outputs": [],
   "source": [
    "cols = [\"Housing units with a mortgage contract to purchase or similar debt With either a second mortgage or home equity loan but not both Second mortgage only\",\"Housing units with a mortgage contract to purchase or similar debt With either a second mortgage or home equity loan but not both Home equity loan only\"]\n",
    "ACS5_2005_2019 = ACS5_2005_2019.drop(columns=cols) #droping sub categories under `Housing units with a mortgage contract to purchase or similar debt With either a second mortgage or home equity loan but not both' note that \n",
    "#`Housing units with a mortgage contract to purchase or similar debt With either a second mortgage or home equity loan but not both' + `Housing units with a mortgage contract to purchase or similar debt Both second mortgage and home equity loan'+`Housing units with a mortgage contract to purchase or similar debt No second mortgage and no home equity loan' = `Housing units with a mortgage contract to purchase or similar debt' "
   ]
  },
  {
   "cell_type": "code",
   "execution_count": 75,
   "metadata": {},
   "outputs": [],
   "source": [
    "#get mortgage status in % formate \n",
    "cols = list(ACS5_2005_2019.columns.values)[74:79]\n",
    "for i in range(len(cols)):\n",
    "    ACS5_2005_2019[cols[i]]=ACS5_2005_2019[cols[i]]/ACS5_2005_2019[\"Total Mortgage Status\"]"
   ]
  },
  {
   "cell_type": "markdown",
   "metadata": {},
   "source": [
    "### Join Complete DF with Min Dist Wildfires for Each Year"
   ]
  },
  {
   "cell_type": "code",
   "execution_count": 81,
   "metadata": {},
   "outputs": [],
   "source": [
    "min_dist_2005_sim = import_csv(r\"C:\\Users\\sheld\\Documents\\GitHub\\econ499\\Min_distances_2005_ACS52009_sim.csv\")\n",
    "min_dist_2006_sim = import_csv(r\"C:\\Users\\sheld\\Documents\\GitHub\\econ499\\Min_distances_2006_ACS52009_sim.csv\")\n",
    "min_dist_2007_sim = import_csv(r\"C:\\Users\\sheld\\Documents\\GitHub\\econ499\\Min_distances_2007_ACS52009_sim.csv\")\n",
    "min_dist_2008_sim = import_csv(r\"C:\\Users\\sheld\\Documents\\GitHub\\econ499\\Min_distances_2008_ACS52009_sim.csv\")\n",
    "min_dist_2009_sim = import_csv(r\"C:\\Users\\sheld\\Documents\\GitHub\\econ499\\Min_distances_2009_ACS52009_sim.csv\")\n",
    "min_dist_2010_sim = import_csv(r\"C:\\Users\\sheld\\Documents\\GitHub\\econ499\\Min_distances_2010_ACS52014_sim.csv\")\n",
    "min_dist_2011_sim = import_csv(r\"C:\\Users\\sheld\\Documents\\GitHub\\econ499\\Min_distances_2011_ACS52014_sim.csv\")\n",
    "min_dist_2012_sim = import_csv(r\"C:\\Users\\sheld\\Documents\\GitHub\\econ499\\Min_distances_2012_ACS52014_sim.csv\")\n",
    "min_dist_2013_sim = import_csv(r\"C:\\Users\\sheld\\Documents\\GitHub\\econ499\\Min_distances_2013_ACS52014_sim.csv\")\n",
    "min_dist_2014_sim = import_csv(r\"C:\\Users\\sheld\\Documents\\GitHub\\econ499\\Min_distances_2014_ACS52014_sim.csv\")\n",
    "min_dist_2015_sim = import_csv(r\"C:\\Users\\sheld\\Documents\\GitHub\\econ499\\Min_distances_2015_ACS52014_sim.csv\")\n",
    "min_dist_2016_sim = import_csv(r\"C:\\Users\\sheld\\Documents\\GitHub\\econ499\\Min_distances_2016_ACS52014_sim.csv\")\n",
    "min_dist_2017_sim = import_csv(r\"C:\\Users\\sheld\\Documents\\GitHub\\econ499\\Min_distances_2017_ACS52014_sim.csv\")\n",
    "min_dist_2018_sim = import_csv(r\"C:\\Users\\sheld\\Documents\\GitHub\\econ499\\Min_distances_2018_ACS52014_sim.csv\")\n",
    "#Note these are only the simpify shapes, need to re-calculate 2005-2009 box shapes for those years"
   ]
  },
  {
   "cell_type": "code",
   "execution_count": 86,
   "metadata": {},
   "outputs": [],
   "source": [
    "dist = [min_dist_2005_sim, min_dist_2006_sim, min_dist_2007_sim, min_dist_2008_sim, min_dist_2009_sim, min_dist_2010_sim, min_dist_2011_sim, min_dist_2012_sim, min_dist_2013_sim, min_dist_2014_sim, min_dist_2015_sim, min_dist_2016_sim, min_dist_2017_sim, min_dist_2018_sim]"
   ]
  },
  {
   "cell_type": "code",
   "execution_count": 87,
   "metadata": {
    "scrolled": true
   },
   "outputs": [],
   "source": [
    "#remove white space on GISJOIN variable for all distance series. \n",
    "for i in range(len(dist)):\n",
    "    dist[i][\"GISJOIN\"] = dist[i][\"GISJOIN\"].str.replace(' ','')"
   ]
  },
  {
   "cell_type": "code",
   "execution_count": 88,
   "metadata": {},
   "outputs": [],
   "source": [
    "def merge_on_dist(ACS, dist):\n",
    "    for i in range(len(dist)):\n",
    "        ACS = pd.merge(ACS, dist[i], on=\"GISJOIN\")\n",
    "    return ACS"
   ]
  },
  {
   "cell_type": "code",
   "execution_count": 98,
   "metadata": {},
   "outputs": [],
   "source": [
    "ACS5_2005_2019_WEST = ACS5_2005_2019[(ACS5_2005_2019[\"STATE\"] == \"Arizona\") | (ACS5_2005_2019[\"STATE\"] == \"California\")|(ACS5_2005_2019[\"STATE\"] == \"Colorado\") | (ACS5_2005_2019[\"STATE\"] == \"Idaho\")|(ACS5_2005_2019[\"STATE\"] == \"Nebraska\")| (ACS5_2005_2019[\"STATE\"] == \"New Mexico\")|(ACS5_2005_2019[\"STATE\"] == \"Oklahoma\")| (ACS5_2005_2019[\"STATE\"] == \"Oregon\")|(ACS5_2005_2019[\"STATE\"] == \"South Dakota\")|(ACS5_2005_2019[\"STATE\"] == \"Texas\")|(ACS5_2005_2019[\"STATE\"] == \"Kansas\")| (ACS5_2005_2019[\"STATE\"] == \"Wyoming\")|(ACS5_2005_2019[\"STATE\"] == \"Montana\")|(ACS5_2005_2019[\"STATE\"] == \"North Dakota\")|(ACS5_2005_2019[\"STATE\"] == \"Utah\")|(ACS5_2005_2019[\"STATE\"] == \"Nevada\")| (ACS5_2005_2019[\"STATE\"] == \"Washington\")]"
   ]
  },
  {
   "cell_type": "code",
   "execution_count": 100,
   "metadata": {
    "collapsed": true
   },
   "outputs": [
    {
     "data": {
      "text/html": [
       "<div>\n",
       "<style scoped>\n",
       "    .dataframe tbody tr th:only-of-type {\n",
       "        vertical-align: middle;\n",
       "    }\n",
       "\n",
       "    .dataframe tbody tr th {\n",
       "        vertical-align: top;\n",
       "    }\n",
       "\n",
       "    .dataframe thead th {\n",
       "        text-align: right;\n",
       "    }\n",
       "</style>\n",
       "<table border=\"1\" class=\"dataframe\">\n",
       "  <thead>\n",
       "    <tr style=\"text-align: right;\">\n",
       "      <th></th>\n",
       "      <th>index</th>\n",
       "      <th>GISJOIN</th>\n",
       "      <th>YEAR</th>\n",
       "      <th>REGIONA</th>\n",
       "      <th>DIVISIONA</th>\n",
       "      <th>STATE</th>\n",
       "      <th>STATEA</th>\n",
       "      <th>COUNTY</th>\n",
       "      <th>COUNTYA</th>\n",
       "      <th>COUSUBA</th>\n",
       "      <th>...</th>\n",
       "      <th>min_dist_2009_sim</th>\n",
       "      <th>min_dist_2010_sim</th>\n",
       "      <th>min_dist_2011_sim</th>\n",
       "      <th>min_dist_2012_sim</th>\n",
       "      <th>min_dist_2013_sim</th>\n",
       "      <th>min_dist_2014_sim</th>\n",
       "      <th>min_dist_2015_sim</th>\n",
       "      <th>min_dist_2016_sim</th>\n",
       "      <th>min_dist_2017_sim</th>\n",
       "      <th>min_dist_2018_sim</th>\n",
       "    </tr>\n",
       "  </thead>\n",
       "  <tbody>\n",
       "    <tr>\n",
       "      <th>0</th>\n",
       "      <td>3972</td>\n",
       "      <td>G04000109426001</td>\n",
       "      <td>2015-2019</td>\n",
       "      <td>NaN</td>\n",
       "      <td>NaN</td>\n",
       "      <td>Arizona</td>\n",
       "      <td>4</td>\n",
       "      <td>Apache County</td>\n",
       "      <td>1</td>\n",
       "      <td>NaN</td>\n",
       "      <td>...</td>\n",
       "      <td>120782.03740</td>\n",
       "      <td>94759.52439</td>\n",
       "      <td>115027.99880</td>\n",
       "      <td>25503.269930</td>\n",
       "      <td>125270.03560</td>\n",
       "      <td>85914.48854</td>\n",
       "      <td>111499.68000</td>\n",
       "      <td>133972.656000</td>\n",
       "      <td>100893.33770</td>\n",
       "      <td>107968.383600</td>\n",
       "    </tr>\n",
       "    <tr>\n",
       "      <th>1</th>\n",
       "      <td>224305</td>\n",
       "      <td>G04000109426001</td>\n",
       "      <td>2010-2014</td>\n",
       "      <td>NaN</td>\n",
       "      <td>NaN</td>\n",
       "      <td>Arizona</td>\n",
       "      <td>4</td>\n",
       "      <td>Apache County</td>\n",
       "      <td>1</td>\n",
       "      <td>NaN</td>\n",
       "      <td>...</td>\n",
       "      <td>120782.03740</td>\n",
       "      <td>94759.52439</td>\n",
       "      <td>115027.99880</td>\n",
       "      <td>25503.269930</td>\n",
       "      <td>125270.03560</td>\n",
       "      <td>85914.48854</td>\n",
       "      <td>111499.68000</td>\n",
       "      <td>133972.656000</td>\n",
       "      <td>100893.33770</td>\n",
       "      <td>107968.383600</td>\n",
       "    </tr>\n",
       "    <tr>\n",
       "      <th>2</th>\n",
       "      <td>444530</td>\n",
       "      <td>G04000109426001</td>\n",
       "      <td>2005-2009</td>\n",
       "      <td>NaN</td>\n",
       "      <td>NaN</td>\n",
       "      <td>Arizona</td>\n",
       "      <td>4</td>\n",
       "      <td>Apache County</td>\n",
       "      <td>1</td>\n",
       "      <td>NaN</td>\n",
       "      <td>...</td>\n",
       "      <td>120782.03740</td>\n",
       "      <td>94759.52439</td>\n",
       "      <td>115027.99880</td>\n",
       "      <td>25503.269930</td>\n",
       "      <td>125270.03560</td>\n",
       "      <td>85914.48854</td>\n",
       "      <td>111499.68000</td>\n",
       "      <td>133972.656000</td>\n",
       "      <td>100893.33770</td>\n",
       "      <td>107968.383600</td>\n",
       "    </tr>\n",
       "    <tr>\n",
       "      <th>3</th>\n",
       "      <td>3974</td>\n",
       "      <td>G04000109427001</td>\n",
       "      <td>2015-2019</td>\n",
       "      <td>NaN</td>\n",
       "      <td>NaN</td>\n",
       "      <td>Arizona</td>\n",
       "      <td>4</td>\n",
       "      <td>Apache County</td>\n",
       "      <td>1</td>\n",
       "      <td>NaN</td>\n",
       "      <td>...</td>\n",
       "      <td>69603.85231</td>\n",
       "      <td>74790.55545</td>\n",
       "      <td>78663.90506</td>\n",
       "      <td>49846.002650</td>\n",
       "      <td>102141.75150</td>\n",
       "      <td>98346.86015</td>\n",
       "      <td>48466.86904</td>\n",
       "      <td>83506.334860</td>\n",
       "      <td>92389.39464</td>\n",
       "      <td>71507.596710</td>\n",
       "    </tr>\n",
       "    <tr>\n",
       "      <th>4</th>\n",
       "      <td>224307</td>\n",
       "      <td>G04000109427001</td>\n",
       "      <td>2010-2014</td>\n",
       "      <td>NaN</td>\n",
       "      <td>NaN</td>\n",
       "      <td>Arizona</td>\n",
       "      <td>4</td>\n",
       "      <td>Apache County</td>\n",
       "      <td>1</td>\n",
       "      <td>NaN</td>\n",
       "      <td>...</td>\n",
       "      <td>69603.85231</td>\n",
       "      <td>74790.55545</td>\n",
       "      <td>78663.90506</td>\n",
       "      <td>49846.002650</td>\n",
       "      <td>102141.75150</td>\n",
       "      <td>98346.86015</td>\n",
       "      <td>48466.86904</td>\n",
       "      <td>83506.334860</td>\n",
       "      <td>92389.39464</td>\n",
       "      <td>71507.596710</td>\n",
       "    </tr>\n",
       "    <tr>\n",
       "      <th>...</th>\n",
       "      <td>...</td>\n",
       "      <td>...</td>\n",
       "      <td>...</td>\n",
       "      <td>...</td>\n",
       "      <td>...</td>\n",
       "      <td>...</td>\n",
       "      <td>...</td>\n",
       "      <td>...</td>\n",
       "      <td>...</td>\n",
       "      <td>...</td>\n",
       "      <td>...</td>\n",
       "      <td>...</td>\n",
       "      <td>...</td>\n",
       "      <td>...</td>\n",
       "      <td>...</td>\n",
       "      <td>...</td>\n",
       "      <td>...</td>\n",
       "      <td>...</td>\n",
       "      <td>...</td>\n",
       "      <td>...</td>\n",
       "      <td>...</td>\n",
       "    </tr>\n",
       "    <tr>\n",
       "      <th>131165</th>\n",
       "      <td>649462</td>\n",
       "      <td>G56004509513003</td>\n",
       "      <td>2005-2009</td>\n",
       "      <td>NaN</td>\n",
       "      <td>NaN</td>\n",
       "      <td>Wyoming</td>\n",
       "      <td>56</td>\n",
       "      <td>Weston County</td>\n",
       "      <td>45</td>\n",
       "      <td>NaN</td>\n",
       "      <td>...</td>\n",
       "      <td>139152.18100</td>\n",
       "      <td>60489.72362</td>\n",
       "      <td>11662.59376</td>\n",
       "      <td>8275.394046</td>\n",
       "      <td>89855.95756</td>\n",
       "      <td>210002.30730</td>\n",
       "      <td>25171.56196</td>\n",
       "      <td>8254.181101</td>\n",
       "      <td>54241.85561</td>\n",
       "      <td>8043.027649</td>\n",
       "    </tr>\n",
       "    <tr>\n",
       "      <th>131166</th>\n",
       "      <td>399242</td>\n",
       "      <td>G46011309405001</td>\n",
       "      <td>2010-2014</td>\n",
       "      <td>NaN</td>\n",
       "      <td>NaN</td>\n",
       "      <td>South Dakota</td>\n",
       "      <td>46</td>\n",
       "      <td>Shannon County</td>\n",
       "      <td>113</td>\n",
       "      <td>NaN</td>\n",
       "      <td>...</td>\n",
       "      <td>275581.09980</td>\n",
       "      <td>84938.01376</td>\n",
       "      <td>86864.30068</td>\n",
       "      <td>17649.409310</td>\n",
       "      <td>222388.97080</td>\n",
       "      <td>337930.78760</td>\n",
       "      <td>68052.81444</td>\n",
       "      <td>25872.515480</td>\n",
       "      <td>67201.38599</td>\n",
       "      <td>138345.342900</td>\n",
       "    </tr>\n",
       "    <tr>\n",
       "      <th>131167</th>\n",
       "      <td>612941</td>\n",
       "      <td>G46011309405001</td>\n",
       "      <td>2005-2009</td>\n",
       "      <td>NaN</td>\n",
       "      <td>NaN</td>\n",
       "      <td>South Dakota</td>\n",
       "      <td>46</td>\n",
       "      <td>Shannon County</td>\n",
       "      <td>113</td>\n",
       "      <td>NaN</td>\n",
       "      <td>...</td>\n",
       "      <td>275581.09980</td>\n",
       "      <td>84938.01376</td>\n",
       "      <td>86864.30068</td>\n",
       "      <td>17649.409310</td>\n",
       "      <td>222388.97080</td>\n",
       "      <td>337930.78760</td>\n",
       "      <td>68052.81444</td>\n",
       "      <td>25872.515480</td>\n",
       "      <td>67201.38599</td>\n",
       "      <td>138345.342900</td>\n",
       "    </tr>\n",
       "    <tr>\n",
       "      <th>131168</th>\n",
       "      <td>399243</td>\n",
       "      <td>G46011309405002</td>\n",
       "      <td>2010-2014</td>\n",
       "      <td>NaN</td>\n",
       "      <td>NaN</td>\n",
       "      <td>South Dakota</td>\n",
       "      <td>46</td>\n",
       "      <td>Shannon County</td>\n",
       "      <td>113</td>\n",
       "      <td>NaN</td>\n",
       "      <td>...</td>\n",
       "      <td>300336.90930</td>\n",
       "      <td>109498.31900</td>\n",
       "      <td>115809.95600</td>\n",
       "      <td>12843.476690</td>\n",
       "      <td>246677.65790</td>\n",
       "      <td>362573.24790</td>\n",
       "      <td>93778.61921</td>\n",
       "      <td>47340.692400</td>\n",
       "      <td>90864.18991</td>\n",
       "      <td>166084.585700</td>\n",
       "    </tr>\n",
       "    <tr>\n",
       "      <th>131169</th>\n",
       "      <td>612942</td>\n",
       "      <td>G46011309405002</td>\n",
       "      <td>2005-2009</td>\n",
       "      <td>NaN</td>\n",
       "      <td>NaN</td>\n",
       "      <td>South Dakota</td>\n",
       "      <td>46</td>\n",
       "      <td>Shannon County</td>\n",
       "      <td>113</td>\n",
       "      <td>NaN</td>\n",
       "      <td>...</td>\n",
       "      <td>300336.90930</td>\n",
       "      <td>109498.31900</td>\n",
       "      <td>115809.95600</td>\n",
       "      <td>12843.476690</td>\n",
       "      <td>246677.65790</td>\n",
       "      <td>362573.24790</td>\n",
       "      <td>93778.61921</td>\n",
       "      <td>47340.692400</td>\n",
       "      <td>90864.18991</td>\n",
       "      <td>166084.585700</td>\n",
       "    </tr>\n",
       "  </tbody>\n",
       "</table>\n",
       "<p>131170 rows × 100 columns</p>\n",
       "</div>"
      ],
      "text/plain": [
       "         index          GISJOIN       YEAR  REGIONA  DIVISIONA         STATE  \\\n",
       "0         3972  G04000109426001  2015-2019      NaN        NaN       Arizona   \n",
       "1       224305  G04000109426001  2010-2014      NaN        NaN       Arizona   \n",
       "2       444530  G04000109426001  2005-2009      NaN        NaN       Arizona   \n",
       "3         3974  G04000109427001  2015-2019      NaN        NaN       Arizona   \n",
       "4       224307  G04000109427001  2010-2014      NaN        NaN       Arizona   \n",
       "...        ...              ...        ...      ...        ...           ...   \n",
       "131165  649462  G56004509513003  2005-2009      NaN        NaN       Wyoming   \n",
       "131166  399242  G46011309405001  2010-2014      NaN        NaN  South Dakota   \n",
       "131167  612941  G46011309405001  2005-2009      NaN        NaN  South Dakota   \n",
       "131168  399243  G46011309405002  2010-2014      NaN        NaN  South Dakota   \n",
       "131169  612942  G46011309405002  2005-2009      NaN        NaN  South Dakota   \n",
       "\n",
       "        STATEA          COUNTY  COUNTYA  COUSUBA  ...  min_dist_2009_sim  \\\n",
       "0            4   Apache County        1      NaN  ...       120782.03740   \n",
       "1            4   Apache County        1      NaN  ...       120782.03740   \n",
       "2            4   Apache County        1      NaN  ...       120782.03740   \n",
       "3            4   Apache County        1      NaN  ...        69603.85231   \n",
       "4            4   Apache County        1      NaN  ...        69603.85231   \n",
       "...        ...             ...      ...      ...  ...                ...   \n",
       "131165      56   Weston County       45      NaN  ...       139152.18100   \n",
       "131166      46  Shannon County      113      NaN  ...       275581.09980   \n",
       "131167      46  Shannon County      113      NaN  ...       275581.09980   \n",
       "131168      46  Shannon County      113      NaN  ...       300336.90930   \n",
       "131169      46  Shannon County      113      NaN  ...       300336.90930   \n",
       "\n",
       "        min_dist_2010_sim  min_dist_2011_sim  min_dist_2012_sim  \\\n",
       "0             94759.52439       115027.99880       25503.269930   \n",
       "1             94759.52439       115027.99880       25503.269930   \n",
       "2             94759.52439       115027.99880       25503.269930   \n",
       "3             74790.55545        78663.90506       49846.002650   \n",
       "4             74790.55545        78663.90506       49846.002650   \n",
       "...                   ...                ...                ...   \n",
       "131165        60489.72362        11662.59376        8275.394046   \n",
       "131166        84938.01376        86864.30068       17649.409310   \n",
       "131167        84938.01376        86864.30068       17649.409310   \n",
       "131168       109498.31900       115809.95600       12843.476690   \n",
       "131169       109498.31900       115809.95600       12843.476690   \n",
       "\n",
       "       min_dist_2013_sim  min_dist_2014_sim  min_dist_2015_sim  \\\n",
       "0           125270.03560        85914.48854       111499.68000   \n",
       "1           125270.03560        85914.48854       111499.68000   \n",
       "2           125270.03560        85914.48854       111499.68000   \n",
       "3           102141.75150        98346.86015        48466.86904   \n",
       "4           102141.75150        98346.86015        48466.86904   \n",
       "...                  ...                ...                ...   \n",
       "131165       89855.95756       210002.30730        25171.56196   \n",
       "131166      222388.97080       337930.78760        68052.81444   \n",
       "131167      222388.97080       337930.78760        68052.81444   \n",
       "131168      246677.65790       362573.24790        93778.61921   \n",
       "131169      246677.65790       362573.24790        93778.61921   \n",
       "\n",
       "        min_dist_2016_sim  min_dist_2017_sim  min_dist_2018_sim  \n",
       "0           133972.656000       100893.33770      107968.383600  \n",
       "1           133972.656000       100893.33770      107968.383600  \n",
       "2           133972.656000       100893.33770      107968.383600  \n",
       "3            83506.334860        92389.39464       71507.596710  \n",
       "4            83506.334860        92389.39464       71507.596710  \n",
       "...                   ...                ...                ...  \n",
       "131165        8254.181101        54241.85561        8043.027649  \n",
       "131166       25872.515480        67201.38599      138345.342900  \n",
       "131167       25872.515480        67201.38599      138345.342900  \n",
       "131168       47340.692400        90864.18991      166084.585700  \n",
       "131169       47340.692400        90864.18991      166084.585700  \n",
       "\n",
       "[131170 rows x 100 columns]"
      ]
     },
     "execution_count": 100,
     "metadata": {},
     "output_type": "execute_result"
    }
   ],
   "source": [
    "ACS5_2005_2019_WESTd = merge_on_dist(ACS5_2005_2019_WEST, dist) #merging min wildfire distances"
   ]
  },
  {
   "cell_type": "code",
   "execution_count": 114,
   "metadata": {},
   "outputs": [],
   "source": [
    "missing_house_prices = ACS5_2005_2019_WESTd[ACS5_2005_2019_WESTd[\"Median value (dollars)\"].isnull()].copy()\n",
    "missing_house_prices[\"Count\"] = 1 \n",
    "missing_house_prices = missing_house_prices.count()\n",
    "##1424 obs with missing median house prices "
   ]
  },
  {
   "cell_type": "code",
   "execution_count": 116,
   "metadata": {},
   "outputs": [],
   "source": [
    "ACS5_2005_2019_WESTd = ACS5_2005_2019_WESTd[ACS5_2005_2019_WESTd[\"Median value (dollars)\"].notnull()].drop(columns = [\"index\"]).reset_index()\n",
    "#select rows with no missing median house prices"
   ]
  },
  {
   "cell_type": "code",
   "execution_count": 123,
   "metadata": {},
   "outputs": [],
   "source": [
    "cols = ['index','REGIONA','DIVISIONA','COUSUBA','PLACEA','CONCITA','Shape_Leng','Shape_Area']\n",
    "ACS5_2005_2019_WESTd = ACS5_2005_2019_WESTd.drop(columns=cols)"
   ]
  },
  {
   "cell_type": "code",
   "execution_count": 131,
   "metadata": {},
   "outputs": [],
   "source": [
    "rename_dict = {\"Total Race\":\"race_0\", \n",
    "               \"White alone\":\"race_1\",\n",
    "              \"Black or African American alone\":\"race_2\",\n",
    "              \"American Indian and Alaska Native alone\":\"race_3\",\n",
    "              \"Asian alone\":\"race_4\",\n",
    "              \"Native Hawaiian and Other Pacific Islander alone\":\"race_5\",\n",
    "              \"Some other race alone\":\"race_6\",\n",
    "              \"Two or more races\":\"race_7\",\n",
    "              \"Total Travel Time to Work\":\"travel_0\",\n",
    "              \"Less than 5 minutes\": \"travel_1\",\n",
    "              \"5 to 9 minutes\":\"travel_2\",\n",
    "              \"10 to 14 minutes\":\"travel_3\",\n",
    "              \"15 to 19 minutes\":\"travel_4\",\n",
    "              \"20 to 24 minutes\":\"travel_5\",\n",
    "              \"25 to 29 minutes\":\"travel_6\",\n",
    "              \"30 to 34 minutes\":\"travel_7\",\n",
    "              \"35 to 39 minutes\":\"travel_8\",\n",
    "              \"40 to 44 minutes\":\"travel_9\",\n",
    "              \"45 to 59 minutes\":\"travel_10\",\n",
    "              \"60 to 89 minutes\":\"travel_11\",\n",
    "              \"90 or more minutes\":\"travel_12\",\n",
    "              \"Total Educational Attainment for the Population 25 Years and Over\":\"educ_0\",\n",
    "              \"No schooling completed\":\"educ_1\",\n",
    "              \"Nursery to 4th grade\":\"educ_2\",\n",
    "              \"5th and 6th grade\":\"educ_3\",\n",
    "              \"7th and 8th grade\":\"educ_4\",\n",
    "              \"9th grade\":\"educ_5\",\n",
    "              \"10th grade\":\"educ_6\",\n",
    "              \"11th grade\":\"educ_7\",\n",
    "              \"12th grade no diploma\":\"educ_8\",\n",
    "              \"High school graduate, GED, or alternative\":\"educ_9\",\n",
    "              \"Some college less than 1 year\":\"educ_10\",\n",
    "              \"Some college 1 or more years no degree\":\"educ_11\",\n",
    "              \"Associate's degree\":\"educ_12\",\n",
    "              \"Bachelor's degree\":\"educ_13\",\n",
    "              \"Master's degree\":\"educ_14\",\n",
    "              \"Professional school degree\":\"educ_15\",\n",
    "              \"Doctorate degree\":\"educ_16\",\n",
    "              \"Total Year Structure Built\":\"built_0\",\n",
    "              \"Built 2000 or later\":\"built_1\",\n",
    "              \"Built 1990 to 1999\":\"built_2\",\n",
    "              \"Built 1980 to 1989\":\"built_3\",\n",
    "              \"Built 1970 to 1979\":\"built_4\",\n",
    "              \"Built 1960 to 1969\":\"built_5\",\n",
    "              \"Built 1950 to 1959\":\"built_6\",\n",
    "              \"Built 1940 to 1949\":\"built_7\",\n",
    "              \"Built 1939 or earlier\":\"built_8\",\n",
    "              \"Total Bedrooms\":\"bdrm_0\",\n",
    "              \"1 bedroom\":\"bdrm_1\",\n",
    "              \"2 bedrooms\":\"bdrm_2\",\n",
    "              \"3 bedrooms\":\"bdrm_3\",\n",
    "              \"4 bedrooms\":\"bdrm_4\",\n",
    "              \"5 or more bedrooms\":\"bdrm_5\", \n",
    "              \"Median gross rent\":\"rent\",\n",
    "              \"Lower value quartile (dollars)\":\"lowval\",\n",
    "              \"Median value (dollars)\":\"medval\",\n",
    "              \"Upper value quartile (dollars)\":\"upval\",\n",
    "              \"Total Mortgage Status\":\"mortag_0\",\n",
    "              \"Housing units with a mortgage contract to purchase or similar debt\":\"mortag_1\",\n",
    "              \"Housing units with a mortgage contract to purchase or similar debt With either a second mortgage or home equity loan but not both\": \"mortag_2\",\n",
    "              \"Housing units with a mortgage contract to purchase or similar debt Both second mortgage and home equity loan\":\"mortag_3\",\n",
    "              \"Housing units with a mortgage contract to purchase or similar debt No second mortgage and no home equity loan\":\"mortag_4\",\n",
    "              \"Housing units without a mortgage\":\"mortag_5\"}"
   ]
  },
  {
   "cell_type": "code",
   "execution_count": 132,
   "metadata": {},
   "outputs": [],
   "source": [
    "ACS5_2005_2019_WESTd = ACS5_2005_2019_WESTd.rename(columns=rename_dict)"
   ]
  },
  {
   "cell_type": "code",
   "execution_count": 136,
   "metadata": {},
   "outputs": [],
   "source": [
    "ACS5_2005_2019_WESTd = ACS5_2005_2019_WESTd.drop(columns=['geometry'])"
   ]
  },
  {
   "cell_type": "code",
   "execution_count": 139,
   "metadata": {},
   "outputs": [],
   "source": [
    "#ACS5_2005_2019_WESTd.to_csv(r\"C:\\Users\\sheld\\Documents\\Thesis_Data_Full_United_States\\merged_data_with_block_groups\\ACS5_2005_2019_FULL_DATAFRAME_FOR_ANALYSIS_no_geo.csv\")"
   ]
  },
  {
   "cell_type": "code",
   "execution_count": null,
   "metadata": {},
   "outputs": [],
   "source": []
  }
 ],
 "metadata": {
  "colab": {
   "collapsed_sections": [],
   "name": "ECON_499_ACS_IPUMS_NHGIS_GeoMAC.ipynb",
   "provenance": [],
   "toc_visible": true
  },
  "kernelspec": {
   "display_name": "Python 3",
   "language": "python",
   "name": "python3"
  },
  "language_info": {
   "codemirror_mode": {
    "name": "ipython",
    "version": 3
   },
   "file_extension": ".py",
   "mimetype": "text/x-python",
   "name": "python",
   "nbconvert_exporter": "python",
   "pygments_lexer": "ipython3",
   "version": "3.7.6"
  }
 },
 "nbformat": 4,
 "nbformat_minor": 1
}
