{
 "cells": [
  {
   "cell_type": "code",
   "execution_count": 1,
   "metadata": {},
   "outputs": [],
   "source": [
    "import requests\n",
    "from bs4 import BeautifulSoup"
   ]
  },
  {
   "cell_type": "code",
   "execution_count": 2,
   "metadata": {},
   "outputs": [],
   "source": [
    "url = 'https://www.zillow.com/sonoma-county-ca/sold/?searchQueryState=%7B%22pagination%22%3A%7B%7D%2C%22usersSearchTerm%22%3A%22Sonoma%20County%2C%20CA%22%2C%22mapBounds%22%3A%7B%22west%22%3A-123.74492524414062%2C%22east%22%3A-122.13817475585937%2C%22south%22%3A38.03369924582723%2C%22north%22%3A38.93024329966432%7D%2C%22regionSelection%22%3A%5B%7B%22regionId%22%3A1396%2C%22regionType%22%3A4%7D%5D%2C%22isMapVisible%22%3Atrue%2C%22filterState%22%3A%7B%22sort%22%3A%7B%22value%22%3A%22globalrelevanceex%22%7D%2C%22ah%22%3A%7B%22value%22%3Atrue%7D%2C%22rs%22%3A%7B%22value%22%3Atrue%7D%2C%22fsba%22%3A%7B%22value%22%3Afalse%7D%2C%22fsbo%22%3A%7B%22value%22%3Afalse%7D%2C%22nc%22%3A%7B%22value%22%3Afalse%7D%2C%22cmsn%22%3A%7B%22value%22%3Afalse%7D%2C%22auc%22%3A%7B%22value%22%3Afalse%7D%2C%22fore%22%3A%7B%22value%22%3Afalse%7D%2C%22pmf%22%3A%7B%22value%22%3Afalse%7D%2C%22pf%22%3A%7B%22value%22%3Afalse%7D%7D%2C%22isListVisible%22%3Atrue%7D'\n",
    "res = requests.get(url)"
   ]
  },
  {
   "cell_type": "code",
   "execution_count": 3,
   "metadata": {},
   "outputs": [
    {
     "name": "stdout",
     "output_type": "stream",
     "text": [
      "None\n"
     ]
    },
    {
     "data": {
      "text/plain": [
       "bs4.BeautifulSoup"
      ]
     },
     "execution_count": 3,
     "metadata": {},
     "output_type": "execute_result"
    }
   ],
   "source": [
    "print(res.raise_for_status())\n",
    "soup = BeautifulSoup(res.text)\n",
    "type(soup)"
   ]
  },
  {
   "cell_type": "code",
   "execution_count": 4,
   "metadata": {},
   "outputs": [
    {
     "name": "stdout",
     "output_type": "stream",
     "text": [
      "<html>\n",
      " <head>\n",
      "  <meta content=\"noindex, nofollow\" name=\"robots\"/>\n",
      "  <link href=\"https://www.zillowstatic.com/vstatic/80d5e73/static/css/z-pages/captcha.css\" media=\"screen\" rel=\"stylesheet\" type=\"text/css\"/>\n",
      "  <script>\n",
      "   window._pxAppId = 'PXHYx10rg3';\n",
      "        window._pxJsClientSrc = '/HYx10rg3/init.js';\n",
      "        window._pxHostUrl = '/HYx10rg3/xhr';\n",
      "        window._pxFirstPartyEnabled = true;\n",
      "        window._pxreCaptchaTheme='light';\n",
      "  </script>\n",
      "  <script src=\"https://captcha.px-cdn.net/PXHYx10rg3/captcha.js?a=c&amp;m=0\" type=\"text/javascript\">\n",
      "  </script>\n",
      "  <script>\n",
      "   function getQueryString(name, url) {\n",
      "            if (!url) url = window.location.href;\n",
      "            name = name.replace(/[\\[\\]]/g, \"\\\\$&\");\n",
      "            var regex = new RegExp(\"[?&]\" + name + \"(=([^&#]*)|&|#|$)\"),\n",
      "                results = regex.exec(url);\n",
      "            if (!results) return null;\n",
      "            if (!results[2]) return '';\n",
      "            return decodeURIComponent(results[2].replace(/\\+/g, \" \"));\n",
      "        }\n",
      "        document.addEventListener(\"DOMContentLoaded\", function(e) {\n",
      "            var uuidVerifyRegExp = /^\\{?[0-9a-fA-F]{8}-[0-9a-fA-F]{4}-[0-9a-fA-F]{4}-[0-9a-fA-F]{4}-[0-9a-fA-F]{12}\\}?$/i;\n",
      "            document.getElementById(\"uuid\").innerText = \"UUID: \" + uuidVerifyRegExp.exec(getQueryString(\"uuid\"));\n",
      "        });\n",
      "\n",
      "        function handleCaptcha(response) {\n",
      "            var vid = getQueryString(\"vid\"); // getQueryString is implemented below\n",
      "            var uuid = getQueryString(\"uuid\");\n",
      "            var name = '_pxCaptcha';\n",
      "            var cookieValue =  btoa(JSON.stringify({r:response,v:vid,u:uuid}));\n",
      "            var cookieParts = [name, '=', cookieValue, '; path=/'];\n",
      "            cookieParts.push('; domain=' + window.location.hostname);\n",
      "            cookieParts.push('; max-age=10');//expire after 10 seconds\n",
      "            document.cookie = cookieParts.join('');\n",
      "            var originalURL = getOriginalUrl(\"url\");\n",
      "            var originalHost = window.location.host;\n",
      "            var newHref = window.location.protocol + \"//\" + originalHost;\n",
      "            originalURL = originalURL || '/';\n",
      "            newHref = newHref + originalURL;\n",
      "            window.location.href = newHref;\n",
      "        }\n",
      "\n",
      "        function getOriginalUrl(name) {\n",
      "            var url = getQueryString(name);\n",
      "            if (!url) return null;\n",
      "            var regExMatcher = new RegExp(\"(([^&#@]*)|&|#|$)\");\n",
      "            var matches = regExMatcher.exec(url);\n",
      "            if (!matches) return null;\n",
      "            return matches[0];\n",
      "        }\n",
      "  </script>\n",
      " </head>\n",
      " <body>\n",
      "  <main class=\"zsg-layout-content\">\n",
      "   <div class=\"error-content-block\">\n",
      "    <div class=\"error-text-content\">\n",
      "     <!-- <h1>Captcha</h1> -->\n",
      "     <h5>\n",
      "      Please verify you're a human to continue.\n",
      "     </h5>\n",
      "     <div class=\"captcha-container\" id=\"content\">\n",
      "      <div data-callback=\"handleCaptcha\" id=\"px-captcha\">\n",
      "      </div>\n",
      "      <img alt=\"Zillow\" height=\"14\" src=\"https://www.zillowstatic.com/static/logos/logo-65x14.png\" width=\"65\"/>\n",
      "     </div>\n",
      "    </div>\n",
      "   </div>\n",
      "  </main>\n",
      "  <h4 class=\"uuid-string zsg-fineprint\" id=\"uuid\">\n",
      "  </h4>\n",
      " </body>\n",
      "</html>\n",
      "<!-- H:036  T:1ms  S:2605  R:Sat Mar 20 23:00:56 PDT 2021  B:5.0.66851-master.2c7113e~qa.564bfa52 -->\n",
      "\n"
     ]
    }
   ],
   "source": [
    "print(soup.prettify())"
   ]
  },
  {
   "cell_type": "code",
   "execution_count": null,
   "metadata": {},
   "outputs": [],
   "source": []
  }
 ],
 "metadata": {
  "kernelspec": {
   "display_name": "Python 3",
   "language": "python",
   "name": "python3"
  },
  "language_info": {
   "codemirror_mode": {
    "name": "ipython",
    "version": 3
   },
   "file_extension": ".py",
   "mimetype": "text/x-python",
   "name": "python",
   "nbconvert_exporter": "python",
   "pygments_lexer": "ipython3",
   "version": "3.7.6"
  }
 },
 "nbformat": 4,
 "nbformat_minor": 4
}
