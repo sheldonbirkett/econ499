{
  "nbformat": 4,
  "nbformat_minor": 0,
  "metadata": {
    "colab": {
      "name": "ECON499_Census_Data_API.ipynb",
      "provenance": [],
      "collapsed_sections": [],
      "mount_file_id": "13ZHPmY_WuQgFAuCl13pGpSbmiM72uuK0",
      "authorship_tag": "ABX9TyNFh6iARWXw7O2vY7ogSeu3",
      "include_colab_link": true
    },
    "kernelspec": {
      "name": "python3",
      "display_name": "Python 3"
    }
  },
  "cells": [
    {
      "cell_type": "markdown",
      "metadata": {
        "id": "view-in-github",
        "colab_type": "text"
      },
      "source": [
        "<a href=\"https://colab.research.google.com/github/sheldonbirkett/econ499/blob/main/ECON499_Census_Data_API.ipynb\" target=\"_parent\"><img src=\"https://colab.research.google.com/assets/colab-badge.svg\" alt=\"Open In Colab\"/></a>"
      ]
    },
    {
      "cell_type": "markdown",
      "metadata": {
        "id": "VJQxSckkBbis"
      },
      "source": [
        "## ASC 5-Year Estimates Census "
      ]
    },
    {
      "cell_type": "code",
      "metadata": {
        "colab": {
          "base_uri": "https://localhost:8080/"
        },
        "id": "Q0eVC_PFSfwN",
        "outputId": "14a8a830-5993-4dc5-fe51-c082418c6bab"
      },
      "source": [
        "pip install CensusData "
      ],
      "execution_count": null,
      "outputs": [
        {
          "output_type": "stream",
          "text": [
            "Collecting CensusData\n",
            "\u001b[?25l  Downloading https://files.pythonhosted.org/packages/ee/2e/d2eb847769a4e42b87edbc2334e0d7b5a07ef284c7467a1f1e34e6a9f9a4/CensusData-1.11.post1.tar.gz (26.2MB)\n",
            "\u001b[K     |████████████████████████████████| 26.2MB 173kB/s \n",
            "\u001b[?25hRequirement already satisfied: pandas in /usr/local/lib/python3.6/dist-packages (from CensusData) (1.1.5)\n",
            "Requirement already satisfied: requests in /usr/local/lib/python3.6/dist-packages (from CensusData) (2.23.0)\n",
            "Requirement already satisfied: numpy>=1.15.4 in /usr/local/lib/python3.6/dist-packages (from pandas->CensusData) (1.19.5)\n",
            "Requirement already satisfied: python-dateutil>=2.7.3 in /usr/local/lib/python3.6/dist-packages (from pandas->CensusData) (2.8.1)\n",
            "Requirement already satisfied: pytz>=2017.2 in /usr/local/lib/python3.6/dist-packages (from pandas->CensusData) (2018.9)\n",
            "Requirement already satisfied: chardet<4,>=3.0.2 in /usr/local/lib/python3.6/dist-packages (from requests->CensusData) (3.0.4)\n",
            "Requirement already satisfied: idna<3,>=2.5 in /usr/local/lib/python3.6/dist-packages (from requests->CensusData) (2.10)\n",
            "Requirement already satisfied: certifi>=2017.4.17 in /usr/local/lib/python3.6/dist-packages (from requests->CensusData) (2020.12.5)\n",
            "Requirement already satisfied: urllib3!=1.25.0,!=1.25.1,<1.26,>=1.21.1 in /usr/local/lib/python3.6/dist-packages (from requests->CensusData) (1.24.3)\n",
            "Requirement already satisfied: six>=1.5 in /usr/local/lib/python3.6/dist-packages (from python-dateutil>=2.7.3->pandas->CensusData) (1.15.0)\n",
            "Building wheels for collected packages: CensusData\n",
            "  Building wheel for CensusData (setup.py) ... \u001b[?25l\u001b[?25hdone\n",
            "  Created wheel for CensusData: filename=CensusData-1.11.post1-cp36-none-any.whl size=27905652 sha256=0099f7f52894cec72f17b16dcc90b493c337373502468af1bcee22e124232dd9\n",
            "  Stored in directory: /root/.cache/pip/wheels/ae/1a/36/93bef02cb92cd74b5860adaa6316fcbd04e70f3c43dcbbddfe\n",
            "Successfully built CensusData\n",
            "Installing collected packages: CensusData\n",
            "Successfully installed CensusData-1.11.post1\n"
          ],
          "name": "stdout"
        }
      ]
    },
    {
      "cell_type": "code",
      "metadata": {
        "colab": {
          "base_uri": "https://localhost:8080/"
        },
        "id": "NQtAeUvgZuy3",
        "outputId": "c49cee80-6e8a-43b2-958a-a982a628b97a"
      },
      "source": [
        "%%time \r\n",
        "\r\n",
        "# Important library for many geopython libraries\r\n",
        "!apt install gdal-bin python-gdal python3-gdal \r\n",
        "# Install rtree - Geopandas requirment\r\n",
        "!apt install python3-rtree \r\n",
        "# Install Geopandas\r\n",
        "!pip install git+git://github.com/geopandas/geopandas.git\r\n",
        "# Install descartes - Geopandas requirment\r\n",
        "!pip install descartes \r\n",
        "# Install Folium for Geographic data visualization\r\n",
        "!pip install folium\r\n",
        "# Install plotlyExpress\r\n",
        "!pip install plotly_express"
      ],
      "execution_count": null,
      "outputs": [
        {
          "output_type": "stream",
          "text": [
            "Reading package lists... Done\n",
            "Building dependency tree       \n",
            "Reading state information... Done\n",
            "gdal-bin is already the newest version (2.2.3+dfsg-2).\n",
            "python-gdal is already the newest version (2.2.3+dfsg-2).\n",
            "python3-gdal is already the newest version (2.2.3+dfsg-2).\n",
            "0 upgraded, 0 newly installed, 0 to remove and 13 not upgraded.\n",
            "Reading package lists... Done\n",
            "Building dependency tree       \n",
            "Reading state information... Done\n",
            "The following additional packages will be installed:\n",
            "  libspatialindex-c4v5 libspatialindex-dev libspatialindex4v5\n",
            "  python3-pkg-resources\n",
            "Suggested packages:\n",
            "  python3-setuptools\n",
            "The following NEW packages will be installed:\n",
            "  libspatialindex-c4v5 libspatialindex-dev libspatialindex4v5\n",
            "  python3-pkg-resources python3-rtree\n",
            "0 upgraded, 5 newly installed, 0 to remove and 13 not upgraded.\n",
            "Need to get 671 kB of archives.\n",
            "After this operation, 3,948 kB of additional disk space will be used.\n",
            "Get:1 http://archive.ubuntu.com/ubuntu bionic/universe amd64 libspatialindex4v5 amd64 1.8.5-5 [219 kB]\n",
            "Get:2 http://archive.ubuntu.com/ubuntu bionic/universe amd64 libspatialindex-c4v5 amd64 1.8.5-5 [51.7 kB]\n",
            "Get:3 http://archive.ubuntu.com/ubuntu bionic/main amd64 python3-pkg-resources all 39.0.1-2 [98.8 kB]\n",
            "Get:4 http://archive.ubuntu.com/ubuntu bionic/universe amd64 libspatialindex-dev amd64 1.8.5-5 [285 kB]\n",
            "Get:5 http://archive.ubuntu.com/ubuntu bionic/universe amd64 python3-rtree all 0.8.3+ds-1 [16.9 kB]\n",
            "Fetched 671 kB in 1s (515 kB/s)\n",
            "Selecting previously unselected package libspatialindex4v5:amd64.\n",
            "(Reading database ... 146374 files and directories currently installed.)\n",
            "Preparing to unpack .../libspatialindex4v5_1.8.5-5_amd64.deb ...\n",
            "Unpacking libspatialindex4v5:amd64 (1.8.5-5) ...\n",
            "Selecting previously unselected package libspatialindex-c4v5:amd64.\n",
            "Preparing to unpack .../libspatialindex-c4v5_1.8.5-5_amd64.deb ...\n",
            "Unpacking libspatialindex-c4v5:amd64 (1.8.5-5) ...\n",
            "Selecting previously unselected package python3-pkg-resources.\n",
            "Preparing to unpack .../python3-pkg-resources_39.0.1-2_all.deb ...\n",
            "Unpacking python3-pkg-resources (39.0.1-2) ...\n",
            "Selecting previously unselected package libspatialindex-dev:amd64.\n",
            "Preparing to unpack .../libspatialindex-dev_1.8.5-5_amd64.deb ...\n",
            "Unpacking libspatialindex-dev:amd64 (1.8.5-5) ...\n",
            "Selecting previously unselected package python3-rtree.\n",
            "Preparing to unpack .../python3-rtree_0.8.3+ds-1_all.deb ...\n",
            "Unpacking python3-rtree (0.8.3+ds-1) ...\n",
            "Setting up libspatialindex4v5:amd64 (1.8.5-5) ...\n",
            "Setting up python3-pkg-resources (39.0.1-2) ...\n",
            "Setting up libspatialindex-c4v5:amd64 (1.8.5-5) ...\n",
            "Setting up libspatialindex-dev:amd64 (1.8.5-5) ...\n",
            "Setting up python3-rtree (0.8.3+ds-1) ...\n",
            "Processing triggers for libc-bin (2.27-3ubuntu1.3) ...\n",
            "/sbin/ldconfig.real: /usr/local/lib/python3.6/dist-packages/ideep4py/lib/libmkldnn.so.0 is not a symbolic link\n",
            "\n",
            "Collecting git+git://github.com/geopandas/geopandas.git\n",
            "  Cloning git://github.com/geopandas/geopandas.git to /tmp/pip-req-build-q_ud1evp\n",
            "  Running command git clone -q git://github.com/geopandas/geopandas.git /tmp/pip-req-build-q_ud1evp\n",
            "Requirement already satisfied: pandas>=0.24.0 in /usr/local/lib/python3.6/dist-packages (from geopandas==0.8.0+88.gb3db3be) (1.1.5)\n",
            "Requirement already satisfied: shapely>=1.6 in /usr/local/lib/python3.6/dist-packages (from geopandas==0.8.0+88.gb3db3be) (1.7.1)\n",
            "Collecting fiona>=1.8\n",
            "\u001b[?25l  Downloading https://files.pythonhosted.org/packages/37/94/4910fd55246c1d963727b03885ead6ef1cd3748a465f7b0239ab25dfc9a3/Fiona-1.8.18-cp36-cp36m-manylinux1_x86_64.whl (14.8MB)\n",
            "\u001b[K     |████████████████████████████████| 14.8MB 337kB/s \n",
            "\u001b[?25hCollecting pyproj>=2.2.0\n",
            "\u001b[?25l  Downloading https://files.pythonhosted.org/packages/e4/ab/280e80a67cfc109d15428c0ec56391fc03a65857b7727cf4e6e6f99a4204/pyproj-3.0.0.post1-cp36-cp36m-manylinux2010_x86_64.whl (6.4MB)\n",
            "\u001b[K     |████████████████████████████████| 6.5MB 42.5MB/s \n",
            "\u001b[?25hRequirement already satisfied: numpy>=1.15.4 in /usr/local/lib/python3.6/dist-packages (from pandas>=0.24.0->geopandas==0.8.0+88.gb3db3be) (1.19.5)\n",
            "Requirement already satisfied: pytz>=2017.2 in /usr/local/lib/python3.6/dist-packages (from pandas>=0.24.0->geopandas==0.8.0+88.gb3db3be) (2018.9)\n",
            "Requirement already satisfied: python-dateutil>=2.7.3 in /usr/local/lib/python3.6/dist-packages (from pandas>=0.24.0->geopandas==0.8.0+88.gb3db3be) (2.8.1)\n",
            "Collecting click-plugins>=1.0\n",
            "  Downloading https://files.pythonhosted.org/packages/e9/da/824b92d9942f4e472702488857914bdd50f73021efea15b4cad9aca8ecef/click_plugins-1.1.1-py2.py3-none-any.whl\n",
            "Collecting munch\n",
            "  Downloading https://files.pythonhosted.org/packages/cc/ab/85d8da5c9a45e072301beb37ad7f833cd344e04c817d97e0cc75681d248f/munch-2.5.0-py2.py3-none-any.whl\n",
            "Requirement already satisfied: six>=1.7 in /usr/local/lib/python3.6/dist-packages (from fiona>=1.8->geopandas==0.8.0+88.gb3db3be) (1.15.0)\n",
            "Collecting cligj>=0.5\n",
            "  Downloading https://files.pythonhosted.org/packages/42/1e/947eadf10d6804bf276eb8a038bd5307996dceaaa41cfd21b7a15ec62f5d/cligj-0.7.1-py3-none-any.whl\n",
            "Requirement already satisfied: click<8,>=4.0 in /usr/local/lib/python3.6/dist-packages (from fiona>=1.8->geopandas==0.8.0+88.gb3db3be) (7.1.2)\n",
            "Requirement already satisfied: attrs>=17 in /usr/local/lib/python3.6/dist-packages (from fiona>=1.8->geopandas==0.8.0+88.gb3db3be) (20.3.0)\n",
            "Requirement already satisfied: certifi in /usr/local/lib/python3.6/dist-packages (from fiona>=1.8->geopandas==0.8.0+88.gb3db3be) (2020.12.5)\n",
            "Building wheels for collected packages: geopandas\n",
            "  Building wheel for geopandas (setup.py) ... \u001b[?25l\u001b[?25hdone\n",
            "  Created wheel for geopandas: filename=geopandas-0.8.0+88.gb3db3be-py2.py3-none-any.whl size=976378 sha256=f93f630ed748c33ee587ce79a27552df5830ad16ff9aebaeadce845556b2b951\n",
            "  Stored in directory: /tmp/pip-ephem-wheel-cache-q3cmie6m/wheels/91/24/71/376c9c67192694168352afcccc2d264248f7e2cc6192997186\n",
            "Successfully built geopandas\n",
            "Installing collected packages: click-plugins, munch, cligj, fiona, pyproj, geopandas\n",
            "Successfully installed click-plugins-1.1.1 cligj-0.7.1 fiona-1.8.18 geopandas-0.8.0+88.gb3db3be munch-2.5.0 pyproj-3.0.0.post1\n",
            "Requirement already satisfied: descartes in /usr/local/lib/python3.6/dist-packages (1.1.0)\n",
            "Requirement already satisfied: matplotlib in /usr/local/lib/python3.6/dist-packages (from descartes) (3.2.2)\n",
            "Requirement already satisfied: python-dateutil>=2.1 in /usr/local/lib/python3.6/dist-packages (from matplotlib->descartes) (2.8.1)\n",
            "Requirement already satisfied: cycler>=0.10 in /usr/local/lib/python3.6/dist-packages (from matplotlib->descartes) (0.10.0)\n",
            "Requirement already satisfied: numpy>=1.11 in /usr/local/lib/python3.6/dist-packages (from matplotlib->descartes) (1.19.5)\n",
            "Requirement already satisfied: pyparsing!=2.0.4,!=2.1.2,!=2.1.6,>=2.0.1 in /usr/local/lib/python3.6/dist-packages (from matplotlib->descartes) (2.4.7)\n",
            "Requirement already satisfied: kiwisolver>=1.0.1 in /usr/local/lib/python3.6/dist-packages (from matplotlib->descartes) (1.3.1)\n",
            "Requirement already satisfied: six>=1.5 in /usr/local/lib/python3.6/dist-packages (from python-dateutil>=2.1->matplotlib->descartes) (1.15.0)\n",
            "Requirement already satisfied: folium in /usr/local/lib/python3.6/dist-packages (0.8.3)\n",
            "Requirement already satisfied: branca>=0.3.0 in /usr/local/lib/python3.6/dist-packages (from folium) (0.4.2)\n",
            "Requirement already satisfied: six in /usr/local/lib/python3.6/dist-packages (from folium) (1.15.0)\n",
            "Requirement already satisfied: requests in /usr/local/lib/python3.6/dist-packages (from folium) (2.23.0)\n",
            "Requirement already satisfied: jinja2 in /usr/local/lib/python3.6/dist-packages (from folium) (2.11.2)\n",
            "Requirement already satisfied: numpy in /usr/local/lib/python3.6/dist-packages (from folium) (1.19.5)\n",
            "Requirement already satisfied: certifi>=2017.4.17 in /usr/local/lib/python3.6/dist-packages (from requests->folium) (2020.12.5)\n",
            "Requirement already satisfied: urllib3!=1.25.0,!=1.25.1,<1.26,>=1.21.1 in /usr/local/lib/python3.6/dist-packages (from requests->folium) (1.24.3)\n",
            "Requirement already satisfied: chardet<4,>=3.0.2 in /usr/local/lib/python3.6/dist-packages (from requests->folium) (3.0.4)\n",
            "Requirement already satisfied: idna<3,>=2.5 in /usr/local/lib/python3.6/dist-packages (from requests->folium) (2.10)\n",
            "Requirement already satisfied: MarkupSafe>=0.23 in /usr/local/lib/python3.6/dist-packages (from jinja2->folium) (1.1.1)\n",
            "Collecting plotly_express\n",
            "  Downloading https://files.pythonhosted.org/packages/d4/d6/8a2906f51e073a4be80cab35cfa10e7a34853e60f3ed5304ac470852a08d/plotly_express-0.4.1-py2.py3-none-any.whl\n",
            "Requirement already satisfied: patsy>=0.5 in /usr/local/lib/python3.6/dist-packages (from plotly_express) (0.5.1)\n",
            "Requirement already satisfied: numpy>=1.11 in /usr/local/lib/python3.6/dist-packages (from plotly_express) (1.19.5)\n",
            "Requirement already satisfied: scipy>=0.18 in /usr/local/lib/python3.6/dist-packages (from plotly_express) (1.4.1)\n",
            "Requirement already satisfied: statsmodels>=0.9.0 in /usr/local/lib/python3.6/dist-packages (from plotly_express) (0.10.2)\n",
            "Requirement already satisfied: pandas>=0.20.0 in /usr/local/lib/python3.6/dist-packages (from plotly_express) (1.1.5)\n",
            "Requirement already satisfied: plotly>=4.1.0 in /usr/local/lib/python3.6/dist-packages (from plotly_express) (4.4.1)\n",
            "Requirement already satisfied: six in /usr/local/lib/python3.6/dist-packages (from patsy>=0.5->plotly_express) (1.15.0)\n",
            "Requirement already satisfied: pytz>=2017.2 in /usr/local/lib/python3.6/dist-packages (from pandas>=0.20.0->plotly_express) (2018.9)\n",
            "Requirement already satisfied: python-dateutil>=2.7.3 in /usr/local/lib/python3.6/dist-packages (from pandas>=0.20.0->plotly_express) (2.8.1)\n",
            "Requirement already satisfied: retrying>=1.3.3 in /usr/local/lib/python3.6/dist-packages (from plotly>=4.1.0->plotly_express) (1.3.3)\n",
            "Installing collected packages: plotly-express\n",
            "Successfully installed plotly-express-0.4.1\n",
            "CPU times: user 148 ms, sys: 67.8 ms, total: 216 ms\n",
            "Wall time: 32.5 s\n"
          ],
          "name": "stdout"
        }
      ]
    },
    {
      "cell_type": "code",
      "metadata": {
        "id": "yK3_v4m_ShmU",
        "colab": {
          "base_uri": "https://localhost:8080/"
        },
        "outputId": "265dd571-3876-4a99-af01-a310890767c2"
      },
      "source": [
        "import pandas as pd\r\n",
        "import numpy as np\r\n",
        "import censusdata\r\n",
        "import re\r\n",
        "import geopandas as gpd\r\n",
        "from shapely.geometry import Point\r\n",
        "from shapely.geometry import MultiPolygon\r\n",
        "import matplotlib\r\n",
        "import matplotlib.pyplot as plt \r\n",
        "import folium\r\n",
        "import plotly_express as px\r\n",
        "\r\n",
        "pd.set_option('display.expand_frame_repr', False)\r\n",
        "pd.set_option('display.precision', 2)\r\n",
        "\r\n",
        "from google.colab import drive\r\n",
        "drive.mount('/content/drive')"
      ],
      "execution_count": null,
      "outputs": [
        {
          "output_type": "stream",
          "text": [
            "Drive already mounted at /content/drive; to attempt to forcibly remount, call drive.mount(\"/content/drive\", force_remount=True).\n"
          ],
          "name": "stdout"
        }
      ]
    },
    {
      "cell_type": "code",
      "metadata": {
        "id": "oDGYNh8sTHJj"
      },
      "source": [
        "#censusdata.search('acs5', 2019, 'concept', lambda value: re.search('value', value, re.IGNORECASE))"
      ],
      "execution_count": null,
      "outputs": []
    },
    {
      "cell_type": "code",
      "metadata": {
        "colab": {
          "base_uri": "https://localhost:8080/"
        },
        "id": "I0FabknTjmm3",
        "outputId": "48343421-df66-49f8-973e-cc3e966680dd"
      },
      "source": [
        "#censusdata.printtable(censusdata.censustable('acs5', 2019, 'B19062')) #aggregate wage or salary income in past 12 months households. "
      ],
      "execution_count": null,
      "outputs": [
        {
          "output_type": "stream",
          "text": [
            "Variable     | Table                          | Label                                                    | Type \n",
            "-------------------------------------------------------------------------------------------------------------------\n",
            "B19062_001E  | AGGREGATE WAGE OR SALARY INCOM | !! Estimate Aggregate wage or salary income in the past  | int  \n",
            "-------------------------------------------------------------------------------------------------------------------\n"
          ],
          "name": "stdout"
        }
      ]
    },
    {
      "cell_type": "code",
      "metadata": {
        "colab": {
          "base_uri": "https://localhost:8080/"
        },
        "id": "90ICpwNhmSXG",
        "outputId": "7bd23f83-54b4-42a3-90da-c054b66f4064"
      },
      "source": [
        "#censusdata.printtable(censusdata.censustable('acs5', 2014, 'B19062'))"
      ],
      "execution_count": null,
      "outputs": [
        {
          "output_type": "stream",
          "text": [
            "Variable     | Table                          | Label                                                    | Type \n",
            "-------------------------------------------------------------------------------------------------------------------\n",
            "B19062_001E  | B19062. Aggregate Wage or Sala | Aggregate wage or salary income in the past 12 months (i | int  \n",
            "-------------------------------------------------------------------------------------------------------------------\n"
          ],
          "name": "stdout"
        }
      ]
    },
    {
      "cell_type": "code",
      "metadata": {
        "colab": {
          "base_uri": "https://localhost:8080/"
        },
        "id": "8xD0vj_4cz_3",
        "outputId": "6d5afa27-90fa-4a84-c3fc-8002564f6f13"
      },
      "source": [
        "#censusdata.printtable(censusdata.censustable('acs5', 2019, 'B15003')) #Educational attainment for population 25 years and older, universe. "
      ],
      "execution_count": null,
      "outputs": [
        {
          "output_type": "stream",
          "text": [
            "Variable     | Table                          | Label                                                    | Type \n",
            "-------------------------------------------------------------------------------------------------------------------\n",
            "B15003_001E  | EDUCATIONAL ATTAINMENT FOR THE | !! Estimate Total:                                       | int  \n",
            "B15003_002E  | EDUCATIONAL ATTAINMENT FOR THE | !! !! Estimate Total: No schooling completed             | int  \n",
            "B15003_003E  | EDUCATIONAL ATTAINMENT FOR THE | !! !! Estimate Total: Nursery school                     | int  \n",
            "B15003_004E  | EDUCATIONAL ATTAINMENT FOR THE | !! !! Estimate Total: Kindergarten                       | int  \n",
            "B15003_005E  | EDUCATIONAL ATTAINMENT FOR THE | !! !! Estimate Total: 1st grade                          | int  \n",
            "B15003_006E  | EDUCATIONAL ATTAINMENT FOR THE | !! !! Estimate Total: 2nd grade                          | int  \n",
            "B15003_007E  | EDUCATIONAL ATTAINMENT FOR THE | !! !! Estimate Total: 3rd grade                          | int  \n",
            "B15003_008E  | EDUCATIONAL ATTAINMENT FOR THE | !! !! Estimate Total: 4th grade                          | int  \n",
            "B15003_009E  | EDUCATIONAL ATTAINMENT FOR THE | !! !! Estimate Total: 5th grade                          | int  \n",
            "B15003_010E  | EDUCATIONAL ATTAINMENT FOR THE | !! !! Estimate Total: 6th grade                          | int  \n",
            "B15003_011E  | EDUCATIONAL ATTAINMENT FOR THE | !! !! Estimate Total: 7th grade                          | int  \n",
            "B15003_012E  | EDUCATIONAL ATTAINMENT FOR THE | !! !! Estimate Total: 8th grade                          | int  \n",
            "B15003_013E  | EDUCATIONAL ATTAINMENT FOR THE | !! !! Estimate Total: 9th grade                          | int  \n",
            "B15003_014E  | EDUCATIONAL ATTAINMENT FOR THE | !! !! Estimate Total: 10th grade                         | int  \n",
            "B15003_015E  | EDUCATIONAL ATTAINMENT FOR THE | !! !! Estimate Total: 11th grade                         | int  \n",
            "B15003_016E  | EDUCATIONAL ATTAINMENT FOR THE | !! !! Estimate Total: 12th grade, no diploma             | int  \n",
            "B15003_017E  | EDUCATIONAL ATTAINMENT FOR THE | !! !! Estimate Total: Regular high school diploma        | int  \n",
            "B15003_018E  | EDUCATIONAL ATTAINMENT FOR THE | !! !! Estimate Total: GED or alternative credential      | int  \n",
            "B15003_019E  | EDUCATIONAL ATTAINMENT FOR THE | !! !! Estimate Total: Some college, less than 1 year     | int  \n",
            "B15003_020E  | EDUCATIONAL ATTAINMENT FOR THE | !! !! Estimate Total: Some college, 1 or more years, no  | int  \n",
            "B15003_021E  | EDUCATIONAL ATTAINMENT FOR THE | !! !! Estimate Total: Associate's degree                 | int  \n",
            "B15003_022E  | EDUCATIONAL ATTAINMENT FOR THE | !! !! Estimate Total: Bachelor's degree                  | int  \n",
            "B15003_023E  | EDUCATIONAL ATTAINMENT FOR THE | !! !! Estimate Total: Master's degree                    | int  \n",
            "B15003_024E  | EDUCATIONAL ATTAINMENT FOR THE | !! !! Estimate Total: Professional school degree         | int  \n",
            "B15003_025E  | EDUCATIONAL ATTAINMENT FOR THE | !! !! Estimate Total: Doctorate degree                   | int  \n",
            "-------------------------------------------------------------------------------------------------------------------\n"
          ],
          "name": "stdout"
        }
      ]
    },
    {
      "cell_type": "code",
      "metadata": {
        "colab": {
          "base_uri": "https://localhost:8080/"
        },
        "id": "C2F91EFRqFWK",
        "outputId": "5c82c890-fcab-402c-cefa-da3dd320227a"
      },
      "source": [
        "#censusdata.printtable(censusdata.censustable('acs5', 2014, 'B15003'))"
      ],
      "execution_count": null,
      "outputs": [
        {
          "output_type": "stream",
          "text": [
            "Variable     | Table                          | Label                                                    | Type \n",
            "-------------------------------------------------------------------------------------------------------------------\n",
            "B15003_001E  | B15003.  Educational Attainmen | Total:                                                   | int  \n",
            "B15003_002E  | B15003.  Educational Attainmen | No schooling completed                                   | int  \n",
            "B15003_003E  | B15003.  Educational Attainmen | Nursery school                                           | int  \n",
            "B15003_004E  | B15003.  Educational Attainmen | Kindergarten                                             | int  \n",
            "B15003_005E  | B15003.  Educational Attainmen | 1st grade                                                | int  \n",
            "B15003_006E  | B15003.  Educational Attainmen | 2nd grade                                                | int  \n",
            "B15003_007E  | B15003.  Educational Attainmen | 3rd grade                                                | int  \n",
            "B15003_008E  | B15003.  Educational Attainmen | 4th grade                                                | int  \n",
            "B15003_009E  | B15003.  Educational Attainmen | 5th grade                                                | int  \n",
            "B15003_010E  | B15003.  Educational Attainmen | 6th grade                                                | int  \n",
            "B15003_011E  | B15003.  Educational Attainmen | 7th grade                                                | int  \n",
            "B15003_012E  | B15003.  Educational Attainmen | 8th grade                                                | int  \n",
            "B15003_013E  | B15003.  Educational Attainmen | 9th grade                                                | int  \n",
            "B15003_014E  | B15003.  Educational Attainmen | 10th grade                                               | int  \n",
            "B15003_015E  | B15003.  Educational Attainmen | 11th grade                                               | int  \n",
            "B15003_016E  | B15003.  Educational Attainmen | 12th grade, no diploma                                   | int  \n",
            "B15003_017E  | B15003.  Educational Attainmen | Regular high school diploma                              | int  \n",
            "B15003_018E  | B15003.  Educational Attainmen | GED or alternative credential                            | int  \n",
            "B15003_019E  | B15003.  Educational Attainmen | Some college, less than 1 year                           | int  \n",
            "B15003_020E  | B15003.  Educational Attainmen | Some college, 1 or more years, no degree                 | int  \n",
            "B15003_021E  | B15003.  Educational Attainmen | Associate's degree                                       | int  \n",
            "B15003_022E  | B15003.  Educational Attainmen | Bachelor's degree                                        | int  \n",
            "B15003_023E  | B15003.  Educational Attainmen | Master's degree                                          | int  \n",
            "B15003_024E  | B15003.  Educational Attainmen | Professional school degree                               | int  \n",
            "B15003_025E  | B15003.  Educational Attainmen | Doctorate degree                                         | int  \n",
            "-------------------------------------------------------------------------------------------------------------------\n"
          ],
          "name": "stdout"
        }
      ]
    },
    {
      "cell_type": "code",
      "metadata": {
        "colab": {
          "base_uri": "https://localhost:8080/"
        },
        "id": "bP3PNtFEjIlE",
        "outputId": "c87a333f-8315-4433-b4c4-c29c2fe38a6c"
      },
      "source": [
        "#censusdata.printtable(censusdata.censustable('acs5', 2019, 'B25090')) #real estate taxes paid in dollars with and without mortgage acs5 2019 owner occupied housing units"
      ],
      "execution_count": null,
      "outputs": [
        {
          "output_type": "stream",
          "text": [
            "Variable     | Table                          | Label                                                    | Type \n",
            "-------------------------------------------------------------------------------------------------------------------\n",
            "B25090_001E  | MORTGAGE STATUS BY AGGREGATE R | !! Estimate Aggregate real estate taxes paid (dollars):  | int  \n",
            "B25090_002E  | MORTGAGE STATUS BY AGGREGATE R | !! !! Estimate Aggregate real estate taxes paid (dollars | int  \n",
            "B25090_003E  | MORTGAGE STATUS BY AGGREGATE R | !! !! Estimate Aggregate real estate taxes paid (dollars | int  \n",
            "-------------------------------------------------------------------------------------------------------------------\n"
          ],
          "name": "stdout"
        }
      ]
    },
    {
      "cell_type": "code",
      "metadata": {
        "colab": {
          "base_uri": "https://localhost:8080/"
        },
        "id": "i1Fb1x14qm8A",
        "outputId": "48f0996f-5f20-4075-d50c-d69c6d7792b4"
      },
      "source": [
        "#censusdata.printtable(censusdata.censustable('acs5', 2014, 'B25090'))"
      ],
      "execution_count": null,
      "outputs": [
        {
          "output_type": "stream",
          "text": [
            "Variable     | Table                          | Label                                                    | Type \n",
            "-------------------------------------------------------------------------------------------------------------------\n",
            "B25090_001E  | B25090.  Mortgage Status by Ag | Aggregate real estate taxes paid (dollars):              | int  \n",
            "B25090_002E  | B25090.  Mortgage Status by Ag | !! Aggregate real estate taxes paid (dollars): Aggregate | int  \n",
            "B25090_003E  | B25090.  Mortgage Status by Ag | !! Aggregate real estate taxes paid (dollars): Aggregate | int  \n",
            "-------------------------------------------------------------------------------------------------------------------\n"
          ],
          "name": "stdout"
        }
      ]
    },
    {
      "cell_type": "code",
      "metadata": {
        "colab": {
          "base_uri": "https://localhost:8080/"
        },
        "id": "NX4i430OwE8C",
        "outputId": "d80920de-7ece-4b40-c5e2-02c7e7d70068"
      },
      "source": [
        "censusdata.printtable(censusdata.censustable('acs5', 2019, 'B25064')) # Median gross rent"
      ],
      "execution_count": null,
      "outputs": [
        {
          "output_type": "stream",
          "text": [
            "Variable     | Table                          | Label                                                    | Type \n",
            "-------------------------------------------------------------------------------------------------------------------\n",
            "B25064_001E  | MEDIAN GROSS RENT (DOLLARS)    | !! Estimate Median gross rent                            | int  \n",
            "-------------------------------------------------------------------------------------------------------------------\n"
          ],
          "name": "stdout"
        }
      ]
    },
    {
      "cell_type": "code",
      "metadata": {
        "colab": {
          "base_uri": "https://localhost:8080/"
        },
        "id": "UYUJefZBwSK6",
        "outputId": "85939464-acd9-4ab8-dca0-70d4c6ff146f"
      },
      "source": [
        "censusdata.printtable(censusdata.censustable('acs5', 2014, 'B25064'))"
      ],
      "execution_count": null,
      "outputs": [
        {
          "output_type": "stream",
          "text": [
            "Variable     | Table                          | Label                                                    | Type \n",
            "-------------------------------------------------------------------------------------------------------------------\n",
            "B25064_001E  | B25064.  Median Gross Rent (Do | Median gross rent                                        | int  \n",
            "-------------------------------------------------------------------------------------------------------------------\n"
          ],
          "name": "stdout"
        }
      ]
    },
    {
      "cell_type": "code",
      "metadata": {
        "colab": {
          "base_uri": "https://localhost:8080/"
        },
        "id": "LzOSSw_pmkSd",
        "outputId": "2e9717fc-ab5e-4ec6-c8e4-b20d3724ce20"
      },
      "source": [
        "# censusdata.printtable(censusdata.censustable('acs5', 2019, 'B25076')) #dollar amounts by quartile for house values for owner occupied housing units. \r\n",
        "# censusdata.printtable(censusdata.censustable('acs5', 2019, 'B25077'))\r\n",
        "# censusdata.printtable(censusdata.censustable('acs5', 2019, 'B25078'))"
      ],
      "execution_count": null,
      "outputs": [
        {
          "output_type": "stream",
          "text": [
            "Variable     | Table                          | Label                                                    | Type \n",
            "-------------------------------------------------------------------------------------------------------------------\n",
            "B25076_001E  | LOWER VALUE QUARTILE (DOLLARS) | !! Estimate Lower value quartile (dollars)               | int  \n",
            "-------------------------------------------------------------------------------------------------------------------\n",
            "Variable     | Table                          | Label                                                    | Type \n",
            "-------------------------------------------------------------------------------------------------------------------\n",
            "B25077_001E  | MEDIAN VALUE (DOLLARS)         | !! Estimate Median value (dollars)                       | int  \n",
            "-------------------------------------------------------------------------------------------------------------------\n",
            "Variable     | Table                          | Label                                                    | Type \n",
            "-------------------------------------------------------------------------------------------------------------------\n",
            "B25078_001E  | UPPER VALUE QUARTILE (DOLLARS) | !! Estimate Upper value quartile (dollars)               | int  \n",
            "-------------------------------------------------------------------------------------------------------------------\n"
          ],
          "name": "stdout"
        }
      ]
    },
    {
      "cell_type": "code",
      "metadata": {
        "colab": {
          "base_uri": "https://localhost:8080/"
        },
        "id": "eqC-wCNJ3CMB",
        "outputId": "3d45f5eb-a3ce-4d08-d32a-1034dd46aa7e"
      },
      "source": [
        "# censusdata.printtable(censusdata.censustable('acs5', 2014, 'B25076')) #dollar amounts by quartile for house values for owner occupied housing units. \r\n",
        "# censusdata.printtable(censusdata.censustable('acs5', 2014, 'B25077'))\r\n",
        "# censusdata.printtable(censusdata.censustable('acs5', 2014, 'B25078'))"
      ],
      "execution_count": null,
      "outputs": [
        {
          "output_type": "stream",
          "text": [
            "Variable     | Table                          | Label                                                    | Type \n",
            "-------------------------------------------------------------------------------------------------------------------\n",
            "B25076_001E  | B25076.  Lower Value Quartile  | Lower value quartile (dollars)                           | int  \n",
            "-------------------------------------------------------------------------------------------------------------------\n",
            "Variable     | Table                          | Label                                                    | Type \n",
            "-------------------------------------------------------------------------------------------------------------------\n",
            "B25077_001E  | B25077.  Median Value (Dollars | Median value (dollars)                                   | int  \n",
            "-------------------------------------------------------------------------------------------------------------------\n",
            "Variable     | Table                          | Label                                                    | Type \n",
            "-------------------------------------------------------------------------------------------------------------------\n",
            "B25078_001E  | B25078.  Upper Value Quartile  | Upper value quartile (dollars)                           | int  \n",
            "-------------------------------------------------------------------------------------------------------------------\n"
          ],
          "name": "stdout"
        }
      ]
    },
    {
      "cell_type": "code",
      "metadata": {
        "colab": {
          "base_uri": "https://localhost:8080/"
        },
        "id": "jtaVgYjYpNUh",
        "outputId": "a19cfe16-10c4-4925-f9c6-51fd5e704657"
      },
      "source": [
        "#censusdata.printtable(censusdata.censustable('acs5', 2019, 'B25081')) #mortgage staus owner occupied housing units. "
      ],
      "execution_count": null,
      "outputs": [
        {
          "output_type": "stream",
          "text": [
            "Variable     | Table                          | Label                                                    | Type \n",
            "-------------------------------------------------------------------------------------------------------------------\n",
            "B25081_001E  | MORTGAGE STATUS                | !! Estimate Total:                                       | int  \n",
            "B25081_002E  | MORTGAGE STATUS                | !! !! Estimate Total: Housing units with a mortgage, con | int  \n",
            "B25081_003E  | MORTGAGE STATUS                | !! !! !! Estimate Total: Housing units with a mortgage,  | int  \n",
            "B25081_004E  | MORTGAGE STATUS                | !! !! !! !! Estimate Total: Housing units with a mortgag | int  \n",
            "B25081_005E  | MORTGAGE STATUS                | !! !! !! !! Estimate Total: Housing units with a mortgag | int  \n",
            "B25081_006E  | MORTGAGE STATUS                | !! !! !! Estimate Total: Housing units with a mortgage,  | int  \n",
            "B25081_007E  | MORTGAGE STATUS                | !! !! !! Estimate Total: Housing units with a mortgage,  | int  \n",
            "B25081_008E  | MORTGAGE STATUS                | !! !! Estimate Total: Housing units without a mortgage   | int  \n",
            "-------------------------------------------------------------------------------------------------------------------\n"
          ],
          "name": "stdout"
        }
      ]
    },
    {
      "cell_type": "code",
      "metadata": {
        "colab": {
          "base_uri": "https://localhost:8080/"
        },
        "id": "63x57XTA3zjG",
        "outputId": "10986f13-3c5a-4e19-b677-e75c76fda3a7"
      },
      "source": [
        "#censusdata.printtable(censusdata.censustable('acs5', 2014, 'B25081')) "
      ],
      "execution_count": null,
      "outputs": [
        {
          "output_type": "stream",
          "text": [
            "Variable     | Table                          | Label                                                    | Type \n",
            "-------------------------------------------------------------------------------------------------------------------\n",
            "B25081_001E  | B25081.  MORTGAGE STATUS       | Total:                                                   | int  \n",
            "B25081_002E  | B25081.  MORTGAGE STATUS       | Housing units with a mortgage, contract to purchase, or  | int  \n",
            "B25081_003E  | B25081.  MORTGAGE STATUS       | !! Housing units with a mortgage, contract to purchase,  | int  \n",
            "B25081_004E  | B25081.  MORTGAGE STATUS       | !! !! Housing units with a mortgage, contract to purchas | int  \n",
            "B25081_005E  | B25081.  MORTGAGE STATUS       | !! !! Housing units with a mortgage, contract to purchas | int  \n",
            "B25081_006E  | B25081.  MORTGAGE STATUS       | !! Housing units with a mortgage, contract to purchase,  | int  \n",
            "B25081_007E  | B25081.  MORTGAGE STATUS       | !! Housing units with a mortgage, contract to purchase,  | int  \n",
            "B25081_008E  | B25081.  MORTGAGE STATUS       | Housing units without a mortgage                         | int  \n",
            "-------------------------------------------------------------------------------------------------------------------\n"
          ],
          "name": "stdout"
        }
      ]
    },
    {
      "cell_type": "code",
      "metadata": {
        "colab": {
          "base_uri": "https://localhost:8080/"
        },
        "id": "luKm8g2pvBBR",
        "outputId": "2b139385-9b48-4cda-c9b3-85766b3f3802"
      },
      "source": [
        " #censusdata.printtable(censusdata.censustable('acs5', 2019, 'B25041')) #acs5 2019 number of bedrooms for housing units.  "
      ],
      "execution_count": null,
      "outputs": [
        {
          "output_type": "stream",
          "text": [
            "Variable     | Table                          | Label                                                    | Type \n",
            "-------------------------------------------------------------------------------------------------------------------\n",
            "B25041_001E  | BEDROOMS                       | !! Estimate Total:                                       | int  \n",
            "B25041_002E  | BEDROOMS                       | !! !! Estimate Total: No bedroom                         | int  \n",
            "B25041_003E  | BEDROOMS                       | !! !! Estimate Total: 1 bedroom                          | int  \n",
            "B25041_004E  | BEDROOMS                       | !! !! Estimate Total: 2 bedrooms                         | int  \n",
            "B25041_005E  | BEDROOMS                       | !! !! Estimate Total: 3 bedrooms                         | int  \n",
            "B25041_006E  | BEDROOMS                       | !! !! Estimate Total: 4 bedrooms                         | int  \n",
            "B25041_007E  | BEDROOMS                       | !! !! Estimate Total: 5 or more bedrooms                 | int  \n",
            "-------------------------------------------------------------------------------------------------------------------\n"
          ],
          "name": "stdout"
        }
      ]
    },
    {
      "cell_type": "code",
      "metadata": {
        "colab": {
          "base_uri": "https://localhost:8080/"
        },
        "id": "--V4tS5p5K1y",
        "outputId": "b5111309-ef92-4e3e-b606-bc26580490da"
      },
      "source": [
        "#censusdata.printtable(censusdata.censustable('acs5', 2014, 'B25041'))"
      ],
      "execution_count": null,
      "outputs": [
        {
          "output_type": "stream",
          "text": [
            "Variable     | Table                          | Label                                                    | Type \n",
            "-------------------------------------------------------------------------------------------------------------------\n",
            "B25041_001E  | B25041.  Bedrooms              | Total:                                                   | int  \n",
            "B25041_002E  | B25041.  Bedrooms              | No bedroom                                               | int  \n",
            "B25041_003E  | B25041.  Bedrooms              | 1 bedroom                                                | int  \n",
            "B25041_004E  | B25041.  Bedrooms              | 2 bedrooms                                               | int  \n",
            "B25041_005E  | B25041.  Bedrooms              | 3 bedrooms                                               | int  \n",
            "B25041_006E  | B25041.  Bedrooms              | 4 bedrooms                                               | int  \n",
            "B25041_007E  | B25041.  Bedrooms              | 5 or more bedrooms                                       | int  \n",
            "-------------------------------------------------------------------------------------------------------------------\n"
          ],
          "name": "stdout"
        }
      ]
    },
    {
      "cell_type": "code",
      "metadata": {
        "colab": {
          "base_uri": "https://localhost:8080/"
        },
        "id": "TTCcjby_vu4M",
        "outputId": "3783f05c-53ec-43d8-b9c6-a8da123b30f9"
      },
      "source": [
        " censusdata.printtable(censusdata.censustable('acs5', 2019, 'B25034')) #acs5 2019 year structure built for housing units. "
      ],
      "execution_count": null,
      "outputs": [
        {
          "output_type": "stream",
          "text": [
            "Variable     | Table                          | Label                                                    | Type \n",
            "-------------------------------------------------------------------------------------------------------------------\n",
            "B25034_001E  | YEAR STRUCTURE BUILT           | !! Estimate Total:                                       | int  \n",
            "B25034_002E  | YEAR STRUCTURE BUILT           | !! !! Estimate Total: Built 2014 or later                | int  \n",
            "B25034_003E  | YEAR STRUCTURE BUILT           | !! !! Estimate Total: Built 2010 to 2013                 | int  \n",
            "B25034_004E  | YEAR STRUCTURE BUILT           | !! !! Estimate Total: Built 2000 to 2009                 | int  \n",
            "B25034_005E  | YEAR STRUCTURE BUILT           | !! !! Estimate Total: Built 1990 to 1999                 | int  \n",
            "B25034_006E  | YEAR STRUCTURE BUILT           | !! !! Estimate Total: Built 1980 to 1989                 | int  \n",
            "B25034_007E  | YEAR STRUCTURE BUILT           | !! !! Estimate Total: Built 1970 to 1979                 | int  \n",
            "B25034_008E  | YEAR STRUCTURE BUILT           | !! !! Estimate Total: Built 1960 to 1969                 | int  \n",
            "B25034_009E  | YEAR STRUCTURE BUILT           | !! !! Estimate Total: Built 1950 to 1959                 | int  \n",
            "B25034_010E  | YEAR STRUCTURE BUILT           | !! !! Estimate Total: Built 1940 to 1949                 | int  \n",
            "B25034_011E  | YEAR STRUCTURE BUILT           | !! !! Estimate Total: Built 1939 or earlier              | int  \n",
            "-------------------------------------------------------------------------------------------------------------------\n"
          ],
          "name": "stdout"
        }
      ]
    },
    {
      "cell_type": "code",
      "metadata": {
        "colab": {
          "base_uri": "https://localhost:8080/"
        },
        "id": "UWO8-jLA5agG",
        "outputId": "669c07af-5bd2-4452-85ed-d62bf9d24fbf"
      },
      "source": [
        "censusdata.printtable(censusdata.censustable('acs5', 2014, 'B25034')) # NOTE: NO 2014 OR LATER AND 2010 TO 2013 IN 2014 ACS5 "
      ],
      "execution_count": null,
      "outputs": [
        {
          "output_type": "stream",
          "text": [
            "Variable     | Table                          | Label                                                    | Type \n",
            "-------------------------------------------------------------------------------------------------------------------\n",
            "B25034_001E  | B25034.  Year Structure Built  | Total:                                                   | int  \n",
            "B25034_002E  | B25034.  Year Structure Built  | Built 2010 or later                                      | int  \n",
            "B25034_003E  | B25034.  Year Structure Built  | Built 2000 to 2009                                       | int  \n",
            "B25034_004E  | B25034.  Year Structure Built  | Built 1990 to 1999                                       | int  \n",
            "B25034_005E  | B25034.  Year Structure Built  | Built 1980 to 1989                                       | int  \n",
            "B25034_006E  | B25034.  Year Structure Built  | Built 1970 to 1979                                       | int  \n",
            "B25034_007E  | B25034.  Year Structure Built  | Built 1960 to 1969                                       | int  \n",
            "B25034_008E  | B25034.  Year Structure Built  | Built 1950 to 1959                                       | int  \n",
            "B25034_009E  | B25034.  Year Structure Built  | Built 1940 to 1949                                       | int  \n",
            "B25034_010E  | B25034.  Year Structure Built  | Built 1939 or earlier                                    | int  \n",
            "-------------------------------------------------------------------------------------------------------------------\n"
          ],
          "name": "stdout"
        }
      ]
    },
    {
      "cell_type": "code",
      "metadata": {
        "colab": {
          "base_uri": "https://localhost:8080/"
        },
        "id": "AJREw20IwljS",
        "outputId": "ee934be7-41a7-4230-b256-4c2f64e9f339"
      },
      "source": [
        "#censusdata.printtable(censusdata.censustable('acs5', 2019, 'B02001')) #acs5 2019 Race total population. "
      ],
      "execution_count": null,
      "outputs": [
        {
          "output_type": "stream",
          "text": [
            "Variable     | Table                          | Label                                                    | Type \n",
            "-------------------------------------------------------------------------------------------------------------------\n",
            "B02001_001E  | RACE                           | !! Estimate Total:                                       | int  \n",
            "B02001_002E  | RACE                           | !! !! Estimate Total: White alone                        | int  \n",
            "B02001_003E  | RACE                           | !! !! Estimate Total: Black or African American alone    | int  \n",
            "B02001_004E  | RACE                           | !! !! Estimate Total: American Indian and Alaska Native  | int  \n",
            "B02001_005E  | RACE                           | !! !! Estimate Total: Asian alone                        | int  \n",
            "B02001_006E  | RACE                           | !! !! Estimate Total: Native Hawaiian and Other Pacific  | int  \n",
            "B02001_007E  | RACE                           | !! !! Estimate Total: Some other race alone              | int  \n",
            "B02001_008E  | RACE                           | !! !! Estimate Total: Two or more races:                 | int  \n",
            "B02001_009E  | RACE                           | !! !! !! Estimate Total: Two or more races: Two races in | int  \n",
            "B02001_010E  | RACE                           | !! !! !! Estimate Total: Two or more races: Two races ex | int  \n",
            "-------------------------------------------------------------------------------------------------------------------\n"
          ],
          "name": "stdout"
        }
      ]
    },
    {
      "cell_type": "code",
      "metadata": {
        "colab": {
          "base_uri": "https://localhost:8080/"
        },
        "id": "tu-XRhMtO4a4",
        "outputId": "c12929c1-21ca-4be9-89c6-eda2a8c882e6"
      },
      "source": [
        "#censusdata.printtable(censusdata.censustable('acs5', 2014, 'B02001'))"
      ],
      "execution_count": null,
      "outputs": [
        {
          "output_type": "stream",
          "text": [
            "Variable     | Table                          | Label                                                    | Type \n",
            "-------------------------------------------------------------------------------------------------------------------\n",
            "B02001_001E  | B02001.  Race                  | Total:                                                   | int  \n",
            "B02001_002E  | B02001.  Race                  | White alone                                              | int  \n",
            "B02001_003E  | B02001.  Race                  | Black or African American alone                          | int  \n",
            "B02001_004E  | B02001.  Race                  | American Indian and Alaska Native alone                  | int  \n",
            "B02001_005E  | B02001.  Race                  | Asian alone                                              | int  \n",
            "B02001_006E  | B02001.  Race                  | Native Hawaiian and Other Pacific Islander alone         | int  \n",
            "B02001_007E  | B02001.  Race                  | Some other race alone                                    | int  \n",
            "B02001_008E  | B02001.  Race                  | Two or more races:                                       | int  \n",
            "B02001_009E  | B02001.  Race                  | !! Two or more races: Two races including Some other rac | int  \n",
            "B02001_010E  | B02001.  Race                  | !! Two or more races: Two races excluding Some other rac | int  \n",
            "-------------------------------------------------------------------------------------------------------------------\n"
          ],
          "name": "stdout"
        }
      ]
    },
    {
      "cell_type": "code",
      "metadata": {
        "colab": {
          "base_uri": "https://localhost:8080/"
        },
        "id": "RcfWJb6XxkU4",
        "outputId": "f352ae6e-151f-482c-d636-6df27380acba"
      },
      "source": [
        "#censusdata.printtable(censusdata.censustable('acs5', 2019, 'B08303')) #acs5 2019 workers 16 years and over who did not work from home. "
      ],
      "execution_count": null,
      "outputs": [
        {
          "output_type": "stream",
          "text": [
            "Variable     | Table                          | Label                                                    | Type \n",
            "-------------------------------------------------------------------------------------------------------------------\n",
            "B08303_001E  | TRAVEL TIME TO WORK            | !! Estimate Total:                                       | int  \n",
            "B08303_002E  | TRAVEL TIME TO WORK            | !! !! Estimate Total: Less than 5 minutes                | int  \n",
            "B08303_003E  | TRAVEL TIME TO WORK            | !! !! Estimate Total: 5 to 9 minutes                     | int  \n",
            "B08303_004E  | TRAVEL TIME TO WORK            | !! !! Estimate Total: 10 to 14 minutes                   | int  \n",
            "B08303_005E  | TRAVEL TIME TO WORK            | !! !! Estimate Total: 15 to 19 minutes                   | int  \n",
            "B08303_006E  | TRAVEL TIME TO WORK            | !! !! Estimate Total: 20 to 24 minutes                   | int  \n",
            "B08303_007E  | TRAVEL TIME TO WORK            | !! !! Estimate Total: 25 to 29 minutes                   | int  \n",
            "B08303_008E  | TRAVEL TIME TO WORK            | !! !! Estimate Total: 30 to 34 minutes                   | int  \n",
            "B08303_009E  | TRAVEL TIME TO WORK            | !! !! Estimate Total: 35 to 39 minutes                   | int  \n",
            "B08303_010E  | TRAVEL TIME TO WORK            | !! !! Estimate Total: 40 to 44 minutes                   | int  \n",
            "B08303_011E  | TRAVEL TIME TO WORK            | !! !! Estimate Total: 45 to 59 minutes                   | int  \n",
            "B08303_012E  | TRAVEL TIME TO WORK            | !! !! Estimate Total: 60 to 89 minutes                   | int  \n",
            "B08303_013E  | TRAVEL TIME TO WORK            | !! !! Estimate Total: 90 or more minutes                 | int  \n",
            "-------------------------------------------------------------------------------------------------------------------\n"
          ],
          "name": "stdout"
        }
      ]
    },
    {
      "cell_type": "code",
      "metadata": {
        "colab": {
          "base_uri": "https://localhost:8080/"
        },
        "id": "waKmkYVvQT49",
        "outputId": "dc87fd88-0cd7-40d3-d9f2-fd9efe0212b7"
      },
      "source": [
        "#censusdata.printtable(censusdata.censustable('acs5', 2014, 'B08303'))"
      ],
      "execution_count": null,
      "outputs": [
        {
          "output_type": "stream",
          "text": [
            "Variable     | Table                          | Label                                                    | Type \n",
            "-------------------------------------------------------------------------------------------------------------------\n",
            "B08303_001E  | B08303.  Travel Time to Work   | Total:                                                   | int  \n",
            "B08303_002E  | B08303.  Travel Time to Work   | Less than 5 minutes                                      | int  \n",
            "B08303_003E  | B08303.  Travel Time to Work   | 5 to 9 minutes                                           | int  \n",
            "B08303_004E  | B08303.  Travel Time to Work   | 10 to 14 minutes                                         | int  \n",
            "B08303_005E  | B08303.  Travel Time to Work   | 15 to 19 minutes                                         | int  \n",
            "B08303_006E  | B08303.  Travel Time to Work   | 20 to 24 minutes                                         | int  \n",
            "B08303_007E  | B08303.  Travel Time to Work   | 25 to 29 minutes                                         | int  \n",
            "B08303_008E  | B08303.  Travel Time to Work   | 30 to 34 minutes                                         | int  \n",
            "B08303_009E  | B08303.  Travel Time to Work   | 35 to 39 minutes                                         | int  \n",
            "B08303_010E  | B08303.  Travel Time to Work   | 40 to 44 minutes                                         | int  \n",
            "B08303_011E  | B08303.  Travel Time to Work   | 45 to 59 minutes                                         | int  \n",
            "B08303_012E  | B08303.  Travel Time to Work   | 60 to 89 minutes                                         | int  \n",
            "B08303_013E  | B08303.  Travel Time to Work   | 90 or more minutes                                       | int  \n",
            "-------------------------------------------------------------------------------------------------------------------\n"
          ],
          "name": "stdout"
        }
      ]
    },
    {
      "cell_type": "markdown",
      "metadata": {
        "id": "rBDhK3YlzVui"
      },
      "source": [
        "ACS 5-year estimates for 2019 variables of interest above. Now I will get the geographies of interest for this dataframe at the block group level."
      ]
    },
    {
      "cell_type": "code",
      "metadata": {
        "id": "zyPyCh7u9Iej"
      },
      "source": [
        "#censusdata.geographies(censusdata.censusgeo([('state', '56')]), 'acs5', 2019)"
      ],
      "execution_count": null,
      "outputs": []
    },
    {
      "cell_type": "code",
      "metadata": {
        "id": "kcDiIuSuQGD3"
      },
      "source": [
        "vars = ['B15003', 'B25090', 'B25064','B25076', 'B25077', 'B25078', 'B25081', 'B25041', 'B25034', 'B02001','B08303'] #get list of variables. \r\n",
        "variables = []\r\n",
        "for i in range(len(vars)):  \r\n",
        "  h = list(censusdata.censustable('acs5', 2019, vars[i]).keys())\r\n",
        "  variables.extend(h)\r\n",
        "\r\n",
        "for i in variables: \r\n",
        "    if i.endswith(\"M\"): \r\n",
        "        variables.remove(i)"
      ],
      "execution_count": null,
      "outputs": []
    },
    {
      "cell_type": "code",
      "metadata": {
        "colab": {
          "base_uri": "https://localhost:8080/"
        },
        "id": "UCAUuZJJBFVr",
        "outputId": "2e43faed-e7df-4b71-e9df-60ea38eab1e7"
      },
      "source": [
        "my_states = [\"04\", \"06\", \"08\", \"16\", \"30\", \"32\", \"35\", \"41\", \"49\", \"53\", \"56\"] #Arizona, California, Colorado, Idaho, Montana, Nevada, New Mexico, Oregon, Utah, Washington, Wyoming. \r\n",
        "geo = [0]*len(my_states)\r\n",
        "for i in range(len(my_states)):\r\n",
        "  geo[i] = censusdata.censusgeo([('state', my_states[i]), ('county', '*'), ('block group', '*')])\r\n",
        "print(geo) #selected block groups in specified states. "
      ],
      "execution_count": 107,
      "outputs": [
        {
          "output_type": "stream",
          "text": [
            "[censusgeo((('state', '04'), ('county', '*'), ('block group', '*'))), censusgeo((('state', '06'), ('county', '*'), ('block group', '*'))), censusgeo((('state', '08'), ('county', '*'), ('block group', '*'))), censusgeo((('state', '16'), ('county', '*'), ('block group', '*'))), censusgeo((('state', '30'), ('county', '*'), ('block group', '*'))), censusgeo((('state', '32'), ('county', '*'), ('block group', '*'))), censusgeo((('state', '35'), ('county', '*'), ('block group', '*'))), censusgeo((('state', '41'), ('county', '*'), ('block group', '*'))), censusgeo((('state', '49'), ('county', '*'), ('block group', '*'))), censusgeo((('state', '53'), ('county', '*'), ('block group', '*'))), censusgeo((('state', '56'), ('county', '*'), ('block group', '*')))]\n"
          ],
          "name": "stdout"
        }
      ]
    },
    {
      "cell_type": "code",
      "metadata": {
        "id": "B0WvSHmSyAS4"
      },
      "source": [
        "acs_2019_frames = [0]*len(my_states)\r\n",
        "for i in range(len(geo)):\r\n",
        "  acs_2019_frames[i] = censusdata.download('acs5', 2019, geo[i], variables)\r\n",
        "  \r\n",
        "acs_2019 = pd.concat(acs_2019_frames, axis = 0)"
      ],
      "execution_count": 214,
      "outputs": []
    },
    {
      "cell_type": "code",
      "metadata": {
        "id": "nFxtJarNkYdx"
      },
      "source": [
        "US_block_groups = gpd.read_file('/content/drive/MyDrive/Colab Notebooks/cb_2019_us_bg_500k/cb_2019_us_bg_500k.shp') #imported .shp shapefile from census for national block groups."
      ],
      "execution_count": 216,
      "outputs": []
    },
    {
      "cell_type": "code",
      "metadata": {
        "colab": {
          "base_uri": "https://localhost:8080/"
        },
        "id": "vWFHFGuBr4SH",
        "outputId": "8f786b5d-3542-4f9d-8748-cebec661142f"
      },
      "source": [
        "print(US_block_groups)"
      ],
      "execution_count": 217,
      "outputs": [
        {
          "output_type": "stream",
          "text": [
            "       STATEFP COUNTYFP TRACTCE BLKGRPCE               AFFGEOID         GEOID NAME LSAD     ALAND   AWATER                                           geometry\n",
            "0           01      073  012910        1  1500000US010730129101  010730129101    1   BG   3671177   150769  POLYGON ((-86.75138 33.41740, -86.74840 33.420...\n",
            "1           25      011  040200        2  1500000US250110402002  250110402002    2   BG  32125802    41213  POLYGON ((-72.56997 42.72995, -72.56587 42.729...\n",
            "2           25      021  417801        2  1500000US250214178012  250214178012    2   BG    232628   901918  POLYGON ((-70.95372 42.26263, -70.95424 42.268...\n",
            "3           01      025  957602        5  1500000US010259576025  010259576025    5   BG   5858511        0  POLYGON ((-87.74117 31.91317, -87.74044 31.917...\n",
            "4           26      055  551500        3  1500000US260555515003  260555515003    3   BG    732994  1222123  POLYGON ((-85.64475 44.77376, -85.64404 44.773...\n",
            "...        ...      ...     ...      ...                    ...           ...  ...  ...       ...      ...                                                ...\n",
            "220409      05      069  001200        3  1500000US050690012003  050690012003    3   BG    660509        0  POLYGON ((-92.02159 34.21638, -92.02058 34.217...\n",
            "220410      42      133  001300        3  1500000US421330013003  421330013003    3   BG    879725        0  POLYGON ((-76.76281 39.96529, -76.75515 39.966...\n",
            "220411      42      133  023000        5  1500000US421330230005  421330230005    5   BG    572956        0  POLYGON ((-76.65320 39.90682, -76.64898 39.907...\n",
            "220412      42      003  140300        3  1500000US420031403003  420031403003    3   BG    255285        0  POLYGON ((-79.92778 40.44090, -79.91990 40.441...\n",
            "220413      21      083  020800        1  1500000US210830208001  210830208001    1   BG  81429133  1000315  POLYGON ((-88.68851 36.94273, -88.67415 36.942...\n",
            "\n",
            "[220414 rows x 11 columns]\n"
          ],
          "name": "stdout"
        }
      ]
    },
    {
      "cell_type": "markdown",
      "metadata": {
        "id": "TQaXhRRT-nSt"
      },
      "source": [
        "Census shapefile imported from: https://www.census.gov/geographies/mapping-files/time-series/geo/cartographic-boundary.html"
      ]
    },
    {
      "cell_type": "code",
      "metadata": {
        "id": "wOgH4jmeZOdg"
      },
      "source": [
        "acs_2019[\"STATEFP\"] = acs_2019.index #copy index column for geographic level."
      ],
      "execution_count": 218,
      "outputs": []
    },
    {
      "cell_type": "code",
      "metadata": {
        "id": "uLk2ogR822CP"
      },
      "source": [
        "acs_2019_bg = pd.DataFrame(acs_2019['STATEFP'].values.tolist(), index = acs_2019.index) #create seperate dataframe for block groups, becuase it is a list in STATEFP. \r\n",
        "acs_2019_bg = acs_2019_bg.rename(columns= {0:\"STATEFP0\"})"
      ],
      "execution_count": 219,
      "outputs": []
    },
    {
      "cell_type": "code",
      "metadata": {
        "id": "DvHSCgNs9HR-"
      },
      "source": [
        "acs_2019_bg_0 = acs_2019_bg.STATEFP0.astype(str).str.split(pat = \":\", expand = True) #split STATEFP0 column on : and convert to string then expand across rows. \r\n",
        "acs_2019_bg_0 = acs_2019_bg_0.rename(columns = {3:\"STATEFP\", 4:\"COUNTYFP\", 5:\"TRACTCE\", 6:\"BLKGRPCE\"})[[\"STATEFP\", \"COUNTYFP\", \"TRACTCE\", \"BLKGRPCE\"]] #select columns of interest. \r\n",
        "acs_2019_bg_0[\"STATEFP\"] = acs_2019_bg_0[\"STATEFP\"].str.replace(\"> county\",\"\")\r\n",
        "acs_2019_bg_0[\"COUNTYFP\"] = acs_2019_bg_0[\"COUNTYFP\"].str.replace(\"> tract\",\"\")\r\n",
        "acs_2019_bg_0[\"TRACTCE\"] = acs_2019_bg_0[\"TRACTCE\"].str.replace(\"> block group\",\"\")\r\n",
        "#these are all the block groups across the united states in the acs5 2019.\r\n"
      ],
      "execution_count": 220,
      "outputs": []
    },
    {
      "cell_type": "code",
      "metadata": {
        "id": "k26byXA9dtfe"
      },
      "source": [
        "acs_2019_mg = pd.merge(acs_2019, acs_2019_bg_0, left_index= True, right_index= True, how=\"left\") #merge on index by matching values of left dataframe with all block groups, mg merge on geography. \r\n",
        "acs_2019_mg = acs_2019_mg.drop(columns = 'STATEFP_x').rename(columns = {\"STATEFP_y\": \"STATEFP\"}) #drop the extra column from earlier and rename the column not dropped. \r\n"
      ],
      "execution_count": 221,
      "outputs": []
    },
    {
      "cell_type": "markdown",
      "metadata": {
        "id": "TT6c78XApzJ9"
      },
      "source": [
        "Merge `acs_2019_mg` with `US_block_groups` to get geometry of block groups in same dataframe as the ACS 2019 5-year estimmate variables. Merge will be on `STATEFP`, `COUNTYFP`, `TRACTCE`, and `BLKGRPCE` geography variables. "
      ]
    },
    {
      "cell_type": "code",
      "metadata": {
        "id": "N-PRqWyrqwND"
      },
      "source": [
        "acs_2019_mgblock = pd.merge(acs_2019_mg, US_block_groups, on = ['STATEFP', 'COUNTYFP', 'TRACTCE','BLKGRPCE'], how = \"left\") #merge with block group geometry. "
      ],
      "execution_count": 222,
      "outputs": []
    },
    {
      "cell_type": "code",
      "metadata": {
        "id": "xVH_WPYBWJ_M",
        "colab": {
          "base_uri": "https://localhost:8080/"
        },
        "outputId": "ae561ff4-dbe7-47f8-b5e3-31799504cd3c"
      },
      "source": [
        "acs_table_shell = pd.read_csv('/content/drive/MyDrive/Colab Notebooks/ACS2019_Table_Shells (1).csv', encoding= 'unicode_escape') #read in variable names from acs 2019 shell file\r\n",
        "print(acs_table_shell)"
      ],
      "execution_count": 223,
      "outputs": [
        {
          "output_type": "stream",
          "text": [
            "      Table ID Line    UniqueID                                               Stub Data Release\n",
            "0               NaN         NaN                                                NaN          NaN\n",
            "1       B01001              NaN                                         SEX BY AGE          1,5\n",
            "2       B01001              NaN                        Universe:  Total population          NaN\n",
            "3       B01001    1  B01001_001                                             Total:          NaN\n",
            "4       B01001    2  B01001_002                                              Male:          NaN\n",
            "...        ...  ...         ...                                                ...          ...\n",
            "40010   B99283  1.5         NaN                                         Allocated:          NaN\n",
            "40011   B99283    2  B99283_002                                           Dial-up           NaN\n",
            "40012   B99283    3  B99283_003  Broadband such as cable, fiberoptic, or DSL, s...          NaN\n",
            "40013   B99283    4  B99283_004                                 Cellular data plan          NaN\n",
            "40014   B99283    5  B99283_005                                      Not allocated          NaN\n",
            "\n",
            "[40015 rows x 5 columns]\n"
          ],
          "name": "stdout"
        }
      ]
    },
    {
      "cell_type": "code",
      "metadata": {
        "id": "qrlHjYFIfOGZ"
      },
      "source": [
        "var = []\r\n",
        "for i in variables: \r\n",
        "    if i.endswith(\"E\"): \r\n",
        "        var.append(i[:-1])"
      ],
      "execution_count": null,
      "outputs": []
    },
    {
      "cell_type": "code",
      "metadata": {
        "id": "l-riZgMbiy8e"
      },
      "source": [
        "search_values = var\r\n",
        "acs_table_subset = acs_table_shell[acs_table_shell.UniqueID.str.contains('|'.join(search_values), na=False)]\r\n",
        "acs_table_subset = acs_table_subset[[\"UniqueID\", \"Stub\"]]\r\n",
        "acs_table_subset = acs_table_subset.set_index(\"UniqueID\") #table with variable codes and names, acs5 2019 table shell. "
      ],
      "execution_count": 226,
      "outputs": []
    },
    {
      "cell_type": "code",
      "metadata": {
        "colab": {
          "base_uri": "https://localhost:8080/"
        },
        "id": "L07DmWqJpmr4",
        "outputId": "0d17c6c6-684a-4b74-faa8-9582acbdf3bb"
      },
      "source": [
        "print(acs_table_subset)"
      ],
      "execution_count": 227,
      "outputs": [
        {
          "output_type": "stream",
          "text": [
            "                                                         Stub\n",
            "UniqueID                                                     \n",
            "B02001_001                                             Total:\n",
            "B02001_002                                        White alone\n",
            "B02001_003                    Black or African American alone\n",
            "B02001_004            American Indian and Alaska Native alone\n",
            "B02001_005                                        Asian alone\n",
            "...                                                       ...\n",
            "B25081_007         No second mortgage and no home equity loan\n",
            "B25081_008                   Housing units without a mortgage\n",
            "B25090_001        Aggregate real estate taxes paid (dollars):\n",
            "B25090_002  Aggregate real estate taxes paid for units wit...\n",
            "B25090_003  Aggregate real estate taxes paid for units wit...\n",
            "\n",
            "[81 rows x 1 columns]\n"
          ],
          "name": "stdout"
        }
      ]
    },
    {
      "cell_type": "code",
      "metadata": {
        "id": "VZ0t0WiusN6f"
      },
      "source": [
        "acs_2019_mgblock_t = acs_2019_mgblock.T\r\n",
        "acs_2019_mgblock_t[\"Index\"] = acs_2019_mgblock_t.index.str.replace(\"E\",\"\") #clean index on acs5 2019. \r\n",
        "acs_2019_mgblock_t = acs_2019_mgblock_t.set_index(\"Index\") "
      ],
      "execution_count": 228,
      "outputs": []
    },
    {
      "cell_type": "code",
      "metadata": {
        "id": "ZUnOejNQwMPK"
      },
      "source": [
        "acs_2019_varnames = acs_2019_mgblock_t.join(acs_table_subset).rename(columns = {\"Stub\": \"Variables\"}).T"
      ],
      "execution_count": 229,
      "outputs": []
    },
    {
      "cell_type": "code",
      "metadata": {
        "id": "zsFpkcbUStAR"
      },
      "source": [
        "acs_2019_varnames.at['Variables', 'STATFP'] = 'STATFP'\r\n",
        "acs_2019_varnames.at['Variables', 'COUNTYFP'] = 'COUNTYFP'\r\n",
        "acs_2019_varnames.at['Variables', 'TRACTC'] = 'TRACTC'\r\n",
        "acs_2019_varnames.at['Variables', 'BLKGRPC'] = 'BLKGRPC'\r\n",
        "acs_2019_varnames.at['Variables', 'AFFGOID'] = 'AFFGOID'\r\n",
        "acs_2019_varnames.at['Variables', 'GOID'] = 'GOID'\r\n",
        "acs_2019_varnames.at['Variables', 'NAM'] = 'NAM'\r\n",
        "acs_2019_varnames.at['Variables', 'LSAD'] = 'LSAD'\r\n",
        "acs_2019_varnames.at['Variables', 'ALAND'] = 'ALAND'\r\n",
        "acs_2019_varnames.at['Variables', 'AWATR'] = 'AWATR'\r\n",
        "acs_2019_varnames.at['Variables', 'geometry'] = 'geometry'"
      ],
      "execution_count": 230,
      "outputs": []
    },
    {
      "cell_type": "code",
      "metadata": {
        "id": "f1RuJgs3W-Q4"
      },
      "source": [
        "acs_2019_varnames.columns = acs_2019_varnames.iloc[45529] #reset column names with new variables row. \r\n"
      ],
      "execution_count": 231,
      "outputs": []
    },
    {
      "cell_type": "code",
      "metadata": {
        "colab": {
          "base_uri": "https://localhost:8080/",
          "height": 1000
        },
        "id": "BCmXbyZdbYYV",
        "outputId": "bb532448-0ebd-4f28-b4ed-59dc4355805f"
      },
      "source": [
        "acs_2019_varnames = acs_2019_varnames.drop(\"Variables\").reset_index(drop=True) #drop extra variables row and reset index. \r\n",
        "acs_2019_varnames"
      ],
      "execution_count": 232,
      "outputs": [
        {
          "output_type": "execute_result",
          "data": {
            "text/html": [
              "<div>\n",
              "<style scoped>\n",
              "    .dataframe tbody tr th:only-of-type {\n",
              "        vertical-align: middle;\n",
              "    }\n",
              "\n",
              "    .dataframe tbody tr th {\n",
              "        vertical-align: top;\n",
              "    }\n",
              "\n",
              "    .dataframe thead th {\n",
              "        text-align: right;\n",
              "    }\n",
              "</style>\n",
              "<table border=\"1\" class=\"dataframe\">\n",
              "  <thead>\n",
              "    <tr style=\"text-align: right;\">\n",
              "      <th>Variables</th>\n",
              "      <th>Total:</th>\n",
              "      <th>No schooling completed</th>\n",
              "      <th>Nursery school</th>\n",
              "      <th>Kindergarten</th>\n",
              "      <th>1st grade</th>\n",
              "      <th>2nd grade</th>\n",
              "      <th>3rd grade</th>\n",
              "      <th>4th grade</th>\n",
              "      <th>5th grade</th>\n",
              "      <th>6th grade</th>\n",
              "      <th>7th grade</th>\n",
              "      <th>8th grade</th>\n",
              "      <th>9th grade</th>\n",
              "      <th>10th grade</th>\n",
              "      <th>11th grade</th>\n",
              "      <th>12th grade, no diploma</th>\n",
              "      <th>Regular high school diploma</th>\n",
              "      <th>GED or alternative credential</th>\n",
              "      <th>Some college, less than 1 year</th>\n",
              "      <th>Some college, 1 or more years, no degree</th>\n",
              "      <th>Associate's degree</th>\n",
              "      <th>Bachelor's degree</th>\n",
              "      <th>Master's degree</th>\n",
              "      <th>Professional school degree</th>\n",
              "      <th>Doctorate degree</th>\n",
              "      <th>Aggregate real estate taxes paid (dollars):</th>\n",
              "      <th>Aggregate real estate taxes paid for units with a mortgage (dollars)</th>\n",
              "      <th>Aggregate real estate taxes paid for units without a mortgage (dollars)</th>\n",
              "      <th>Median gross rent</th>\n",
              "      <th>Lower value quartile (dollars)</th>\n",
              "      <th>Median value (dollars)</th>\n",
              "      <th>Upper value quartile (dollars)</th>\n",
              "      <th>Total:</th>\n",
              "      <th>Housing units with a mortgage, contract to purchase, or similar debt:</th>\n",
              "      <th>With either a second mortgage or home equity loan, but not both:</th>\n",
              "      <th>Second mortgage only</th>\n",
              "      <th>Home equity loan only</th>\n",
              "      <th>Both second mortgage and home equity loan</th>\n",
              "      <th>No second mortgage and no home equity loan</th>\n",
              "      <th>Housing units without a mortgage</th>\n",
              "      <th>...</th>\n",
              "      <th>Built 1980 to 1989</th>\n",
              "      <th>Built 1970 to 1979</th>\n",
              "      <th>Built 1960 to 1969</th>\n",
              "      <th>Built 1950 to 1959</th>\n",
              "      <th>Built 1940 to 1949</th>\n",
              "      <th>Built 1939 or earlier</th>\n",
              "      <th>Total:</th>\n",
              "      <th>White alone</th>\n",
              "      <th>Black or African American alone</th>\n",
              "      <th>American Indian and Alaska Native alone</th>\n",
              "      <th>Asian alone</th>\n",
              "      <th>Native Hawaiian and Other Pacific Islander alone</th>\n",
              "      <th>Some other race alone</th>\n",
              "      <th>Two or more races:</th>\n",
              "      <th>Two races including Some other race</th>\n",
              "      <th>Two races excluding Some other race, and three or more races</th>\n",
              "      <th>Total:</th>\n",
              "      <th>Less than 5 minutes</th>\n",
              "      <th>5 to 9 minutes</th>\n",
              "      <th>10 to 14 minutes</th>\n",
              "      <th>15 to 19 minutes</th>\n",
              "      <th>20 to 24 minutes</th>\n",
              "      <th>25 to 29 minutes</th>\n",
              "      <th>30 to 34 minutes</th>\n",
              "      <th>35 to 39 minutes</th>\n",
              "      <th>40 to 44 minutes</th>\n",
              "      <th>45 to 59 minutes</th>\n",
              "      <th>60 to 89 minutes</th>\n",
              "      <th>90 or more minutes</th>\n",
              "      <th>STATFP</th>\n",
              "      <th>COUNTYFP</th>\n",
              "      <th>TRACTC</th>\n",
              "      <th>BLKGRPC</th>\n",
              "      <th>AFFGOID</th>\n",
              "      <th>GOID</th>\n",
              "      <th>NAM</th>\n",
              "      <th>LSAD</th>\n",
              "      <th>ALAND</th>\n",
              "      <th>AWATR</th>\n",
              "      <th>geometry</th>\n",
              "    </tr>\n",
              "  </thead>\n",
              "  <tbody>\n",
              "    <tr>\n",
              "      <th>0</th>\n",
              "      <td>987</td>\n",
              "      <td>0</td>\n",
              "      <td>0</td>\n",
              "      <td>0</td>\n",
              "      <td>0</td>\n",
              "      <td>0</td>\n",
              "      <td>0</td>\n",
              "      <td>0</td>\n",
              "      <td>0</td>\n",
              "      <td>42</td>\n",
              "      <td>0</td>\n",
              "      <td>36</td>\n",
              "      <td>34</td>\n",
              "      <td>121</td>\n",
              "      <td>12</td>\n",
              "      <td>62</td>\n",
              "      <td>195</td>\n",
              "      <td>42</td>\n",
              "      <td>159</td>\n",
              "      <td>131</td>\n",
              "      <td>54</td>\n",
              "      <td>25</td>\n",
              "      <td>74</td>\n",
              "      <td>0</td>\n",
              "      <td>0</td>\n",
              "      <td>None</td>\n",
              "      <td>None</td>\n",
              "      <td>None</td>\n",
              "      <td>977</td>\n",
              "      <td>127600</td>\n",
              "      <td>164500</td>\n",
              "      <td>185600</td>\n",
              "      <td>203</td>\n",
              "      <td>101</td>\n",
              "      <td>13</td>\n",
              "      <td>13</td>\n",
              "      <td>0</td>\n",
              "      <td>0</td>\n",
              "      <td>88</td>\n",
              "      <td>102</td>\n",
              "      <td>...</td>\n",
              "      <td>104</td>\n",
              "      <td>394</td>\n",
              "      <td>0</td>\n",
              "      <td>0</td>\n",
              "      <td>18</td>\n",
              "      <td>0</td>\n",
              "      <td>1946</td>\n",
              "      <td>1368</td>\n",
              "      <td>0</td>\n",
              "      <td>0</td>\n",
              "      <td>0</td>\n",
              "      <td>0</td>\n",
              "      <td>578</td>\n",
              "      <td>0</td>\n",
              "      <td>0</td>\n",
              "      <td>0</td>\n",
              "      <td>1172</td>\n",
              "      <td>0</td>\n",
              "      <td>62</td>\n",
              "      <td>114</td>\n",
              "      <td>70</td>\n",
              "      <td>251</td>\n",
              "      <td>117</td>\n",
              "      <td>417</td>\n",
              "      <td>0</td>\n",
              "      <td>102</td>\n",
              "      <td>0</td>\n",
              "      <td>39</td>\n",
              "      <td>0</td>\n",
              "      <td>04</td>\n",
              "      <td>013</td>\n",
              "      <td>082002</td>\n",
              "      <td>3</td>\n",
              "      <td>1500000US040130820023</td>\n",
              "      <td>040130820023</td>\n",
              "      <td>3</td>\n",
              "      <td>BG</td>\n",
              "      <td>6.9e+05</td>\n",
              "      <td>1.1e+04</td>\n",
              "      <td>POLYGON ((-112.290218 33.493747, -112.290142 3...</td>\n",
              "    </tr>\n",
              "    <tr>\n",
              "      <th>1</th>\n",
              "      <td>1152</td>\n",
              "      <td>5</td>\n",
              "      <td>0</td>\n",
              "      <td>0</td>\n",
              "      <td>0</td>\n",
              "      <td>0</td>\n",
              "      <td>0</td>\n",
              "      <td>0</td>\n",
              "      <td>0</td>\n",
              "      <td>44</td>\n",
              "      <td>11</td>\n",
              "      <td>119</td>\n",
              "      <td>8</td>\n",
              "      <td>79</td>\n",
              "      <td>63</td>\n",
              "      <td>45</td>\n",
              "      <td>316</td>\n",
              "      <td>71</td>\n",
              "      <td>113</td>\n",
              "      <td>175</td>\n",
              "      <td>45</td>\n",
              "      <td>44</td>\n",
              "      <td>14</td>\n",
              "      <td>0</td>\n",
              "      <td>0</td>\n",
              "      <td>None</td>\n",
              "      <td>None</td>\n",
              "      <td>None</td>\n",
              "      <td>1112</td>\n",
              "      <td>105400</td>\n",
              "      <td>140000</td>\n",
              "      <td>180700</td>\n",
              "      <td>349</td>\n",
              "      <td>248</td>\n",
              "      <td>11</td>\n",
              "      <td>5</td>\n",
              "      <td>6</td>\n",
              "      <td>0</td>\n",
              "      <td>237</td>\n",
              "      <td>101</td>\n",
              "      <td>...</td>\n",
              "      <td>0</td>\n",
              "      <td>479</td>\n",
              "      <td>60</td>\n",
              "      <td>0</td>\n",
              "      <td>0</td>\n",
              "      <td>0</td>\n",
              "      <td>2071</td>\n",
              "      <td>1644</td>\n",
              "      <td>43</td>\n",
              "      <td>13</td>\n",
              "      <td>56</td>\n",
              "      <td>0</td>\n",
              "      <td>308</td>\n",
              "      <td>7</td>\n",
              "      <td>0</td>\n",
              "      <td>7</td>\n",
              "      <td>746</td>\n",
              "      <td>0</td>\n",
              "      <td>31</td>\n",
              "      <td>113</td>\n",
              "      <td>64</td>\n",
              "      <td>34</td>\n",
              "      <td>21</td>\n",
              "      <td>126</td>\n",
              "      <td>0</td>\n",
              "      <td>46</td>\n",
              "      <td>134</td>\n",
              "      <td>149</td>\n",
              "      <td>28</td>\n",
              "      <td>04</td>\n",
              "      <td>013</td>\n",
              "      <td>082007</td>\n",
              "      <td>2</td>\n",
              "      <td>1500000US040130820072</td>\n",
              "      <td>040130820072</td>\n",
              "      <td>2</td>\n",
              "      <td>BG</td>\n",
              "      <td>6.4e+05</td>\n",
              "      <td>0</td>\n",
              "      <td>POLYGON ((-112.255026 33.501489, -112.246424 3...</td>\n",
              "    </tr>\n",
              "    <tr>\n",
              "      <th>2</th>\n",
              "      <td>1543</td>\n",
              "      <td>0</td>\n",
              "      <td>0</td>\n",
              "      <td>0</td>\n",
              "      <td>0</td>\n",
              "      <td>0</td>\n",
              "      <td>20</td>\n",
              "      <td>0</td>\n",
              "      <td>0</td>\n",
              "      <td>117</td>\n",
              "      <td>0</td>\n",
              "      <td>121</td>\n",
              "      <td>43</td>\n",
              "      <td>0</td>\n",
              "      <td>90</td>\n",
              "      <td>77</td>\n",
              "      <td>462</td>\n",
              "      <td>110</td>\n",
              "      <td>38</td>\n",
              "      <td>80</td>\n",
              "      <td>185</td>\n",
              "      <td>116</td>\n",
              "      <td>18</td>\n",
              "      <td>10</td>\n",
              "      <td>56</td>\n",
              "      <td>None</td>\n",
              "      <td>None</td>\n",
              "      <td>None</td>\n",
              "      <td>970</td>\n",
              "      <td>98000</td>\n",
              "      <td>140500</td>\n",
              "      <td>173000</td>\n",
              "      <td>417</td>\n",
              "      <td>258</td>\n",
              "      <td>8</td>\n",
              "      <td>8</td>\n",
              "      <td>0</td>\n",
              "      <td>16</td>\n",
              "      <td>234</td>\n",
              "      <td>159</td>\n",
              "      <td>...</td>\n",
              "      <td>442</td>\n",
              "      <td>120</td>\n",
              "      <td>21</td>\n",
              "      <td>14</td>\n",
              "      <td>0</td>\n",
              "      <td>0</td>\n",
              "      <td>2518</td>\n",
              "      <td>1284</td>\n",
              "      <td>19</td>\n",
              "      <td>37</td>\n",
              "      <td>25</td>\n",
              "      <td>0</td>\n",
              "      <td>1064</td>\n",
              "      <td>89</td>\n",
              "      <td>56</td>\n",
              "      <td>33</td>\n",
              "      <td>1019</td>\n",
              "      <td>35</td>\n",
              "      <td>133</td>\n",
              "      <td>49</td>\n",
              "      <td>129</td>\n",
              "      <td>116</td>\n",
              "      <td>35</td>\n",
              "      <td>125</td>\n",
              "      <td>22</td>\n",
              "      <td>23</td>\n",
              "      <td>227</td>\n",
              "      <td>125</td>\n",
              "      <td>0</td>\n",
              "      <td>04</td>\n",
              "      <td>013</td>\n",
              "      <td>082007</td>\n",
              "      <td>1</td>\n",
              "      <td>1500000US040130820071</td>\n",
              "      <td>040130820071</td>\n",
              "      <td>1</td>\n",
              "      <td>BG</td>\n",
              "      <td>6.4e+05</td>\n",
              "      <td>0</td>\n",
              "      <td>POLYGON ((-112.255007 33.508679, -112.246369 3...</td>\n",
              "    </tr>\n",
              "    <tr>\n",
              "      <th>3</th>\n",
              "      <td>1431</td>\n",
              "      <td>62</td>\n",
              "      <td>0</td>\n",
              "      <td>0</td>\n",
              "      <td>13</td>\n",
              "      <td>0</td>\n",
              "      <td>13</td>\n",
              "      <td>0</td>\n",
              "      <td>0</td>\n",
              "      <td>13</td>\n",
              "      <td>0</td>\n",
              "      <td>133</td>\n",
              "      <td>146</td>\n",
              "      <td>46</td>\n",
              "      <td>90</td>\n",
              "      <td>69</td>\n",
              "      <td>312</td>\n",
              "      <td>28</td>\n",
              "      <td>178</td>\n",
              "      <td>107</td>\n",
              "      <td>96</td>\n",
              "      <td>88</td>\n",
              "      <td>12</td>\n",
              "      <td>0</td>\n",
              "      <td>25</td>\n",
              "      <td>None</td>\n",
              "      <td>None</td>\n",
              "      <td>None</td>\n",
              "      <td>1215</td>\n",
              "      <td>126600</td>\n",
              "      <td>160300</td>\n",
              "      <td>200900</td>\n",
              "      <td>351</td>\n",
              "      <td>206</td>\n",
              "      <td>26</td>\n",
              "      <td>0</td>\n",
              "      <td>26</td>\n",
              "      <td>0</td>\n",
              "      <td>180</td>\n",
              "      <td>145</td>\n",
              "      <td>...</td>\n",
              "      <td>128</td>\n",
              "      <td>271</td>\n",
              "      <td>58</td>\n",
              "      <td>0</td>\n",
              "      <td>0</td>\n",
              "      <td>0</td>\n",
              "      <td>2659</td>\n",
              "      <td>1561</td>\n",
              "      <td>199</td>\n",
              "      <td>0</td>\n",
              "      <td>187</td>\n",
              "      <td>0</td>\n",
              "      <td>570</td>\n",
              "      <td>142</td>\n",
              "      <td>92</td>\n",
              "      <td>50</td>\n",
              "      <td>1100</td>\n",
              "      <td>0</td>\n",
              "      <td>185</td>\n",
              "      <td>72</td>\n",
              "      <td>129</td>\n",
              "      <td>137</td>\n",
              "      <td>99</td>\n",
              "      <td>164</td>\n",
              "      <td>0</td>\n",
              "      <td>38</td>\n",
              "      <td>123</td>\n",
              "      <td>143</td>\n",
              "      <td>10</td>\n",
              "      <td>04</td>\n",
              "      <td>013</td>\n",
              "      <td>082009</td>\n",
              "      <td>1</td>\n",
              "      <td>1500000US040130820091</td>\n",
              "      <td>040130820091</td>\n",
              "      <td>1</td>\n",
              "      <td>BG</td>\n",
              "      <td>6.5e+05</td>\n",
              "      <td>0</td>\n",
              "      <td>POLYGON ((-112.255111 33.494245, -112.246545 3...</td>\n",
              "    </tr>\n",
              "    <tr>\n",
              "      <th>4</th>\n",
              "      <td>1736</td>\n",
              "      <td>165</td>\n",
              "      <td>0</td>\n",
              "      <td>0</td>\n",
              "      <td>0</td>\n",
              "      <td>4</td>\n",
              "      <td>0</td>\n",
              "      <td>15</td>\n",
              "      <td>0</td>\n",
              "      <td>73</td>\n",
              "      <td>36</td>\n",
              "      <td>0</td>\n",
              "      <td>85</td>\n",
              "      <td>61</td>\n",
              "      <td>55</td>\n",
              "      <td>131</td>\n",
              "      <td>461</td>\n",
              "      <td>47</td>\n",
              "      <td>119</td>\n",
              "      <td>241</td>\n",
              "      <td>87</td>\n",
              "      <td>113</td>\n",
              "      <td>34</td>\n",
              "      <td>0</td>\n",
              "      <td>9</td>\n",
              "      <td>None</td>\n",
              "      <td>None</td>\n",
              "      <td>None</td>\n",
              "      <td>1158</td>\n",
              "      <td>113100</td>\n",
              "      <td>149700</td>\n",
              "      <td>184300</td>\n",
              "      <td>508</td>\n",
              "      <td>362</td>\n",
              "      <td>36</td>\n",
              "      <td>24</td>\n",
              "      <td>12</td>\n",
              "      <td>0</td>\n",
              "      <td>326</td>\n",
              "      <td>146</td>\n",
              "      <td>...</td>\n",
              "      <td>73</td>\n",
              "      <td>432</td>\n",
              "      <td>10</td>\n",
              "      <td>15</td>\n",
              "      <td>37</td>\n",
              "      <td>0</td>\n",
              "      <td>3235</td>\n",
              "      <td>1599</td>\n",
              "      <td>166</td>\n",
              "      <td>214</td>\n",
              "      <td>24</td>\n",
              "      <td>0</td>\n",
              "      <td>1128</td>\n",
              "      <td>104</td>\n",
              "      <td>7</td>\n",
              "      <td>97</td>\n",
              "      <td>1277</td>\n",
              "      <td>0</td>\n",
              "      <td>90</td>\n",
              "      <td>94</td>\n",
              "      <td>75</td>\n",
              "      <td>177</td>\n",
              "      <td>106</td>\n",
              "      <td>230</td>\n",
              "      <td>10</td>\n",
              "      <td>53</td>\n",
              "      <td>192</td>\n",
              "      <td>181</td>\n",
              "      <td>69</td>\n",
              "      <td>04</td>\n",
              "      <td>013</td>\n",
              "      <td>082009</td>\n",
              "      <td>2</td>\n",
              "      <td>1500000US040130820092</td>\n",
              "      <td>040130820092</td>\n",
              "      <td>2</td>\n",
              "      <td>BG</td>\n",
              "      <td>6.5e+05</td>\n",
              "      <td>0</td>\n",
              "      <td>POLYGON ((-112.255182 33.479767, -112.25517 33...</td>\n",
              "    </tr>\n",
              "    <tr>\n",
              "      <th>...</th>\n",
              "      <td>...</td>\n",
              "      <td>...</td>\n",
              "      <td>...</td>\n",
              "      <td>...</td>\n",
              "      <td>...</td>\n",
              "      <td>...</td>\n",
              "      <td>...</td>\n",
              "      <td>...</td>\n",
              "      <td>...</td>\n",
              "      <td>...</td>\n",
              "      <td>...</td>\n",
              "      <td>...</td>\n",
              "      <td>...</td>\n",
              "      <td>...</td>\n",
              "      <td>...</td>\n",
              "      <td>...</td>\n",
              "      <td>...</td>\n",
              "      <td>...</td>\n",
              "      <td>...</td>\n",
              "      <td>...</td>\n",
              "      <td>...</td>\n",
              "      <td>...</td>\n",
              "      <td>...</td>\n",
              "      <td>...</td>\n",
              "      <td>...</td>\n",
              "      <td>...</td>\n",
              "      <td>...</td>\n",
              "      <td>...</td>\n",
              "      <td>...</td>\n",
              "      <td>...</td>\n",
              "      <td>...</td>\n",
              "      <td>...</td>\n",
              "      <td>...</td>\n",
              "      <td>...</td>\n",
              "      <td>...</td>\n",
              "      <td>...</td>\n",
              "      <td>...</td>\n",
              "      <td>...</td>\n",
              "      <td>...</td>\n",
              "      <td>...</td>\n",
              "      <td>...</td>\n",
              "      <td>...</td>\n",
              "      <td>...</td>\n",
              "      <td>...</td>\n",
              "      <td>...</td>\n",
              "      <td>...</td>\n",
              "      <td>...</td>\n",
              "      <td>...</td>\n",
              "      <td>...</td>\n",
              "      <td>...</td>\n",
              "      <td>...</td>\n",
              "      <td>...</td>\n",
              "      <td>...</td>\n",
              "      <td>...</td>\n",
              "      <td>...</td>\n",
              "      <td>...</td>\n",
              "      <td>...</td>\n",
              "      <td>...</td>\n",
              "      <td>...</td>\n",
              "      <td>...</td>\n",
              "      <td>...</td>\n",
              "      <td>...</td>\n",
              "      <td>...</td>\n",
              "      <td>...</td>\n",
              "      <td>...</td>\n",
              "      <td>...</td>\n",
              "      <td>...</td>\n",
              "      <td>...</td>\n",
              "      <td>...</td>\n",
              "      <td>...</td>\n",
              "      <td>...</td>\n",
              "      <td>...</td>\n",
              "      <td>...</td>\n",
              "      <td>...</td>\n",
              "      <td>...</td>\n",
              "      <td>...</td>\n",
              "      <td>...</td>\n",
              "      <td>...</td>\n",
              "      <td>...</td>\n",
              "      <td>...</td>\n",
              "      <td>...</td>\n",
              "    </tr>\n",
              "    <tr>\n",
              "      <th>45524</th>\n",
              "      <td>803</td>\n",
              "      <td>5</td>\n",
              "      <td>0</td>\n",
              "      <td>0</td>\n",
              "      <td>0</td>\n",
              "      <td>0</td>\n",
              "      <td>0</td>\n",
              "      <td>0</td>\n",
              "      <td>0</td>\n",
              "      <td>0</td>\n",
              "      <td>3</td>\n",
              "      <td>8</td>\n",
              "      <td>8</td>\n",
              "      <td>39</td>\n",
              "      <td>37</td>\n",
              "      <td>39</td>\n",
              "      <td>265</td>\n",
              "      <td>113</td>\n",
              "      <td>37</td>\n",
              "      <td>115</td>\n",
              "      <td>65</td>\n",
              "      <td>56</td>\n",
              "      <td>13</td>\n",
              "      <td>0</td>\n",
              "      <td>0</td>\n",
              "      <td>None</td>\n",
              "      <td>None</td>\n",
              "      <td>None</td>\n",
              "      <td>1025</td>\n",
              "      <td>9999</td>\n",
              "      <td>47700</td>\n",
              "      <td>109600</td>\n",
              "      <td>262</td>\n",
              "      <td>88</td>\n",
              "      <td>0</td>\n",
              "      <td>0</td>\n",
              "      <td>0</td>\n",
              "      <td>0</td>\n",
              "      <td>88</td>\n",
              "      <td>174</td>\n",
              "      <td>...</td>\n",
              "      <td>87</td>\n",
              "      <td>150</td>\n",
              "      <td>18</td>\n",
              "      <td>45</td>\n",
              "      <td>31</td>\n",
              "      <td>25</td>\n",
              "      <td>1147</td>\n",
              "      <td>1100</td>\n",
              "      <td>9</td>\n",
              "      <td>24</td>\n",
              "      <td>0</td>\n",
              "      <td>0</td>\n",
              "      <td>5</td>\n",
              "      <td>9</td>\n",
              "      <td>3</td>\n",
              "      <td>6</td>\n",
              "      <td>430</td>\n",
              "      <td>51</td>\n",
              "      <td>69</td>\n",
              "      <td>115</td>\n",
              "      <td>89</td>\n",
              "      <td>28</td>\n",
              "      <td>22</td>\n",
              "      <td>16</td>\n",
              "      <td>0</td>\n",
              "      <td>0</td>\n",
              "      <td>0</td>\n",
              "      <td>12</td>\n",
              "      <td>28</td>\n",
              "      <td>56</td>\n",
              "      <td>025</td>\n",
              "      <td>001200</td>\n",
              "      <td>1</td>\n",
              "      <td>1500000US560250012001</td>\n",
              "      <td>560250012001</td>\n",
              "      <td>1</td>\n",
              "      <td>BG</td>\n",
              "      <td>8.5e+06</td>\n",
              "      <td>1.4e+05</td>\n",
              "      <td>POLYGON ((-106.403944 42.862732, -106.40135 42...</td>\n",
              "    </tr>\n",
              "    <tr>\n",
              "      <th>45525</th>\n",
              "      <td>468</td>\n",
              "      <td>0</td>\n",
              "      <td>0</td>\n",
              "      <td>0</td>\n",
              "      <td>0</td>\n",
              "      <td>0</td>\n",
              "      <td>0</td>\n",
              "      <td>0</td>\n",
              "      <td>0</td>\n",
              "      <td>0</td>\n",
              "      <td>0</td>\n",
              "      <td>0</td>\n",
              "      <td>0</td>\n",
              "      <td>8</td>\n",
              "      <td>0</td>\n",
              "      <td>0</td>\n",
              "      <td>64</td>\n",
              "      <td>22</td>\n",
              "      <td>37</td>\n",
              "      <td>117</td>\n",
              "      <td>38</td>\n",
              "      <td>119</td>\n",
              "      <td>31</td>\n",
              "      <td>18</td>\n",
              "      <td>14</td>\n",
              "      <td>None</td>\n",
              "      <td>None</td>\n",
              "      <td>None</td>\n",
              "      <td>946</td>\n",
              "      <td>121900</td>\n",
              "      <td>155900</td>\n",
              "      <td>178500</td>\n",
              "      <td>158</td>\n",
              "      <td>116</td>\n",
              "      <td>0</td>\n",
              "      <td>0</td>\n",
              "      <td>0</td>\n",
              "      <td>0</td>\n",
              "      <td>116</td>\n",
              "      <td>42</td>\n",
              "      <td>...</td>\n",
              "      <td>12</td>\n",
              "      <td>9</td>\n",
              "      <td>0</td>\n",
              "      <td>56</td>\n",
              "      <td>51</td>\n",
              "      <td>162</td>\n",
              "      <td>728</td>\n",
              "      <td>692</td>\n",
              "      <td>0</td>\n",
              "      <td>30</td>\n",
              "      <td>0</td>\n",
              "      <td>0</td>\n",
              "      <td>0</td>\n",
              "      <td>6</td>\n",
              "      <td>0</td>\n",
              "      <td>6</td>\n",
              "      <td>329</td>\n",
              "      <td>51</td>\n",
              "      <td>198</td>\n",
              "      <td>22</td>\n",
              "      <td>16</td>\n",
              "      <td>0</td>\n",
              "      <td>0</td>\n",
              "      <td>0</td>\n",
              "      <td>27</td>\n",
              "      <td>15</td>\n",
              "      <td>0</td>\n",
              "      <td>0</td>\n",
              "      <td>0</td>\n",
              "      <td>56</td>\n",
              "      <td>015</td>\n",
              "      <td>957800</td>\n",
              "      <td>1</td>\n",
              "      <td>1500000US560159578001</td>\n",
              "      <td>560159578001</td>\n",
              "      <td>1</td>\n",
              "      <td>BG</td>\n",
              "      <td>4.5e+05</td>\n",
              "      <td>0</td>\n",
              "      <td>POLYGON ((-104.188779 42.071927, -104.18715 42...</td>\n",
              "    </tr>\n",
              "    <tr>\n",
              "      <th>45526</th>\n",
              "      <td>1141</td>\n",
              "      <td>19</td>\n",
              "      <td>0</td>\n",
              "      <td>0</td>\n",
              "      <td>0</td>\n",
              "      <td>0</td>\n",
              "      <td>0</td>\n",
              "      <td>14</td>\n",
              "      <td>0</td>\n",
              "      <td>0</td>\n",
              "      <td>0</td>\n",
              "      <td>15</td>\n",
              "      <td>9</td>\n",
              "      <td>8</td>\n",
              "      <td>60</td>\n",
              "      <td>4</td>\n",
              "      <td>223</td>\n",
              "      <td>22</td>\n",
              "      <td>133</td>\n",
              "      <td>216</td>\n",
              "      <td>130</td>\n",
              "      <td>145</td>\n",
              "      <td>120</td>\n",
              "      <td>0</td>\n",
              "      <td>23</td>\n",
              "      <td>None</td>\n",
              "      <td>None</td>\n",
              "      <td>None</td>\n",
              "      <td>825</td>\n",
              "      <td>65800</td>\n",
              "      <td>159800</td>\n",
              "      <td>228100</td>\n",
              "      <td>519</td>\n",
              "      <td>272</td>\n",
              "      <td>26</td>\n",
              "      <td>18</td>\n",
              "      <td>8</td>\n",
              "      <td>0</td>\n",
              "      <td>246</td>\n",
              "      <td>247</td>\n",
              "      <td>...</td>\n",
              "      <td>158</td>\n",
              "      <td>257</td>\n",
              "      <td>65</td>\n",
              "      <td>25</td>\n",
              "      <td>30</td>\n",
              "      <td>23</td>\n",
              "      <td>1730</td>\n",
              "      <td>1474</td>\n",
              "      <td>36</td>\n",
              "      <td>29</td>\n",
              "      <td>15</td>\n",
              "      <td>0</td>\n",
              "      <td>157</td>\n",
              "      <td>19</td>\n",
              "      <td>19</td>\n",
              "      <td>0</td>\n",
              "      <td>853</td>\n",
              "      <td>60</td>\n",
              "      <td>265</td>\n",
              "      <td>224</td>\n",
              "      <td>22</td>\n",
              "      <td>46</td>\n",
              "      <td>24</td>\n",
              "      <td>21</td>\n",
              "      <td>12</td>\n",
              "      <td>157</td>\n",
              "      <td>18</td>\n",
              "      <td>2</td>\n",
              "      <td>2</td>\n",
              "      <td>56</td>\n",
              "      <td>015</td>\n",
              "      <td>957800</td>\n",
              "      <td>2</td>\n",
              "      <td>1500000US560159578002</td>\n",
              "      <td>560159578002</td>\n",
              "      <td>2</td>\n",
              "      <td>BG</td>\n",
              "      <td>2.8e+07</td>\n",
              "      <td>0</td>\n",
              "      <td>POLYGON ((-104.265033 42.131819, -104.264037 4...</td>\n",
              "    </tr>\n",
              "    <tr>\n",
              "      <th>45527</th>\n",
              "      <td>345</td>\n",
              "      <td>0</td>\n",
              "      <td>0</td>\n",
              "      <td>0</td>\n",
              "      <td>0</td>\n",
              "      <td>0</td>\n",
              "      <td>0</td>\n",
              "      <td>0</td>\n",
              "      <td>0</td>\n",
              "      <td>28</td>\n",
              "      <td>0</td>\n",
              "      <td>11</td>\n",
              "      <td>0</td>\n",
              "      <td>0</td>\n",
              "      <td>0</td>\n",
              "      <td>0</td>\n",
              "      <td>98</td>\n",
              "      <td>17</td>\n",
              "      <td>10</td>\n",
              "      <td>22</td>\n",
              "      <td>44</td>\n",
              "      <td>71</td>\n",
              "      <td>31</td>\n",
              "      <td>0</td>\n",
              "      <td>13</td>\n",
              "      <td>None</td>\n",
              "      <td>None</td>\n",
              "      <td>None</td>\n",
              "      <td>623</td>\n",
              "      <td>48900</td>\n",
              "      <td>179000</td>\n",
              "      <td>259600</td>\n",
              "      <td>191</td>\n",
              "      <td>56</td>\n",
              "      <td>11</td>\n",
              "      <td>0</td>\n",
              "      <td>11</td>\n",
              "      <td>0</td>\n",
              "      <td>45</td>\n",
              "      <td>135</td>\n",
              "      <td>...</td>\n",
              "      <td>15</td>\n",
              "      <td>45</td>\n",
              "      <td>26</td>\n",
              "      <td>32</td>\n",
              "      <td>0</td>\n",
              "      <td>42</td>\n",
              "      <td>516</td>\n",
              "      <td>459</td>\n",
              "      <td>0</td>\n",
              "      <td>0</td>\n",
              "      <td>0</td>\n",
              "      <td>0</td>\n",
              "      <td>0</td>\n",
              "      <td>57</td>\n",
              "      <td>0</td>\n",
              "      <td>57</td>\n",
              "      <td>237</td>\n",
              "      <td>12</td>\n",
              "      <td>29</td>\n",
              "      <td>55</td>\n",
              "      <td>74</td>\n",
              "      <td>13</td>\n",
              "      <td>0</td>\n",
              "      <td>15</td>\n",
              "      <td>0</td>\n",
              "      <td>0</td>\n",
              "      <td>0</td>\n",
              "      <td>39</td>\n",
              "      <td>0</td>\n",
              "      <td>56</td>\n",
              "      <td>015</td>\n",
              "      <td>958000</td>\n",
              "      <td>1</td>\n",
              "      <td>1500000US560159580001</td>\n",
              "      <td>560159580001</td>\n",
              "      <td>1</td>\n",
              "      <td>BG</td>\n",
              "      <td>3.7e+07</td>\n",
              "      <td>4.9e+05</td>\n",
              "      <td>POLYGON ((-104.286201 42.045879, -104.264912 4...</td>\n",
              "    </tr>\n",
              "    <tr>\n",
              "      <th>45528</th>\n",
              "      <td>357</td>\n",
              "      <td>0</td>\n",
              "      <td>0</td>\n",
              "      <td>0</td>\n",
              "      <td>0</td>\n",
              "      <td>0</td>\n",
              "      <td>0</td>\n",
              "      <td>0</td>\n",
              "      <td>0</td>\n",
              "      <td>0</td>\n",
              "      <td>0</td>\n",
              "      <td>7</td>\n",
              "      <td>0</td>\n",
              "      <td>0</td>\n",
              "      <td>0</td>\n",
              "      <td>27</td>\n",
              "      <td>103</td>\n",
              "      <td>47</td>\n",
              "      <td>49</td>\n",
              "      <td>64</td>\n",
              "      <td>16</td>\n",
              "      <td>44</td>\n",
              "      <td>0</td>\n",
              "      <td>0</td>\n",
              "      <td>0</td>\n",
              "      <td>None</td>\n",
              "      <td>None</td>\n",
              "      <td>None</td>\n",
              "      <td>801</td>\n",
              "      <td>-666666666</td>\n",
              "      <td>125700</td>\n",
              "      <td>-666666666</td>\n",
              "      <td>173</td>\n",
              "      <td>89</td>\n",
              "      <td>11</td>\n",
              "      <td>0</td>\n",
              "      <td>11</td>\n",
              "      <td>0</td>\n",
              "      <td>78</td>\n",
              "      <td>84</td>\n",
              "      <td>...</td>\n",
              "      <td>55</td>\n",
              "      <td>74</td>\n",
              "      <td>61</td>\n",
              "      <td>0</td>\n",
              "      <td>12</td>\n",
              "      <td>52</td>\n",
              "      <td>635</td>\n",
              "      <td>631</td>\n",
              "      <td>0</td>\n",
              "      <td>0</td>\n",
              "      <td>0</td>\n",
              "      <td>0</td>\n",
              "      <td>2</td>\n",
              "      <td>2</td>\n",
              "      <td>0</td>\n",
              "      <td>2</td>\n",
              "      <td>284</td>\n",
              "      <td>74</td>\n",
              "      <td>102</td>\n",
              "      <td>33</td>\n",
              "      <td>10</td>\n",
              "      <td>11</td>\n",
              "      <td>0</td>\n",
              "      <td>20</td>\n",
              "      <td>10</td>\n",
              "      <td>0</td>\n",
              "      <td>12</td>\n",
              "      <td>12</td>\n",
              "      <td>0</td>\n",
              "      <td>56</td>\n",
              "      <td>015</td>\n",
              "      <td>957900</td>\n",
              "      <td>3</td>\n",
              "      <td>1500000US560159579003</td>\n",
              "      <td>560159579003</td>\n",
              "      <td>3</td>\n",
              "      <td>BG</td>\n",
              "      <td>1.5e+07</td>\n",
              "      <td>7e+05</td>\n",
              "      <td>POLYGON ((-104.184396 42.062674, -104.183371 4...</td>\n",
              "    </tr>\n",
              "  </tbody>\n",
              "</table>\n",
              "<p>45529 rows × 92 columns</p>\n",
              "</div>"
            ],
            "text/plain": [
              "Variables Total: No schooling completed Nursery school Kindergarten 1st grade 2nd grade 3rd grade 4th grade 5th grade 6th grade 7th grade 8th grade 9th grade 10th grade 11th grade 12th grade, no diploma Regular high school diploma GED or alternative credential Some college, less than 1 year Some college, 1 or more years, no degree Associate's degree Bachelor's degree Master's degree Professional school degree Doctorate degree Aggregate real estate taxes paid (dollars): Aggregate real estate taxes paid for units with a mortgage (dollars) Aggregate real estate taxes paid for units without a mortgage (dollars) Median gross rent Lower value quartile (dollars) Median value (dollars) Upper value quartile (dollars) Total: Housing units with a mortgage, contract to purchase, or similar debt: With either a second mortgage or home equity loan, but not both: Second mortgage only Home equity loan only Both second mortgage and home equity loan No second mortgage and no home equity loan Housing units without a mortgage  ... Built 1980 to 1989 Built 1970 to 1979 Built 1960 to 1969 Built 1950 to 1959 Built 1940 to 1949 Built 1939 or earlier Total: White alone Black or African American alone American Indian and Alaska Native alone Asian alone Native Hawaiian and Other Pacific Islander alone Some other race alone Two or more races: Two races including Some other race Two races excluding Some other race, and three or more races Total: Less than 5 minutes  5 to 9 minutes  10 to 14 minutes  15 to 19 minutes  20 to 24 minutes  25 to 29 minutes  30 to 34 minutes  35 to 39 minutes  40 to 44 minutes  45 to 59 minutes  60 to 89 minutes  90 or more minutes  STATFP COUNTYFP  TRACTC BLKGRPC                AFFGOID          GOID NAM LSAD    ALAND    AWATR                                           geometry\n",
              "0            987                      0              0            0         0         0         0         0         0        42         0        36        34        121         12                     62                         195                            42                            159                                      131                 54                25              74                          0                0                                        None                                               None                                                                 None                                    977                         127600                 164500                         185600    203                                                101                                                                    13                                 13                     0                                         0                                         88                              102  ...                104                394                  0                  0                 18                     0   1946        1368                               0                                       0           0                                                0                   578                  0                                   0                                                  0             1172                    0              62               114                70               251               117               417                 0               102                 0                39                   0     04      013  082002       3  1500000US040130820023  040130820023   3   BG  6.9e+05  1.1e+04  POLYGON ((-112.290218 33.493747, -112.290142 3...\n",
              "1           1152                      5              0            0         0         0         0         0         0        44        11       119         8         79         63                     45                         316                            71                            113                                      175                 45                44              14                          0                0                                        None                                               None                                                                 None                                   1112                         105400                 140000                         180700    349                                                248                                                                    11                                  5                     6                                         0                                        237                              101  ...                  0                479                 60                  0                  0                     0   2071        1644                              43                                      13          56                                                0                   308                  7                                   0                                                  7              746                    0              31               113                64                34                21               126                 0                46               134               149                  28     04      013  082007       2  1500000US040130820072  040130820072   2   BG  6.4e+05        0  POLYGON ((-112.255026 33.501489, -112.246424 3...\n",
              "2           1543                      0              0            0         0         0        20         0         0       117         0       121        43          0         90                     77                         462                           110                             38                                       80                185               116              18                         10               56                                        None                                               None                                                                 None                                    970                          98000                 140500                         173000    417                                                258                                                                     8                                  8                     0                                        16                                        234                              159  ...                442                120                 21                 14                  0                     0   2518        1284                              19                                      37          25                                                0                  1064                 89                                  56                                                 33             1019                   35             133                49               129               116                35               125                22                23               227               125                   0     04      013  082007       1  1500000US040130820071  040130820071   1   BG  6.4e+05        0  POLYGON ((-112.255007 33.508679, -112.246369 3...\n",
              "3           1431                     62              0            0        13         0        13         0         0        13         0       133       146         46         90                     69                         312                            28                            178                                      107                 96                88              12                          0               25                                        None                                               None                                                                 None                                   1215                         126600                 160300                         200900    351                                                206                                                                    26                                  0                    26                                         0                                        180                              145  ...                128                271                 58                  0                  0                     0   2659        1561                             199                                       0         187                                                0                   570                142                                  92                                                 50             1100                    0             185                72               129               137                99               164                 0                38               123               143                  10     04      013  082009       1  1500000US040130820091  040130820091   1   BG  6.5e+05        0  POLYGON ((-112.255111 33.494245, -112.246545 3...\n",
              "4           1736                    165              0            0         0         4         0        15         0        73        36         0        85         61         55                    131                         461                            47                            119                                      241                 87               113              34                          0                9                                        None                                               None                                                                 None                                   1158                         113100                 149700                         184300    508                                                362                                                                    36                                 24                    12                                         0                                        326                              146  ...                 73                432                 10                 15                 37                     0   3235        1599                             166                                     214          24                                                0                  1128                104                                   7                                                 97             1277                    0              90                94                75               177               106               230                10                53               192               181                  69     04      013  082009       2  1500000US040130820092  040130820092   2   BG  6.5e+05        0  POLYGON ((-112.255182 33.479767, -112.25517 33...\n",
              "...          ...                    ...            ...          ...       ...       ...       ...       ...       ...       ...       ...       ...       ...        ...        ...                    ...                         ...                           ...                            ...                                      ...                ...               ...             ...                        ...              ...                                         ...                                                ...                                                                  ...                                    ...                            ...                    ...                            ...    ...                                                ...                                                                   ...                                ...                   ...                                       ...                                        ...                              ...  ...                ...                ...                ...                ...                ...                   ...    ...         ...                             ...                                     ...         ...                                              ...                   ...                ...                                 ...                                                ...              ...                  ...             ...               ...               ...               ...               ...               ...               ...               ...               ...               ...                 ...    ...      ...     ...     ...                    ...           ...  ..  ...      ...      ...                                                ...\n",
              "45524        803                      5              0            0         0         0         0         0         0         0         3         8         8         39         37                     39                         265                           113                             37                                      115                 65                56              13                          0                0                                        None                                               None                                                                 None                                   1025                           9999                  47700                         109600    262                                                 88                                                                     0                                  0                     0                                         0                                         88                              174  ...                 87                150                 18                 45                 31                    25   1147        1100                               9                                      24           0                                                0                     5                  9                                   3                                                  6              430                   51              69               115                89                28                22                16                 0                 0                 0                12                  28     56      025  001200       1  1500000US560250012001  560250012001   1   BG  8.5e+06  1.4e+05  POLYGON ((-106.403944 42.862732, -106.40135 42...\n",
              "45525        468                      0              0            0         0         0         0         0         0         0         0         0         0          8          0                      0                          64                            22                             37                                      117                 38               119              31                         18               14                                        None                                               None                                                                 None                                    946                         121900                 155900                         178500    158                                                116                                                                     0                                  0                     0                                         0                                        116                               42  ...                 12                  9                  0                 56                 51                   162    728         692                               0                                      30           0                                                0                     0                  6                                   0                                                  6              329                   51             198                22                16                 0                 0                 0                27                15                 0                 0                   0     56      015  957800       1  1500000US560159578001  560159578001   1   BG  4.5e+05        0  POLYGON ((-104.188779 42.071927, -104.18715 42...\n",
              "45526       1141                     19              0            0         0         0         0        14         0         0         0        15         9          8         60                      4                         223                            22                            133                                      216                130               145             120                          0               23                                        None                                               None                                                                 None                                    825                          65800                 159800                         228100    519                                                272                                                                    26                                 18                     8                                         0                                        246                              247  ...                158                257                 65                 25                 30                    23   1730        1474                              36                                      29          15                                                0                   157                 19                                  19                                                  0              853                   60             265               224                22                46                24                21                12               157                18                 2                   2     56      015  957800       2  1500000US560159578002  560159578002   2   BG  2.8e+07        0  POLYGON ((-104.265033 42.131819, -104.264037 4...\n",
              "45527        345                      0              0            0         0         0         0         0         0        28         0        11         0          0          0                      0                          98                            17                             10                                       22                 44                71              31                          0               13                                        None                                               None                                                                 None                                    623                          48900                 179000                         259600    191                                                 56                                                                    11                                  0                    11                                         0                                         45                              135  ...                 15                 45                 26                 32                  0                    42    516         459                               0                                       0           0                                                0                     0                 57                                   0                                                 57              237                   12              29                55                74                13                 0                15                 0                 0                 0                39                   0     56      015  958000       1  1500000US560159580001  560159580001   1   BG  3.7e+07  4.9e+05  POLYGON ((-104.286201 42.045879, -104.264912 4...\n",
              "45528        357                      0              0            0         0         0         0         0         0         0         0         7         0          0          0                     27                         103                            47                             49                                       64                 16                44               0                          0                0                                        None                                               None                                                                 None                                    801                     -666666666                 125700                     -666666666    173                                                 89                                                                    11                                  0                    11                                         0                                         78                               84  ...                 55                 74                 61                  0                 12                    52    635         631                               0                                       0           0                                                0                     2                  2                                   0                                                  2              284                   74             102                33                10                11                 0                20                10                 0                12                12                   0     56      015  957900       3  1500000US560159579003  560159579003   3   BG  1.5e+07    7e+05  POLYGON ((-104.184396 42.062674, -104.183371 4...\n",
              "\n",
              "[45529 rows x 92 columns]"
            ]
          },
          "metadata": {
            "tags": []
          },
          "execution_count": 232
        }
      ]
    },
    {
      "cell_type": "markdown",
      "metadata": {
        "id": "nALevIAGj4Xr"
      },
      "source": [
        "### Get ACS 5 year 2010-2014 Census Data"
      ]
    },
    {
      "cell_type": "code",
      "metadata": {
        "id": "ARzHO549G0T1"
      },
      "source": [
        "acs_2014_frames = [0]*len(my_states)\r\n",
        "for i in range(len(geo)):\r\n",
        "  acs_2014_frames[i] = censusdata.download('acs5', 2014, geo[i], variables)\r\n",
        "  \r\n",
        "acs_2014 = pd.concat(acs_2014_frames, axis = 0)"
      ],
      "execution_count": null,
      "outputs": []
    },
    {
      "cell_type": "markdown",
      "metadata": {
        "id": "iRB2NITQv6Z8"
      },
      "source": [
        "### Create Functions to Prepare ACS 2010-2014 5-year Estimates"
      ]
    },
    {
      "cell_type": "markdown",
      "metadata": {
        "id": "2hcYGXoLSpFY"
      },
      "source": [
        "### Read: [Comparing 2010-2014 ACS 5-year and 2015-2019 ACS 5-year](https://www.census.gov/programs-surveys/acs/guidance/comparing-acs-data/2019/5-year-comparison.html) for making decisions about including 2010-2014 estimates. "
      ]
    },
    {
      "cell_type": "markdown",
      "metadata": {
        "id": "ihM6sIEePc0m"
      },
      "source": [
        "## Load in Wildfire Perimeter Data"
      ]
    },
    {
      "cell_type": "code",
      "metadata": {
        "id": "zWH4_xsoeBFH",
        "colab": {
          "base_uri": "https://localhost:8080/",
          "height": 1000
        },
        "outputId": "9c8df568-5cb7-4703-862c-d47bba832705"
      },
      "source": [
        "wildfire_perimeters = gpd.read_file(\"/content/drive/MyDrive/Colab Notebooks/Historic_GeoMAC_Perimeters_Combined_2000-2018-shp/US_HIST_FIRE_PERIMTRS_2000_2018_DD83.shp\")\r\n",
        "wildfire_perimeters"
      ],
      "execution_count": null,
      "outputs": [
        {
          "output_type": "execute_result",
          "data": {
            "text/html": [
              "<div>\n",
              "<style scoped>\n",
              "    .dataframe tbody tr th:only-of-type {\n",
              "        vertical-align: middle;\n",
              "    }\n",
              "\n",
              "    .dataframe tbody tr th {\n",
              "        vertical-align: top;\n",
              "    }\n",
              "\n",
              "    .dataframe thead th {\n",
              "        text-align: right;\n",
              "    }\n",
              "</style>\n",
              "<table border=\"1\" class=\"dataframe\">\n",
              "  <thead>\n",
              "    <tr style=\"text-align: right;\">\n",
              "      <th></th>\n",
              "      <th>FID</th>\n",
              "      <th>agency</th>\n",
              "      <th>comments</th>\n",
              "      <th>mapmethod</th>\n",
              "      <th>datecurren</th>\n",
              "      <th>uniquefire</th>\n",
              "      <th>fireyear</th>\n",
              "      <th>incidentna</th>\n",
              "      <th>pooownerun</th>\n",
              "      <th>perimeterd</th>\n",
              "      <th>gisacres</th>\n",
              "      <th>complexnam</th>\n",
              "      <th>firecode</th>\n",
              "      <th>complexpar</th>\n",
              "      <th>poorespons</th>\n",
              "      <th>state</th>\n",
              "      <th>inciwebid</th>\n",
              "      <th>localincid</th>\n",
              "      <th>irwinid</th>\n",
              "      <th>incomplex</th>\n",
              "      <th>complexfir</th>\n",
              "      <th>SHAPE_Leng</th>\n",
              "      <th>SHAPE_Area</th>\n",
              "      <th>geometry</th>\n",
              "    </tr>\n",
              "  </thead>\n",
              "  <tbody>\n",
              "    <tr>\n",
              "      <th>0</th>\n",
              "      <td>1</td>\n",
              "      <td>USFS</td>\n",
              "      <td>WFDSS</td>\n",
              "      <td>GPS-Walked/ Driven</td>\n",
              "      <td>2018-02-14</td>\n",
              "      <td>2018-AZCNF-000059</td>\n",
              "      <td>2018</td>\n",
              "      <td>BOX</td>\n",
              "      <td>AZCNF</td>\n",
              "      <td>2018-02-12</td>\n",
              "      <td>79.73</td>\n",
              "      <td>None</td>\n",
              "      <td>LK58</td>\n",
              "      <td>None</td>\n",
              "      <td>AZCNF</td>\n",
              "      <td>AZ</td>\n",
              "      <td>None</td>\n",
              "      <td>000059</td>\n",
              "      <td>{9A5CFD7A-5C05-40E6-A617-088B44A41174}</td>\n",
              "      <td>N</td>\n",
              "      <td>None</td>\n",
              "      <td>2.58e-02</td>\n",
              "      <td>3.07e-05</td>\n",
              "      <td>POLYGON ((-110.84899 31.77031, -110.84937 31.7...</td>\n",
              "    </tr>\n",
              "    <tr>\n",
              "      <th>1</th>\n",
              "      <td>2</td>\n",
              "      <td>USFS</td>\n",
              "      <td>WFDSS</td>\n",
              "      <td>GPS-Walked/ Driven</td>\n",
              "      <td>2018-04-06</td>\n",
              "      <td>2018-AROUF-000688</td>\n",
              "      <td>2018</td>\n",
              "      <td>Zoe</td>\n",
              "      <td>AROUF</td>\n",
              "      <td>2018-04-05</td>\n",
              "      <td>0.20</td>\n",
              "      <td>None</td>\n",
              "      <td>LMT8</td>\n",
              "      <td>None</td>\n",
              "      <td>AROUF</td>\n",
              "      <td>OK</td>\n",
              "      <td>None</td>\n",
              "      <td>000688</td>\n",
              "      <td>{5AFC28D0-6193-4103-AE00-65F4E659CA55}</td>\n",
              "      <td>N</td>\n",
              "      <td>None</td>\n",
              "      <td>1.29e-03</td>\n",
              "      <td>8.05e-08</td>\n",
              "      <td>POLYGON ((-94.57675 34.78029, -94.57685 34.780...</td>\n",
              "    </tr>\n",
              "    <tr>\n",
              "      <th>2</th>\n",
              "      <td>3</td>\n",
              "      <td>C&amp;L</td>\n",
              "      <td>WFDSS</td>\n",
              "      <td>Hand Sketch</td>\n",
              "      <td>2017-04-24</td>\n",
              "      <td>2017-CORBX-000061</td>\n",
              "      <td>2017</td>\n",
              "      <td>Milemarker 24</td>\n",
              "      <td>None</td>\n",
              "      <td>2017-04-21</td>\n",
              "      <td>83.00</td>\n",
              "      <td>None</td>\n",
              "      <td>None</td>\n",
              "      <td>None</td>\n",
              "      <td>CORBX</td>\n",
              "      <td>CO</td>\n",
              "      <td>None</td>\n",
              "      <td>000061</td>\n",
              "      <td>{9C1A9E10-8FA8-4166-A212-EAF39A860469}</td>\n",
              "      <td>N</td>\n",
              "      <td>None</td>\n",
              "      <td>3.75e-02</td>\n",
              "      <td>3.54e-05</td>\n",
              "      <td>POLYGON ((-107.59472 40.00728, -107.59467 40.0...</td>\n",
              "    </tr>\n",
              "    <tr>\n",
              "      <th>3</th>\n",
              "      <td>4</td>\n",
              "      <td>BLM</td>\n",
              "      <td>None</td>\n",
              "      <td>GPS-Walked</td>\n",
              "      <td>2017-07-13</td>\n",
              "      <td>2017-IDIFD-017076</td>\n",
              "      <td>2017</td>\n",
              "      <td>Buffalo Jump</td>\n",
              "      <td>None</td>\n",
              "      <td>2017-06-25</td>\n",
              "      <td>5.48</td>\n",
              "      <td>None</td>\n",
              "      <td>K20G</td>\n",
              "      <td>None</td>\n",
              "      <td>IDIFD</td>\n",
              "      <td>ID</td>\n",
              "      <td>None</td>\n",
              "      <td>017076</td>\n",
              "      <td>{833B0C23-A630-4181-A76C-3451386E970E}</td>\n",
              "      <td>N</td>\n",
              "      <td>None</td>\n",
              "      <td>1.36e-02</td>\n",
              "      <td>2.51e-06</td>\n",
              "      <td>POLYGON ((-114.22769 44.44964, -114.22769 44.4...</td>\n",
              "    </tr>\n",
              "    <tr>\n",
              "      <th>4</th>\n",
              "      <td>5</td>\n",
              "      <td>DFR</td>\n",
              "      <td>WFDSS; This is a heads up drawing based on EGP...</td>\n",
              "      <td>Image Interpretation</td>\n",
              "      <td>2017-02-06</td>\n",
              "      <td>2017-NCNCS-170004</td>\n",
              "      <td>2017</td>\n",
              "      <td>SUGAR COVE</td>\n",
              "      <td>NCNCS</td>\n",
              "      <td>2017-01-30</td>\n",
              "      <td>126.73</td>\n",
              "      <td>None</td>\n",
              "      <td>KU8Q</td>\n",
              "      <td>None</td>\n",
              "      <td>NCNCS</td>\n",
              "      <td>NC</td>\n",
              "      <td>None</td>\n",
              "      <td>170004</td>\n",
              "      <td>{76278212-B950-430A-8042-4F8C239DCEA2}</td>\n",
              "      <td>N</td>\n",
              "      <td>None</td>\n",
              "      <td>2.64e-02</td>\n",
              "      <td>5.11e-05</td>\n",
              "      <td>POLYGON ((-82.14783 35.74547, -82.14921 35.746...</td>\n",
              "    </tr>\n",
              "    <tr>\n",
              "      <th>...</th>\n",
              "      <td>...</td>\n",
              "      <td>...</td>\n",
              "      <td>...</td>\n",
              "      <td>...</td>\n",
              "      <td>...</td>\n",
              "      <td>...</td>\n",
              "      <td>...</td>\n",
              "      <td>...</td>\n",
              "      <td>...</td>\n",
              "      <td>...</td>\n",
              "      <td>...</td>\n",
              "      <td>...</td>\n",
              "      <td>...</td>\n",
              "      <td>...</td>\n",
              "      <td>...</td>\n",
              "      <td>...</td>\n",
              "      <td>...</td>\n",
              "      <td>...</td>\n",
              "      <td>...</td>\n",
              "      <td>...</td>\n",
              "      <td>...</td>\n",
              "      <td>...</td>\n",
              "      <td>...</td>\n",
              "      <td>...</td>\n",
              "    </tr>\n",
              "    <tr>\n",
              "      <th>23771</th>\n",
              "      <td>23772</td>\n",
              "      <td>USFS</td>\n",
              "      <td>None</td>\n",
              "      <td>Unknown</td>\n",
              "      <td>2014-08-15</td>\n",
              "      <td>2014-CAKNF-005564</td>\n",
              "      <td>2014</td>\n",
              "      <td>Waterfall</td>\n",
              "      <td>None</td>\n",
              "      <td>2014-08-15</td>\n",
              "      <td>6.09</td>\n",
              "      <td>July Complex</td>\n",
              "      <td>None</td>\n",
              "      <td>{C60F8D84-5F11-4B47-9756-7B44C56BBA8F}</td>\n",
              "      <td>CAKNF</td>\n",
              "      <td>CA</td>\n",
              "      <td>4035</td>\n",
              "      <td>005564</td>\n",
              "      <td>{C60F8D84-5F11-4B47-9756-7B44C56BBA8F}</td>\n",
              "      <td>Y</td>\n",
              "      <td>H91E</td>\n",
              "      <td>1.18e-02</td>\n",
              "      <td>2.66e-06</td>\n",
              "      <td>MULTIPOLYGON (((-123.13677 41.54026, -123.1369...</td>\n",
              "    </tr>\n",
              "    <tr>\n",
              "      <th>23772</th>\n",
              "      <td>23773</td>\n",
              "      <td>USFS</td>\n",
              "      <td>None</td>\n",
              "      <td>Unknown</td>\n",
              "      <td>2014-09-09</td>\n",
              "      <td>2014-CAKNF-006001</td>\n",
              "      <td>2014</td>\n",
              "      <td>Jackson</td>\n",
              "      <td>None</td>\n",
              "      <td>2014-09-08</td>\n",
              "      <td>28.74</td>\n",
              "      <td>Happy Camp Complex</td>\n",
              "      <td>None</td>\n",
              "      <td>{6787d235-42f9-4973-a979-83d823328d5f}</td>\n",
              "      <td>CAKNF</td>\n",
              "      <td>CA</td>\n",
              "      <td>4078</td>\n",
              "      <td>006001</td>\n",
              "      <td>{B4F9BDC8-12C4-4617-9E08-D27828FDB25A}</td>\n",
              "      <td>Y</td>\n",
              "      <td>JB1F</td>\n",
              "      <td>2.22e-02</td>\n",
              "      <td>1.26e-05</td>\n",
              "      <td>POLYGON ((-123.33975 41.86064, -123.33964 41.8...</td>\n",
              "    </tr>\n",
              "    <tr>\n",
              "      <th>23773</th>\n",
              "      <td>23774</td>\n",
              "      <td>USFS</td>\n",
              "      <td>None</td>\n",
              "      <td>Unknown</td>\n",
              "      <td>2014-07-23</td>\n",
              "      <td>2014-CAMDF-000344</td>\n",
              "      <td>2014</td>\n",
              "      <td>Lake</td>\n",
              "      <td>None</td>\n",
              "      <td>2014-07-08</td>\n",
              "      <td>58.10</td>\n",
              "      <td>Modoc July Complex</td>\n",
              "      <td>None</td>\n",
              "      <td>{826d235c-63c2-4204-94db-c28d420a0d1a}</td>\n",
              "      <td>CAMDF</td>\n",
              "      <td>CA</td>\n",
              "      <td>3919</td>\n",
              "      <td>000344</td>\n",
              "      <td>None</td>\n",
              "      <td>Y</td>\n",
              "      <td>H6WX</td>\n",
              "      <td>4.25e-02</td>\n",
              "      <td>2.55e-05</td>\n",
              "      <td>POLYGON ((-121.01979 41.78519, -121.01945 41.7...</td>\n",
              "    </tr>\n",
              "    <tr>\n",
              "      <th>23774</th>\n",
              "      <td>23775</td>\n",
              "      <td>USFS</td>\n",
              "      <td>IR heat perimeter; no entry in FireCode</td>\n",
              "      <td>Infrared Image</td>\n",
              "      <td>2014-09-25</td>\n",
              "      <td>2014-IDNCF-000675</td>\n",
              "      <td>2014</td>\n",
              "      <td>Crew Creek</td>\n",
              "      <td>None</td>\n",
              "      <td>2014-09-23</td>\n",
              "      <td>14.16</td>\n",
              "      <td>None</td>\n",
              "      <td>None</td>\n",
              "      <td>None</td>\n",
              "      <td>IDNCF</td>\n",
              "      <td>ID</td>\n",
              "      <td>None</td>\n",
              "      <td>000675</td>\n",
              "      <td>{23CCE360-8D7E-419F-AF6B-89D88EBB9AE2}</td>\n",
              "      <td>N</td>\n",
              "      <td>None</td>\n",
              "      <td>3.50e-02</td>\n",
              "      <td>6.68e-06</td>\n",
              "      <td>MULTIPOLYGON (((-114.84670 46.19058, -114.8468...</td>\n",
              "    </tr>\n",
              "    <tr>\n",
              "      <th>23775</th>\n",
              "      <td>23776</td>\n",
              "      <td>State Agency</td>\n",
              "      <td>GPS</td>\n",
              "      <td>GPS-Unknown Travel Method</td>\n",
              "      <td>2015-02-06</td>\n",
              "      <td>2014-OR722S-000150</td>\n",
              "      <td>2014</td>\n",
              "      <td>Bone Mountain Complex</td>\n",
              "      <td>None</td>\n",
              "      <td>2014-12-16</td>\n",
              "      <td>799.77</td>\n",
              "      <td>Bone Mountain Complex</td>\n",
              "      <td>None</td>\n",
              "      <td>None</td>\n",
              "      <td>OR722S</td>\n",
              "      <td>OR</td>\n",
              "      <td>None</td>\n",
              "      <td>000150</td>\n",
              "      <td>None</td>\n",
              "      <td>Y</td>\n",
              "      <td>None</td>\n",
              "      <td>2.30e-01</td>\n",
              "      <td>3.57e-04</td>\n",
              "      <td>MULTIPOLYGON (((-123.87571 42.93444, -123.8753...</td>\n",
              "    </tr>\n",
              "  </tbody>\n",
              "</table>\n",
              "<p>23776 rows × 24 columns</p>\n",
              "</div>"
            ],
            "text/plain": [
              "         FID        agency                                           comments                  mapmethod  datecurren          uniquefire  fireyear             incidentna pooownerun  perimeterd  gisacres             complexnam firecode                              complexpar poorespons state inciwebid localincid                                 irwinid incomplex complexfir  SHAPE_Leng  SHAPE_Area                                           geometry\n",
              "0          1          USFS                                              WFDSS         GPS-Walked/ Driven  2018-02-14   2018-AZCNF-000059      2018                    BOX      AZCNF  2018-02-12     79.73                   None     LK58                                    None      AZCNF    AZ      None     000059  {9A5CFD7A-5C05-40E6-A617-088B44A41174}         N       None    2.58e-02    3.07e-05  POLYGON ((-110.84899 31.77031, -110.84937 31.7...\n",
              "1          2          USFS                                              WFDSS         GPS-Walked/ Driven  2018-04-06   2018-AROUF-000688      2018                    Zoe      AROUF  2018-04-05      0.20                   None     LMT8                                    None      AROUF    OK      None     000688  {5AFC28D0-6193-4103-AE00-65F4E659CA55}         N       None    1.29e-03    8.05e-08  POLYGON ((-94.57675 34.78029, -94.57685 34.780...\n",
              "2          3           C&L                                              WFDSS                Hand Sketch  2017-04-24   2017-CORBX-000061      2017          Milemarker 24       None  2017-04-21     83.00                   None     None                                    None      CORBX    CO      None     000061  {9C1A9E10-8FA8-4166-A212-EAF39A860469}         N       None    3.75e-02    3.54e-05  POLYGON ((-107.59472 40.00728, -107.59467 40.0...\n",
              "3          4           BLM                                               None                 GPS-Walked  2017-07-13   2017-IDIFD-017076      2017           Buffalo Jump       None  2017-06-25      5.48                   None     K20G                                    None      IDIFD    ID      None     017076  {833B0C23-A630-4181-A76C-3451386E970E}         N       None    1.36e-02    2.51e-06  POLYGON ((-114.22769 44.44964, -114.22769 44.4...\n",
              "4          5           DFR  WFDSS; This is a heads up drawing based on EGP...       Image Interpretation  2017-02-06   2017-NCNCS-170004      2017             SUGAR COVE      NCNCS  2017-01-30    126.73                   None     KU8Q                                    None      NCNCS    NC      None     170004  {76278212-B950-430A-8042-4F8C239DCEA2}         N       None    2.64e-02    5.11e-05  POLYGON ((-82.14783 35.74547, -82.14921 35.746...\n",
              "...      ...           ...                                                ...                        ...         ...                 ...       ...                    ...        ...         ...       ...                    ...      ...                                     ...        ...   ...       ...        ...                                     ...       ...        ...         ...         ...                                                ...\n",
              "23771  23772          USFS                                               None                    Unknown  2014-08-15   2014-CAKNF-005564      2014              Waterfall       None  2014-08-15      6.09           July Complex     None  {C60F8D84-5F11-4B47-9756-7B44C56BBA8F}      CAKNF    CA      4035     005564  {C60F8D84-5F11-4B47-9756-7B44C56BBA8F}         Y       H91E    1.18e-02    2.66e-06  MULTIPOLYGON (((-123.13677 41.54026, -123.1369...\n",
              "23772  23773          USFS                                               None                    Unknown  2014-09-09   2014-CAKNF-006001      2014                Jackson       None  2014-09-08     28.74     Happy Camp Complex     None  {6787d235-42f9-4973-a979-83d823328d5f}      CAKNF    CA      4078     006001  {B4F9BDC8-12C4-4617-9E08-D27828FDB25A}         Y       JB1F    2.22e-02    1.26e-05  POLYGON ((-123.33975 41.86064, -123.33964 41.8...\n",
              "23773  23774          USFS                                               None                    Unknown  2014-07-23   2014-CAMDF-000344      2014                   Lake       None  2014-07-08     58.10     Modoc July Complex     None  {826d235c-63c2-4204-94db-c28d420a0d1a}      CAMDF    CA      3919     000344                                    None         Y       H6WX    4.25e-02    2.55e-05  POLYGON ((-121.01979 41.78519, -121.01945 41.7...\n",
              "23774  23775          USFS            IR heat perimeter; no entry in FireCode             Infrared Image  2014-09-25   2014-IDNCF-000675      2014             Crew Creek       None  2014-09-23     14.16                   None     None                                    None      IDNCF    ID      None     000675  {23CCE360-8D7E-419F-AF6B-89D88EBB9AE2}         N       None    3.50e-02    6.68e-06  MULTIPOLYGON (((-114.84670 46.19058, -114.8468...\n",
              "23775  23776  State Agency                                                GPS  GPS-Unknown Travel Method  2015-02-06  2014-OR722S-000150      2014  Bone Mountain Complex       None  2014-12-16    799.77  Bone Mountain Complex     None                                    None     OR722S    OR      None     000150                                    None         Y       None    2.30e-01    3.57e-04  MULTIPOLYGON (((-123.87571 42.93444, -123.8753...\n",
              "\n",
              "[23776 rows x 24 columns]"
            ]
          },
          "metadata": {
            "tags": []
          },
          "execution_count": 62
        }
      ]
    },
    {
      "cell_type": "code",
      "metadata": {
        "id": "tSJ51tEsQ0_C"
      },
      "source": [
        "# def points_from_polygons(polygons):\r\n",
        "#     points = []\r\n",
        "#     for mpoly in polygons:\r\n",
        "#         if isinstance(mpoly, MultiPolygon):\r\n",
        "#             polys = list(mpoly)\r\n",
        "#         else:\r\n",
        "#             polys = [mpoly]\r\n",
        "#         for polygon in polys:\r\n",
        "#             for point in polygon.exterior.coords:\r\n",
        "#                 points.append(point)\r\n",
        "#             for interior in polygon.interiors:\r\n",
        "#                 for point in interior.coords:\r\n",
        "#                     points.append(point)\r\n",
        "#     return points\r\n",
        "\r\n",
        "# points = points_from_polygons(wildfire_perimeters.geometry)\r\n",
        "#x = [point.x for point in points]\r\n",
        "#y = [point.y for point in points]"
      ],
      "execution_count": null,
      "outputs": []
    },
    {
      "cell_type": "code",
      "metadata": {
        "id": "RIccVdOQSqKc"
      },
      "source": [
        "# wildfire_perimeters.geometry[1]"
      ],
      "execution_count": null,
      "outputs": []
    },
    {
      "cell_type": "code",
      "metadata": {
        "id": "xfr2dI6rT0Lr"
      },
      "source": [
        "# points"
      ],
      "execution_count": null,
      "outputs": []
    },
    {
      "cell_type": "code",
      "metadata": {
        "id": "B8ObAAjRS1_m"
      },
      "source": [
        ""
      ],
      "execution_count": null,
      "outputs": []
    }
  ]
}